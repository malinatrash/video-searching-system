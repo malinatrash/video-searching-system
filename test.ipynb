{
 "cells": [
  {
   "cell_type": "code",
   "execution_count": null,
   "id": "66538065-815f-4b8a-9eea-f7dbeb34476c",
   "metadata": {},
   "outputs": [],
   "source": [
    "import json\n",
    "import math\n",
    "import os\n",
    "import time\n",
    "from functools import partial\n",
    "from urllib.parse import urlencode\n",
    "from fastparquet import write\n",
    "import faiss\n",
    "import numpy as np\n",
    "import pandas as pd\n",
    "import pyarrow.parquet as pq\n",
    "\n",
    "import requests\n",
    "from catboost import CatBoostRanker, Pool\n",
    "from faiss import read_index, write_index\n",
    "from sentence_transformers import SentenceTransformer"
   ]
  },
  {
   "cell_type": "code",
   "execution_count": null,
   "id": "59ec6f09-6f60-4fdb-a799-bbe2e750f673",
   "metadata": {},
   "outputs": [],
   "source": [
    "st_model = SentenceTransformer(\"symanto/sn-xlm-roberta-base-snli-mnli-anli-xnli\", device=\"cuda\") #cuda cointegrated/rubert-tiny2\n",
    "from_file = CatBoostRanker()\n",
    "from_file.load_model(\"ranker.ckpt\")\n",
    "with open(\"ind2videoid.json\", \"r\") as f:\n",
    "    ind2videoid = json.load(f)\n"
   ]
  },
  {
   "cell_type": "code",
   "execution_count": null,
   "id": "78d78ebd-4a9c-4a23-9079-e9c94bef7382",
   "metadata": {},
   "outputs": [],
   "source": [
    "df_test = pd.read_csv('./test_dataset_submission_queries.csv')\n",
    "queries = df_test['query']\n",
    "qembeddings = st_model.encode(queries, show_progress_bar=True)#batch_size=1000, "
   ]
  },
  {
   "cell_type": "code",
   "execution_count": null,
   "id": "cf72cb59-ad7c-4176-b5ba-029d841c2bbc",
   "metadata": {},
   "outputs": [],
   "source": [
    "search_cpu_index = read_index(\"candidates.index\")\n",
    "search_cpu_index.is_trained, search_cpu_index.ntotal"
   ]
  },
  {
   "cell_type": "code",
   "execution_count": null,
   "id": "b766637b-dc26-44d2-a361-2bd3260e688e",
   "metadata": {},
   "outputs": [],
   "source": [
    "batch_size = 500\n",
    "topk = 300\n",
    "num_batches = math.ceil(len(queries) / batch_size)\n",
    "distance, faiss_ind = [], []\n",
    "for i in range(num_batches):\n",
    "    print(i)\n",
    "    start, end = i * batch_size, (i + 1) * batch_size\n",
    "    corpus_batch = qembeddings[start:end]\n",
    "    distanceq, faiss_indq = search_cpu_index.search(corpus_batch, topk)\n",
    "    distance.append(distanceq)\n",
    "    faiss_ind.append(faiss_indq)"
   ]
  },
  {
   "cell_type": "code",
   "execution_count": null,
   "id": "eb6a4ab2-b085-4036-83c2-464992f52b82",
   "metadata": {},
   "outputs": [],
   "source": [
    "new = [ i[:] for i in distance]\n",
    "distance = np.array(new).reshape(2000,300)\n",
    "new = [ i[:] for i in faiss_ind]\n",
    "faiss_ind = np.array(faiss_ind).reshape(2000,300)"
   ]
  },
  {
   "cell_type": "code",
   "execution_count": null,
   "id": "a9510f5b-f8ed-4d87-b89e-3c76cca8e006",
   "metadata": {},
   "outputs": [],
   "source": [
    "from tqdm import tqdm\n",
    "dtype = [('distance', float), ('index', int)]\n",
    "generated_cand_name = \"generated_candidates.parquet\"\n",
    "\n",
    "generated_cand = {\"query\": [], \"video_id\": [], \"top\":[]}\n",
    "pbar = tqdm(total=len(queries))\n",
    "for i, q in enumerate(queries):\n",
    "    vids = faiss_ind[i]\n",
    "    dist = distance[i]\n",
    "    percentel = np.percentile(dist,2.5)\n",
    "    sorted_output = np.sort(np.array([(i,j) for i,j in zip(dist, faiss_ind[i])], dtype=dtype), order='distance')\n",
    "    generated_cand[\"video_id\"] += [ind2videoid[str(v)] for v in vids]\n",
    "    generated_cand[\"query\"] += [q] * len(vids)\n",
    "    if int(distance[i][0]) == 0:\n",
    "        generated_cand[\"top\"] += [1 if d<5 else 0 for d, i in sorted_output]\n",
    "    else:\n",
    "        mulp_dist =dist[0]*2\n",
    "        generated_cand[\"top\"] += [1 if d<percentel and d<mulp_dist else 0 for d, i in sorted_output]\n",
    "    pbar.update(1)\n",
    "pbar.close()\n",
    "generated_cand = pd.DataFrame(generated_cand)"
   ]
  },
  {
   "cell_type": "code",
   "execution_count": null,
   "id": "db0a923c-c466-4080-a438-8a609d40a149",
   "metadata": {},
   "outputs": [],
   "source": [
    "features_parquet = pq.ParquetFile(\"features.parquet\")\n",
    "featuresArr, filter_date = [], \"2023-05-02\"\n",
    "\n",
    "for batch in features_parquet.iter_batches():\n",
    "    tmp = batch.to_pandas()\n",
    "    featuresArr.append( tmp[tmp[\"report_date\"] == filter_date])\n",
    "\n",
    "features = pd.concat(featuresArr, axis=0)\n",
    "features = features.drop(\n",
    "    [\"v_channel_reg_datetime\", \"v_pub_datetime\",\"v_channel_type\", \"v_category\"], axis=1 # \"v_channel_type\", \"v_category\",\n",
    ")"
   ]
  },
  {
   "cell_type": "code",
   "execution_count": null,
   "id": "0f143925-efdf-4833-9696-4ed8dcaf5432",
   "metadata": {},
   "outputs": [],
   "source": [
    "automarkup = pd.read_parquet(\"automarkup.parquet\", engine=\"fastparquet\")\n",
    "automarkup_percent = automarkup.drop(columns=[\n",
    "    'query','datetime','is_authorized','position','position','vtop','comment','channel','tv_show','season','emotion'])#, 'target'\n",
    "percent_of_watch = automarkup_percent.groupby(['video_id']).median()\n",
    "percent_of_watch['percent_of_watch'] = (percent_of_watch['watchtime'] * 1000) / percent_of_watch['duration']\n",
    "percent_of_watch = percent_of_watch.drop(columns=['duration','watchtime'])"
   ]
  },
  {
   "cell_type": "code",
   "execution_count": null,
   "id": "7e1f692e-7620-4a29-90d0-34b16989d6b3",
   "metadata": {},
   "outputs": [],
   "source": [
    "full_df = generated_cand.merge(\n",
    "    features, how=\"left\", left_on=\"video_id\", right_on=\"video_id\"\n",
    ")\n",
    "# del features\n",
    "full_df = full_df.drop(\"report_date\", axis=1)\n",
    "full_df = full_df.drop_duplicates()"
   ]
  },
  {
   "cell_type": "code",
   "execution_count": null,
   "id": "f3598b5e-1527-451f-8b51-7744e83bb02f",
   "metadata": {},
   "outputs": [],
   "source": [
    "from catboost import CatBoostClassifier\n",
    "\n",
    "clickbait_clf = CatBoostClassifier()\n",
    "clickbait_clf.load_model(\"clickbait_clf.ckpt\")\n",
    "is_clickbait = clickbait_clf.predict(full_df[clickbait_dataset_cols])\n",
    "full_df['clickbait'] = is_clickbait"
   ]
  },
  {
   "cell_type": "code",
   "execution_count": null,
   "id": "b82bfe4e-aac5-412f-bed4-da57f6c9bdb4",
   "metadata": {},
   "outputs": [],
   "source": [
    "full_df = full_df.merge(\n",
    "    percent_of_watch, how=\"left\", left_on=\"video_id\", right_on=\"video_id\"\n",
    ")"
   ]
  },
  {
   "cell_type": "code",
   "execution_count": null,
   "id": "e8cbfffe-104d-4e9b-a0d4-22a5cc6d94f7",
   "metadata": {},
   "outputs": [],
   "source": []
  },
  {
   "cell_type": "code",
   "execution_count": null,
   "id": "8dfa9c55-25f8-4a8f-8e46-356fd0b784c5",
   "metadata": {},
   "outputs": [],
   "source": []
  },
  {
   "cell_type": "code",
   "execution_count": null,
   "id": "4c54a531-0098-4e95-a12d-ea6c7aa633dd",
   "metadata": {},
   "outputs": [],
   "source": []
  },
  {
   "cell_type": "code",
   "execution_count": null,
   "id": "3b3262c2-50b0-4c9d-a057-51baefab44ca",
   "metadata": {},
   "outputs": [],
   "source": []
  },
  {
   "cell_type": "code",
   "execution_count": null,
   "id": "38e59c48-e88e-4e6f-b102-794a1fc5df42",
   "metadata": {},
   "outputs": [],
   "source": []
  },
  {
   "cell_type": "code",
   "execution_count": null,
   "id": "bd35b0e7-9f29-4968-aff6-d03f3983625c",
   "metadata": {},
   "outputs": [],
   "source": []
  }
 ],
 "metadata": {
  "kernelspec": {
   "display_name": "DataSphere Kernel",
   "language": "python",
   "name": "python3"
  },
  "language_info": {
   "codemirror_mode": {
    "name": "ipython",
    "version": 3
   },
   "file_extension": ".py",
   "mimetype": "text/x-python",
   "name": "python",
   "nbconvert_exporter": "python",
   "pygments_lexer": "ipython3",
   "version": "3.7.7"
  }
 },
 "nbformat": 4,
 "nbformat_minor": 5
}
