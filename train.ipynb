{
 "cells": [
  {
   "cell_type": "code",
   "execution_count": null,
   "id": "9fde0fc8-e381-4910-ac04-133fc96b15a4",
   "metadata": {},
   "outputs": [],
   "source": [
    "import json\n",
    "import math\n",
    "import os\n",
    "import time\n",
    "from functools import partial\n",
    "from urllib.parse import urlencode\n",
    "from fastparquet import write\n",
    "import faiss\n",
    "import numpy as np\n",
    "import pandas as pd\n",
    "import pyarrow.parquet as pq\n",
    "\n",
    "import requests\n",
    "from catboost import CatBoostRanker, Pool\n",
    "from faiss import read_index, write_index\n",
    "from sentence_transformers import SentenceTransformer"
   ]
  },
  {
   "cell_type": "code",
   "execution_count": null,
   "id": "58a179cf-4bd4-4bcc-81ff-e466631d6f75",
   "metadata": {},
   "outputs": [],
   "source": [
    "# %pip install -r ./requirements.txt."
   ]
  },
  {
   "cell_type": "code",
   "execution_count": null,
   "id": "b1491a77-1a80-4f43-872b-d0e0910973be",
   "metadata": {},
   "outputs": [],
   "source": [
    "def download_file(pk, local_name):\n",
    "    base_url = \"https://cloud-api.yandex.net/v1/disk/public/resources/download?\"\n",
    "\n",
    "    final_url = base_url + urlencode(dict(public_key=pk))\n",
    "    response = requests.get(final_url)\n",
    "    download_url = response.json()[\"href\"]\n",
    "\n",
    "    download_response = requests.get(download_url)\n",
    "    with open(local_name, \"wb\") as f:\n",
    "        f.write(download_response.content)\n",
    "        print(f\"File {local_name} downloaded\")\n",
    "\n",
    "def download_from_yandex_disk():\n",
    "    files = {\n",
    "        \"features.parquet\": \"https://disk.yandex.ru/d/W_qJitz4dZGzAg\",\n",
    "        \"videos.parquet\": \"https://disk.yandex.ru/d/JXz-oDfKFgm2Dw\",\n",
    "        \"automarkup.parquet\": \"https://disk.yandex.ru/d/vP0FzQHdtxsz4Q\",\n",
    "        \"manualmarkup.csv\": \"https://disk.yandex.ru/d/hDztN1rgW0JNjw\",\n",
    "    }\n",
    "\n",
    "    filenames, filenames_to_delete = files.keys(), []\n",
    "    for filename in filenames:\n",
    "        if os.path.exists(filename):\n",
    "            filenames_to_delete += [filename]\n",
    "    for filename in filenames_to_delete:\n",
    "        del files[filename]\n",
    "\n",
    "    print(f\"Will be download {len(files)} files\")\n",
    "    for filename, link in files.items():\n",
    "        print(f\"{filename} downloading in progress\")\n",
    "        download_file(link, filename)\n",
    "        print(f\"{filename} downloaded\")"
   ]
  },
  {
   "cell_type": "code",
   "execution_count": null,
   "id": "13529a03-bcd2-4b50-84e5-56c51627cde7",
   "metadata": {},
   "outputs": [],
   "source": [
    "download_from_yandex_disk()"
   ]
  },
  {
   "cell_type": "code",
   "execution_count": null,
   "id": "1de09fac-ad13-42a1-a039-aa89e4b02998",
   "metadata": {},
   "outputs": [],
   "source": [
    "seed = 42\n",
    "np.random.seed(seed)"
   ]
  },
  {
   "cell_type": "code",
   "execution_count": null,
   "id": "7eb7e631-e935-4adb-87c9-154c85a26f1e",
   "metadata": {},
   "outputs": [],
   "source": [
    "candidates = pd.read_parquet(\n",
    "    \"videos.parquet\", engine=\"fastparquet\", columns=[\"video_id\", \"video_title\"]\n",
    ")"
   ]
  },
  {
   "cell_type": "code",
   "execution_count": null,
   "id": "001dcbc6-c9cc-41b4-98e3-e6355beb087f",
   "metadata": {},
   "outputs": [],
   "source": [
    "features_parquet1 = pd.read_parquet(\"features.parquet\")\n",
    "features_parquet1.drop_duplicates(subset=['video_id'], inplace=True)\n",
    "features_parquet1['asd'] = features_parquet1['v_year_views']+\\\n",
    "        features_parquet1['v_month_views']+\\\n",
    "        features_parquet1['v_week_views']+\\\n",
    "        features_parquet1['v_likes']+\\\n",
    "        features_parquet1['v_dislikes']+\\\n",
    "        features_parquet1['total_comments']"
   ]
  },
  {
   "cell_type": "code",
   "execution_count": null,
   "id": "5cc561ea-0526-4ad5-88b1-4b2de850137f",
   "metadata": {},
   "outputs": [],
   "source": [
    "new_cd = candidates[(candidates['video_title'] != '') & (candidates['video_title'] != 'Без названия') & (candidates['video_title'].str.len() > 5)]\n",
    "new_cd.drop_duplicates(inplace=True)\n",
    "new_cd"
   ]
  },
  {
   "cell_type": "code",
   "execution_count": null,
   "id": "cee4371e-ee84-414c-b002-47392fc61da5",
   "metadata": {},
   "outputs": [],
   "source": [
    "full_df = new_cd.merge(\n",
    "    features_parquet1[features_parquet1['asd'] > 5], how=\"right\", left_on=\"video_id\", right_on=\"video_id\"\n",
    ")\n",
    "full_df"
   ]
  },
  {
   "cell_type": "code",
   "execution_count": null,
   "id": "3bc3d162-5e08-4608-a3a6-80df1d038a4c",
   "metadata": {},
   "outputs": [],
   "source": [
    "corpus = full_df[\"video_title\"].apply(lambda x: str(x).lower().strip()).values\n",
    "video_ids = full_df[\"video_id\"].values"
   ]
  },
  {
   "cell_type": "code",
   "execution_count": null,
   "id": "8d54477f-294c-446f-a39f-b8b233ad3d60",
   "metadata": {},
   "outputs": [],
   "source": [
    "st_model = SentenceTransformer(\"cointegrated/rubert-tiny2\", device=\"cpu\")"
   ]
  },
  {
   "cell_type": "code",
   "execution_count": null,
   "id": "31d7fdac-a748-4b05-b2b7-f057a852e40e",
   "metadata": {},
   "outputs": [],
   "source": [
    "d = 312\n",
    "cpu_index = faiss.IndexFlatL2(d)\n",
    "cpu_index.is_trained, cpu_index.ntotal"
   ]
  },
  {
   "cell_type": "code",
   "execution_count": null,
   "id": "fc4d56e7-dcf8-4273-b262-3d04c4755611",
   "metadata": {},
   "outputs": [],
   "source": [
    "ind2videoid = {ind: video_id for ind, video_id in enumerate(video_ids)}\n",
    "with open(\"ind2videoid-train.json\", \"w+\") as f:\n",
    "    json.dump(ind2videoid, f, indent=4)"
   ]
  },
  {
   "cell_type": "code",
   "execution_count": null,
   "id": "35745117-b267-4ed3-b413-5bf793f8db75",
   "metadata": {},
   "outputs": [],
   "source": [
    "batch_size = 1000000\n",
    "num_batches = math.ceil(len(corpus) / batch_size)"
   ]
  },
  {
   "cell_type": "code",
   "execution_count": null,
   "id": "ecbb7ccd-f39c-4416-96b8-bd6f58cf73c2",
   "metadata": {},
   "outputs": [],
   "source": [
    "try:\n",
    "    for i in range(num_batches):\n",
    "        # формируем батч\n",
    "        start, end = i * batch_size, (i + 1) * batch_size\n",
    "        corpus_batch = corpus[start:end]\n",
    "\n",
    "        # считаем вектора для всех предложений в батче\n",
    "        embeddings = st_model.encode(\n",
    "            corpus_batch, show_progress_bar=True\n",
    "        )#batch_size=num_batches,\n",
    "\n",
    "        # добавляем новые батч векторов в индекс и сохраняем его\n",
    "        cpu_index.add(embeddings)\n",
    "        write_index(cpu_index, \"candidates.index\")\n",
    "        print(f\"batch: {i + 1} / {num_batches}, vectors: {cpu_index.ntotal}\")\n",
    "        # чистим ОЗУ\n",
    "        del embeddings\n",
    "    # write_index(cpu_index, \"candidates.index\")\n",
    "except KeyboardInterrupt:\n",
    "    print(\"Остановлено пользователем\")\n",
    "    try:\n",
    "        del embeddings\n",
    "    except:\n",
    "        pass"
   ]
  },
  {
   "cell_type": "code",
   "execution_count": null,
   "id": "b666723d-0c5d-4f9d-a3b1-12ae7717e73b",
   "metadata": {},
   "outputs": [],
   "source": [
    "automarkup = pd.read_parquet(\"automarkup.parquet\", engine=\"fastparquet\")"
   ]
  },
  {
   "cell_type": "code",
   "execution_count": null,
   "id": "cafba0c2-3958-4ad9-8cfc-669acf410208",
   "metadata": {},
   "outputs": [],
   "source": [
    "automarkup = automarkup[~automarkup[\"query\"].isna()]\n",
    "automarkup[\"query\"] = automarkup[\"query\"].apply(lambda x: x.lower().strip())"
   ]
  },
  {
   "cell_type": "code",
   "execution_count": null,
   "id": "60e79416-e351-499c-882e-e6b8863a4265",
   "metadata": {},
   "outputs": [],
   "source": [
    "n = 1000\n",
    "top_n = automarkup[\"query\"].value_counts()[: int(2 * n)].index.to_list()\n",
    "other = np.array(automarkup[\"query\"].value_counts()[int(2 * n) :].index.to_list())\n",
    "random_n = np.random.choice(other, size=n, replace=False).tolist()\n",
    "queries = top_n + random_n\n",
    "query2ind = {q: i for i, q in enumerate(queries)}"
   ]
  },
  {
   "cell_type": "code",
   "execution_count": null,
   "id": "987d59e6-041e-4ed5-8b88-185734a07171",
   "metadata": {},
   "outputs": [],
   "source": [
    "use_formed_candidates = False"
   ]
  },
  {
   "cell_type": "code",
   "execution_count": null,
   "id": "9483ed5f-188a-439c-936a-834cb5b88ebd",
   "metadata": {},
   "outputs": [],
   "source": [
    "qembeddings = st_model.encode(queries, show_progress_bar=True)#batch_size=1000, "
   ]
  },
  {
   "cell_type": "code",
   "execution_count": null,
   "id": "59e41e9a-9e16-4c87-934d-d02c6c05f610",
   "metadata": {},
   "outputs": [],
   "source": [
    "search_cpu_index = read_index(\"candidates.index\")\n",
    "search_cpu_index.is_trained, search_cpu_index.ntotal"
   ]
  },
  {
   "cell_type": "code",
   "execution_count": null,
   "id": "db47c100-8e8a-4a1e-8f65-6b8ae35b2ff2",
   "metadata": {},
   "outputs": [],
   "source": [
    "topk = 300\n",
    "distance, faiss_ind = search_cpu_index.search(qembeddings, topk)"
   ]
  },
  {
   "cell_type": "code",
   "execution_count": null,
   "id": "0f994458-3e73-427b-a533-6b517f906207",
   "metadata": {},
   "outputs": [],
   "source": [
    "from tqdm import tqdm\n",
    "dtype = [('distance', float), ('index', int)]\n",
    "generated_cand_name = \"generated_candidates.parquet\"\n",
    "# distance, faiss_ind = search_cpu_index.search(qembeddings, topk)\n",
    "generated_cand = {\"query\": [], \"video_id\": [], \"top\":[]}\n",
    "pbar = tqdm(total=len(queries))\n",
    "for i, q in enumerate(queries):\n",
    "    vids = faiss_ind[i]\n",
    "    dist = distance[i]\n",
    "    percentel = np.percentile(dist,2.5)\n",
    "    sorted_output = np.sort(np.array([(i,j) for i,j in zip(dist, faiss_ind[i])], dtype=dtype), order='distance')\n",
    "    generated_cand[\"video_id\"] += [ind2videoid[str(v)] for v in vids]\n",
    "    generated_cand[\"query\"] += [q] * len(vids)\n",
    "    if int(distance[i][0]) == 0:\n",
    "        generated_cand[\"top\"] += [1 if d<5 else 0 for d, i in sorted_output]\n",
    "    else:\n",
    "        mulp_dist =dist[0]*2\n",
    "        generated_cand[\"top\"] += [1 if d<percentel and d<mulp_dist else 0 for d, i in sorted_output]\n",
    "    pbar.update(1)\n",
    "pbar.close()\n",
    "\n",
    "generated_cand = pd.DataFrame(generated_cand)\n",
    "\n",
    "generated_cand.to_parquet(generated_cand_name, engine=\"fastparquet\")\n",
    "write(generated_cand_name, generated_cand)\n"
   ]
  },
  {
   "cell_type": "code",
   "execution_count": null,
   "id": "9c5c8b55-d145-4dfd-bffb-5e86ed77a212",
   "metadata": {},
   "outputs": [],
   "source": []
  },
  {
   "cell_type": "markdown",
   "id": "dc6cfef9-bf49-44b7-b28a-ae78ef3c64ac",
   "metadata": {},
   "source": [
    "# Формирование таргета по авторазметке"
   ]
  },
  {
   "cell_type": "code",
   "execution_count": null,
   "id": "c332535d-cc57-4715-aca6-1722930e39de",
   "metadata": {},
   "outputs": [],
   "source": [
    "automarkup[\"target\"] = [1] * automarkup.shape[0]\n",
    "candidates_with_target = generated_cand.merge(\n",
    "    automarkup[[\"query\", \"video_id\", \"target\"]],\n",
    "    how=\"left\",\n",
    "    left_on=[\"query\", \"video_id\"],\n",
    "    right_on=[\"query\", \"video_id\"],\n",
    ")\n",
    "candidates_with_target[\"target\"] = candidates_with_target[\"target\"].fillna(0)"
   ]
  },
  {
   "cell_type": "code",
   "execution_count": null,
   "id": "0aa9a83d-efef-41a5-94e4-730af6c1757e",
   "metadata": {},
   "outputs": [],
   "source": [
    "features_parquet = pq.ParquetFile(\"features.parquet\")\n",
    "featuresArr, filter_date = [], \"2023-05-02\"\n",
    "\n",
    "for batch in features_parquet.iter_batches():\n",
    "    tmp = batch.to_pandas()\n",
    "    featuresArr.append( tmp[tmp[\"report_date\"] == filter_date])\n",
    "\n",
    "features = pd.concat(featuresArr, axis=0)\n",
    "features = features.drop(\n",
    "    [\"v_channel_reg_datetime\", \"v_pub_datetime\",\"v_channel_type\", \"v_category\"], axis=1 # \"v_channel_type\", \"v_category\",\n",
    ")"
   ]
  },
  {
   "cell_type": "markdown",
   "id": "2d745e15-90f6-4fa5-ac3d-2bc4556f185f",
   "metadata": {},
   "source": [
    "# Clickbait"
   ]
  },
  {
   "cell_type": "code",
   "execution_count": null,
   "id": "c933936f-c3e3-41e2-a90a-c1b72e90bbed",
   "metadata": {},
   "outputs": [],
   "source": [
    "df = pd.read_csv('./manualmarkup.csv')\n",
    "df_clickbait = df.loc[df['sentiment'] == \"сlickbait\"]\n",
    "df_exact =  df.loc[df['sentiment'] == \"could_be_better\"]\n",
    "clickbait_dataset = []\n",
    "for batch in features_parquet.iter_batches():\n",
    "    clickbait_dataset.append(df_clickbait.merge(batch.to_pandas(), on='video_id',how='inner'))\n",
    "    clickbait_dataset.append(df_exact.merge(batch.to_pandas(), on='video_id',how='inner'))\n",
    "clickbait_dataset = pd.concat(clickbait_dataset,ignore_index=True)\n",
    "clickbait_dataset.drop_duplicates(subset='video_id', inplace=True)\n",
    "clickbait_dataset = pd.get_dummies(clickbait_dataset,columns=['sentiment'],dtype=int,drop_first=True)\n",
    "clickbait_dataset = clickbait_dataset.drop(columns=[\n",
    "    'query','query_date','report_date','v_channel_reg_datetime','v_pub_datetime','video_id','v_category','v_channel_type'])\n"
   ]
  },
  {
   "cell_type": "code",
   "execution_count": null,
   "id": "8e44abed-c255-47e6-b492-b75fdbe36a66",
   "metadata": {},
   "outputs": [],
   "source": [
    "from sklearn.model_selection import train_test_split\n",
    "from sklearn.model_selection import cross_val_score, KFold\n",
    "\n",
    "y = clickbait_dataset['sentiment_сlickbait']\n",
    "x = clickbait_dataset.drop(columns=['sentiment_сlickbait'])\n",
    "X_train, X_val, y_train, y_val = train_test_split(x, y, test_size=0.2, random_state=0, stratify=y)\n",
    "clickbait_dataset_cols = np.array(clickbait_dataset.drop(columns=['sentiment_сlickbait']).columns)"
   ]
  },
  {
   "cell_type": "code",
   "execution_count": null,
   "id": "547c364d-d6e6-4872-8bb5-e23f9b4bce46",
   "metadata": {},
   "outputs": [],
   "source": [
    "from catboost import CatBoostClassifier\n",
    "params_clf = {\n",
    "    'depth': 9, \n",
    "    'iterations': 100, \n",
    "    'learning_rate': 0.03\n",
    "}\n",
    "clickbait_clf = CatBoostClassifier(verbose=False, **params_clf)\n",
    "clickbait_clf.fit(X_train, y_train, plot=True)"
   ]
  },
  {
   "cell_type": "code",
   "execution_count": null,
   "id": "9177124f-c9dc-4f36-baa1-a669447d9fc1",
   "metadata": {},
   "outputs": [],
   "source": [
    "from sklearn.metrics import confusion_matrix\n",
    "ypred = clickbait_clf.predict(X_val)\n",
    "cm = confusion_matrix(y_val,ypred)\n",
    "print(cm)\n",
    "from sklearn.metrics import classification_report\n",
    "report = classification_report(y_val, ypred)\n",
    "print(report)\n",
    "clickbait_clf.save_model(\"clickbait_clf.ckpt\")"
   ]
  },
  {
   "cell_type": "markdown",
   "id": "86875e80-4255-4c4d-84ae-95b5792e1d17",
   "metadata": {},
   "source": [
    "# Percent of watch"
   ]
  },
  {
   "cell_type": "code",
   "execution_count": null,
   "id": "b92ce12f-80d9-4514-a74e-5179ded43dd2",
   "metadata": {},
   "outputs": [],
   "source": [
    "automarkup_percent = automarkup.drop(columns=[\n",
    "    'query','datetime','is_authorized','position','position','vtop','comment','channel','tv_show','season','emotion'])#, 'target'\n",
    "percent_of_watch = automarkup_percent.groupby(['video_id']).median()\n",
    "percent_of_watch['percent_of_watch'] = (percent_of_watch['watchtime'] * 1000) / percent_of_watch['duration']\n",
    "percent_of_watch = percent_of_watch.drop(columns=['duration','watchtime'])"
   ]
  },
  {
   "cell_type": "markdown",
   "id": "b450a75e-9b16-4dff-856d-775ce3e66260",
   "metadata": {},
   "source": [
    "# Формирование датасета с признаками"
   ]
  },
  {
   "cell_type": "code",
   "execution_count": null,
   "id": "2713c4e9-eef8-4997-92b4-49ccd7c3134a",
   "metadata": {},
   "outputs": [],
   "source": [
    "full_df = candidates_with_target.merge(\n",
    "    features, how=\"inner\", left_on=\"video_id\", right_on=\"video_id\"\n",
    ")\n",
    "# del features\n",
    "full_df = full_df.drop(\"report_date\", axis=1)\n",
    "full_df = full_df.drop_duplicates()"
   ]
  },
  {
   "cell_type": "code",
   "execution_count": null,
   "id": "56fc33e7-eeb2-4751-9e68-8c5800b7e416",
   "metadata": {},
   "outputs": [],
   "source": [
    "is_clickbait = clickbait_clf.predict(full_df[clickbait_dataset_cols])\n",
    "full_df['clickbait'] = is_clickbait"
   ]
  },
  {
   "cell_type": "code",
   "execution_count": null,
   "id": "2dfecf45-dd88-4416-a310-79510e271ebd",
   "metadata": {},
   "outputs": [],
   "source": [
    "full_df = full_df.merge(\n",
    "    percent_of_watch, how=\"left\", left_on=\"video_id\", right_on=\"video_id\"\n",
    ")"
   ]
  },
  {
   "cell_type": "code",
   "execution_count": null,
   "id": "93b694b7-3f7f-4624-b9b7-66719962af12",
   "metadata": {},
   "outputs": [],
   "source": [
    "groups_to_drop = []\n",
    "full_df[\"group_id\"] = full_df.groupby([\"query\"]).ngroup()\n",
    "for group in full_df[\"group_id\"].unique():\n",
    "    part_df = full_df[full_df[\"group_id\"] == group]\n",
    "    target_sum = part_df[\"target\"].values.sum()\n",
    "    if target_sum <= 0:\n",
    "        groups_to_drop += [group]\n",
    "full_df = full_df[~full_df[\"group_id\"].isin(groups_to_drop)]"
   ]
  },
  {
   "cell_type": "code",
   "execution_count": null,
   "id": "90398efc-9bed-4ef9-8b58-859ebe888ee6",
   "metadata": {},
   "outputs": [],
   "source": [
    "groups = pd.Series(full_df[\"group_id\"].unique())\n",
    "permutation = groups.sample(frac=1, random_state=seed)\n",
    "train_groups, val_groups, test_groups = np.split(\n",
    "    permutation, [int(0.75 * len(permutation)), int(0.90 * len(permutation))]\n",
    ")\n",
    "groups.shape, permutation.shape"
   ]
  },
  {
   "cell_type": "code",
   "execution_count": null,
   "id": "516b813e-7119-4c86-a315-4bbf5a1106b0",
   "metadata": {},
   "outputs": [],
   "source": [
    "train_df = full_df[full_df[\"group_id\"].isin(train_groups)]\n",
    "val_df = full_df[full_df[\"group_id\"].isin(val_groups)]\n",
    "test_df = full_df[full_df[\"group_id\"].isin(test_groups)]"
   ]
  },
  {
   "cell_type": "code",
   "execution_count": null,
   "id": "014f63ee-7682-446d-bd0b-7ca7fd056e24",
   "metadata": {},
   "outputs": [],
   "source": [
    "train_df = train_df.sort_values(\"group_id\")\n",
    "val_df = val_df.sort_values(\"group_id\")\n",
    "test_df = test_df.sort_values(\"group_id\")"
   ]
  },
  {
   "cell_type": "code",
   "execution_count": null,
   "id": "5b527a85-d06e-4df9-bee1-bfbea8b3be49",
   "metadata": {},
   "outputs": [],
   "source": [
    "metainfo_columns = [\"query\", \"video_id\", \"target\", \"group_id\"]\n",
    "\n",
    "X_train = train_df.drop(metainfo_columns, axis=1)\n",
    "y_train, g_train = train_df[\"target\"], train_df[\"group_id\"]\n",
    "\n",
    "X_val = val_df.drop(metainfo_columns, axis=1)\n",
    "y_val, g_val = val_df[\"target\"], val_df[\"group_id\"]\n",
    "\n",
    "X_test = test_df.drop(metainfo_columns, axis=1)\n",
    "y_test, g_test = test_df[\"target\"], test_df[\"group_id\"]"
   ]
  },
  {
   "cell_type": "code",
   "execution_count": null,
   "id": "f25090cd-1974-4064-a8d8-a7a857731ee8",
   "metadata": {},
   "outputs": [],
   "source": [
    "train = Pool(\n",
    "    data=X_train.values,\n",
    "    label=y_train.values,\n",
    "    group_id=g_train.values,\n",
    "    feature_names=X_train.columns.to_list(),\n",
    ")\n",
    "\n",
    "val = Pool(\n",
    "    data=X_val.values,\n",
    "    label=y_val.values,\n",
    "    group_id=g_val.values,\n",
    "    feature_names=X_val.columns.to_list(),\n",
    ")\n",
    "\n",
    "test = Pool(\n",
    "    data=X_test.values,\n",
    "    label=y_test.values,\n",
    "    group_id=g_test.values,\n",
    "    feature_names=X_test.columns.to_list(),\n",
    ")"
   ]
  },
  {
   "cell_type": "markdown",
   "id": "184e885e-e5a8-4518-986d-080af22bba36",
   "metadata": {},
   "source": [
    "# Обучение модели"
   ]
  },
  {
   "cell_type": "code",
   "execution_count": null,
   "id": "26adaf4b-c53a-4fc0-86f1-13db9ea7f06c",
   "metadata": {},
   "outputs": [],
   "source": [
    "task_type = \"CPU\"#\n",
    "metric_period = 250\n",
    "\n",
    "parameters = {\n",
    "    # \"task_type\": task_type,\n",
    "    \"verbose\": False,\n",
    "    \"random_seed\": seed,\n",
    "    \"loss_function\": \"QueryRMSE\",\n",
    "    \"learning_rate\": 0.001,\n",
    "    \"l2_leaf_reg\": 30,\n",
    "    \"iterations\": 2000,\n",
    "    \"max_depth\": 10,\n",
    "    # \"task_type\":\"GPU\",\n",
    "    # \"devices\":'0'\n",
    "}"
   ]
  },
  {
   "cell_type": "code",
   "execution_count": null,
   "id": "011824c0-68a7-4342-a9a1-6ecb1515aa00",
   "metadata": {},
   "outputs": [],
   "source": [
    "model = CatBoostRanker(**parameters)\n",
    "model = model.fit(\n",
    "    train, eval_set=val, plot=True, use_best_model=True, metric_period=metric_period\n",
    ")\n",
    "model.save_model(\"ranker.ckpt\")"
   ]
  },
  {
   "cell_type": "code",
   "execution_count": null,
   "id": "e9fb2a0b-2004-48f7-88ef-6bc1bf6ea44a",
   "metadata": {},
   "outputs": [],
   "source": [
    "import matplotlib.pyplot as plt\n",
    "feature_importance = model.get_feature_importance(train)\n",
    "sorted_idx = np.argsort(feature_importance)\n",
    "fig = plt.figure(figsize=(12, 10))\n",
    "plt.barh(range(len(sorted_idx)), feature_importance[sorted_idx], align='center')\n",
    "plt.yticks(range(len(sorted_idx)), np.array(X_train.columns)[sorted_idx])\n",
    "plt.title('Feature Importance')\n"
   ]
  },
  {
   "cell_type": "code",
   "execution_count": null,
   "id": "5350dbd0-3baa-4468-ab0c-b7e7a641db29",
   "metadata": {},
   "outputs": [],
   "source": [
    "def _metrics_at(at, model, pool, metric=\"NDCG\"):\n",
    "    metric = metric + f\":top={at}\"\n",
    "    eval_metrics = model.eval_metrics(pool, metrics=[metric])\n",
    "    best_metrics = {}\n",
    "    for key in eval_metrics.keys():\n",
    "        best_metrics[key] = eval_metrics[key][model.best_iteration_]\n",
    "    return best_metrics\n",
    "\n",
    "metrics_train_at = partial(_metrics_at, model=model, pool=train)\n",
    "\n",
    "metrics_val_at = partial(_metrics_at, model=model, pool=val)\n",
    "\n",
    "metrics_test_at = partial(_metrics_at, model=model, pool=test)"
   ]
  },
  {
   "cell_type": "code",
   "execution_count": null,
   "id": "08209334-7023-4dd9-a711-53b1a71edda8",
   "metadata": {},
   "outputs": [],
   "source": []
  },
  {
   "cell_type": "code",
   "execution_count": null,
   "id": "6a546819-0fa8-415e-ab97-7b0c52d26023",
   "metadata": {},
   "outputs": [],
   "source": []
  },
  {
   "cell_type": "code",
   "execution_count": null,
   "id": "b93cf9cc-c7a9-43ab-93a8-aac431a43988",
   "metadata": {},
   "outputs": [],
   "source": []
  },
  {
   "cell_type": "code",
   "execution_count": null,
   "id": "e31280b3-2015-4615-af85-85b336de69c1",
   "metadata": {},
   "outputs": [],
   "source": []
  },
  {
   "cell_type": "code",
   "execution_count": null,
   "id": "76a4d295-7a7d-4628-ad5b-9791a265693a",
   "metadata": {},
   "outputs": [],
   "source": []
  }
 ],
 "metadata": {
  "kernelspec": {
   "display_name": "DataSphere Kernel",
   "language": "python",
   "name": "python3"
  },
  "language_info": {
   "codemirror_mode": {
    "name": "ipython",
    "version": 3
   },
   "file_extension": ".py",
   "mimetype": "text/x-python",
   "name": "python",
   "nbconvert_exporter": "python",
   "pygments_lexer": "ipython3",
   "version": "3.7.7"
  }
 },
 "nbformat": 4,
 "nbformat_minor": 5
}
