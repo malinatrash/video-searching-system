{
 "cells": [
  {
   "cell_type": "code",
   "execution_count": 146,
   "metadata": {
    "execution": {
     "iopub.execute_input": "2023-11-25T10:53:47.279742Z",
     "iopub.status.busy": "2023-11-25T10:53:47.278730Z",
     "iopub.status.idle": "2023-11-25T10:53:47.300248Z",
     "shell.execute_reply": "2023-11-25T10:53:47.299Z",
     "shell.execute_reply.started": "2023-11-25T10:53:47.279679Z"
    },
    "id": "O2NF2CvQlEIv",
    "tags": []
   },
   "outputs": [],
   "source": [
    "import json\n",
    "import math\n",
    "import os\n",
    "import time\n",
    "from functools import partial\n",
    "from urllib.parse import urlencode\n",
    "from fastparquet import write\n",
    "import faiss\n",
    "import numpy as np\n",
    "import pandas as pd\n",
    "import pyarrow.parquet as pq\n",
    "\n",
    "import requests\n",
    "from catboost import CatBoostRanker, Pool\n",
    "from faiss import read_index, write_index\n",
    "from sentence_transformers import SentenceTransformer"
   ]
  },
  {
   "cell_type": "code",
   "execution_count": 2,
   "metadata": {
    "execution": {
     "iopub.execute_input": "2023-11-25T07:46:19.173707Z",
     "iopub.status.busy": "2023-11-25T07:46:19.172802Z",
     "iopub.status.idle": "2023-11-25T07:46:19.187388Z",
     "shell.execute_reply": "2023-11-25T07:46:19.186243Z",
     "shell.execute_reply.started": "2023-11-25T07:46:19.173656Z"
    },
    "tags": []
   },
   "outputs": [],
   "source": [
    "# %pip install -r ./requirements.txt."
   ]
  },
  {
   "cell_type": "markdown",
   "metadata": {
    "id": "x1KC2nsVwgKO",
    "jp-MarkdownHeadingCollapsed": true,
    "tags": []
   },
   "source": [
    "# Загрузка данных"
   ]
  },
  {
   "cell_type": "code",
   "execution_count": 3,
   "metadata": {
    "execution": {
     "iopub.execute_input": "2023-11-24T04:20:46.203267Z",
     "iopub.status.busy": "2023-11-24T04:20:46.202089Z",
     "iopub.status.idle": "2023-11-24T04:20:46.217917Z",
     "shell.execute_reply": "2023-11-24T04:20:46.216783Z",
     "shell.execute_reply.started": "2023-11-24T04:20:46.203171Z"
    },
    "tags": []
   },
   "outputs": [],
   "source": [
    "start_time = time.time()"
   ]
  },
  {
   "cell_type": "code",
   "execution_count": 4,
   "metadata": {
    "execution": {
     "iopub.execute_input": "2023-11-23T19:43:35.189509Z",
     "iopub.status.busy": "2023-11-23T19:43:35.188415Z",
     "iopub.status.idle": "2023-11-23T19:43:35.202886Z",
     "shell.execute_reply": "2023-11-23T19:43:35.201886Z",
     "shell.execute_reply.started": "2023-11-23T19:43:35.189455Z"
    },
    "id": "DjWrl2vHwfc6",
    "tags": []
   },
   "outputs": [],
   "source": [
    "def download_file(pk, local_name):\n",
    "    base_url = \"https://cloud-api.yandex.net/v1/disk/public/resources/download?\"\n",
    "\n",
    "    final_url = base_url + urlencode(dict(public_key=pk))\n",
    "    response = requests.get(final_url)\n",
    "    download_url = response.json()[\"href\"]\n",
    "\n",
    "    download_response = requests.get(download_url)\n",
    "    with open(local_name, \"wb\") as f:\n",
    "        f.write(download_response.content)\n",
    "        print(f\"File {local_name} downloaded\")\n",
    "\n",
    "def download_from_yandex_disk():\n",
    "    files = {\n",
    "        \"features.parquet\": \"https://disk.yandex.ru/d/W_qJitz4dZGzAg\",\n",
    "        \"videos.parquet\": \"https://disk.yandex.ru/d/JXz-oDfKFgm2Dw\",\n",
    "        \"automarkup.parquet\": \"https://disk.yandex.ru/d/vP0FzQHdtxsz4Q\",\n",
    "        \"manualmarkup.csv\": \"https://disk.yandex.ru/d/hDztN1rgW0JNjw\",\n",
    "    }\n",
    "\n",
    "    filenames, filenames_to_delete = files.keys(), []\n",
    "    for filename in filenames:\n",
    "        if os.path.exists(filename):\n",
    "            filenames_to_delete += [filename]\n",
    "    for filename in filenames_to_delete:\n",
    "        del files[filename]\n",
    "\n",
    "    print(f\"Will be download {len(files)} files\")\n",
    "    for filename, link in files.items():\n",
    "        print(f\"{filename} downloading in progress\")\n",
    "        download_file(link, filename)\n",
    "        print(f\"{filename} downloaded\")"
   ]
  },
  {
   "cell_type": "code",
   "execution_count": 6,
   "metadata": {
    "colab": {
     "base_uri": "https://localhost:8080/"
    },
    "execution": {
     "iopub.execute_input": "2023-11-23T16:39:24.102893Z",
     "iopub.status.busy": "2023-11-23T16:39:24.101944Z",
     "iopub.status.idle": "2023-11-23T16:46:12.421362Z",
     "shell.execute_reply": "2023-11-23T16:46:12.419772Z",
     "shell.execute_reply.started": "2023-11-23T16:39:24.102842Z"
    },
    "id": "kBfvXaYMg7UB",
    "outputId": "beb43a53-9265-463a-e38d-f8e2b935e4a7",
    "tags": []
   },
   "outputs": [
    {
     "name": "stdout",
     "output_type": "stream",
     "text": [
      "Will be download 4 files\n",
      "features.parquet downloading in progress\n",
      "File features.parquet downloaded\n",
      "features.parquet downloaded\n",
      "videos.parquet downloading in progress\n",
      "File videos.parquet downloaded\n",
      "videos.parquet downloaded\n",
      "automarkup.parquet downloading in progress\n",
      "File automarkup.parquet downloaded\n",
      "automarkup.parquet downloaded\n",
      "manualmarkup.csv downloading in progress\n",
      "File manualmarkup.csv downloaded\n",
      "manualmarkup.csv downloaded\n"
     ]
    }
   ],
   "source": [
    "download_from_yandex_disk()"
   ]
  },
  {
   "cell_type": "code",
   "execution_count": 3,
   "metadata": {
    "execution": {
     "iopub.execute_input": "2023-11-25T07:46:21.608644Z",
     "iopub.status.busy": "2023-11-25T07:46:21.607777Z",
     "iopub.status.idle": "2023-11-25T07:46:21.635720Z",
     "shell.execute_reply": "2023-11-25T07:46:21.634739Z",
     "shell.execute_reply.started": "2023-11-25T07:46:21.608596Z"
    },
    "tags": []
   },
   "outputs": [],
   "source": [
    "seed = 42\n",
    "np.random.seed(seed)"
   ]
  },
  {
   "cell_type": "markdown",
   "metadata": {
    "id": "Xi4z_XXs4W_8",
    "jp-MarkdownHeadingCollapsed": true,
    "tags": []
   },
   "source": [
    "# Формирование базы векторов"
   ]
  },
  {
   "cell_type": "code",
   "execution_count": 3,
   "metadata": {
    "execution": {
     "iopub.execute_input": "2023-11-24T12:27:31.395082Z",
     "iopub.status.busy": "2023-11-24T12:27:31.394186Z",
     "iopub.status.idle": "2023-11-24T12:29:10.837959Z",
     "shell.execute_reply": "2023-11-24T12:29:10.836767Z",
     "shell.execute_reply.started": "2023-11-24T12:27:31.395037Z"
    },
    "tags": []
   },
   "outputs": [],
   "source": [
    "candidates = pd.read_parquet(\n",
    "    \"videos.parquet\", engine=\"fastparquet\", columns=[\"video_id\", \"video_title\"]\n",
    ")"
   ]
  },
  {
   "cell_type": "code",
   "execution_count": 4,
   "metadata": {
    "execution": {
     "iopub.execute_input": "2023-11-24T12:29:10.840044Z",
     "iopub.status.busy": "2023-11-24T12:29:10.839395Z",
     "iopub.status.idle": "2023-11-24T12:29:15.566543Z",
     "shell.execute_reply": "2023-11-24T12:29:15.561864Z",
     "shell.execute_reply.started": "2023-11-24T12:29:10.839966Z"
    },
    "tags": []
   },
   "outputs": [],
   "source": [
    "candidates = candidates.sample(n=3_000_000, replace=False, random_state=seed)"
   ]
  },
  {
   "cell_type": "code",
   "execution_count": 5,
   "metadata": {
    "execution": {
     "iopub.execute_input": "2023-11-24T12:29:15.582787Z",
     "iopub.status.busy": "2023-11-24T12:29:15.582245Z",
     "iopub.status.idle": "2023-11-24T12:29:15.764681Z",
     "shell.execute_reply": "2023-11-24T12:29:15.763576Z",
     "shell.execute_reply.started": "2023-11-24T12:29:15.582756Z"
    },
    "tags": []
   },
   "outputs": [
    {
     "data": {
      "text/html": [
       "<div>\n",
       "<style scoped>\n",
       "    .dataframe tbody tr th:only-of-type {\n",
       "        vertical-align: middle;\n",
       "    }\n",
       "\n",
       "    .dataframe tbody tr th {\n",
       "        vertical-align: top;\n",
       "    }\n",
       "\n",
       "    .dataframe thead th {\n",
       "        text-align: right;\n",
       "    }\n",
       "</style>\n",
       "<table border=\"1\" class=\"dataframe\">\n",
       "  <thead>\n",
       "    <tr style=\"text-align: right;\">\n",
       "      <th></th>\n",
       "      <th>video_id</th>\n",
       "      <th>video_title</th>\n",
       "    </tr>\n",
       "  </thead>\n",
       "  <tbody>\n",
       "    <tr>\n",
       "      <th>6479006</th>\n",
       "      <td>video_24972264</td>\n",
       "      <td>Как мы снимали в публичном доме!</td>\n",
       "    </tr>\n",
       "    <tr>\n",
       "      <th>1521150</th>\n",
       "      <td>video_22470853</td>\n",
       "      <td>Капкейки из цветного теста</td>\n",
       "    </tr>\n",
       "    <tr>\n",
       "      <th>641816</th>\n",
       "      <td>video_22923068</td>\n",
       "      <td>Отзыв о рюкзаке Vikgeo | Распаковка рюкзаков V...</td>\n",
       "    </tr>\n",
       "    <tr>\n",
       "      <th>10116582</th>\n",
       "      <td>video_5078872</td>\n",
       "      <td>Наша ежевика на 24.06.2022г. Дальнейшие подкор...</td>\n",
       "    </tr>\n",
       "    <tr>\n",
       "      <th>16286594</th>\n",
       "      <td>video_19600512</td>\n",
       "      <td>КАК НАБРАТЬ МЫШЕЧНУЮ МАССУ И СИЛУ.ПОШАГОВАЯ ИН...</td>\n",
       "    </tr>\n",
       "    <tr>\n",
       "      <th>3199248</th>\n",
       "      <td>video_33765637</td>\n",
       "      <td>Двухсторонняя веревочка из 4-х трубочек.</td>\n",
       "    </tr>\n",
       "    <tr>\n",
       "      <th>5264770</th>\n",
       "      <td>video_151555</td>\n",
       "      <td>Resonant Rise - Ep 5 - Ender-Flux Thingy!! (Be...</td>\n",
       "    </tr>\n",
       "    <tr>\n",
       "      <th>14980251</th>\n",
       "      <td>video_20566715</td>\n",
       "      <td>Рыбы и птицы, Бразилия</td>\n",
       "    </tr>\n",
       "    <tr>\n",
       "      <th>23825112</th>\n",
       "      <td>video_4841642</td>\n",
       "      <td>Сборка интернет заказов. Вторая часть.</td>\n",
       "    </tr>\n",
       "    <tr>\n",
       "      <th>19458583</th>\n",
       "      <td>video_16843492</td>\n",
       "      <td>Arkona - V pogone za beloj ten'yu - Khram 2018...</td>\n",
       "    </tr>\n",
       "  </tbody>\n",
       "</table>\n",
       "</div>"
      ],
      "text/plain": [
       "                video_id                                        video_title\n",
       "6479006   video_24972264                   Как мы снимали в публичном доме!\n",
       "1521150   video_22470853                         Капкейки из цветного теста\n",
       "641816    video_22923068  Отзыв о рюкзаке Vikgeo | Распаковка рюкзаков V...\n",
       "10116582   video_5078872  Наша ежевика на 24.06.2022г. Дальнейшие подкор...\n",
       "16286594  video_19600512  КАК НАБРАТЬ МЫШЕЧНУЮ МАССУ И СИЛУ.ПОШАГОВАЯ ИН...\n",
       "3199248   video_33765637           Двухсторонняя веревочка из 4-х трубочек.\n",
       "5264770     video_151555  Resonant Rise - Ep 5 - Ender-Flux Thingy!! (Be...\n",
       "14980251  video_20566715                             Рыбы и птицы, Бразилия\n",
       "23825112   video_4841642             Сборка интернет заказов. Вторая часть.\n",
       "19458583  video_16843492  Arkona - V pogone za beloj ten'yu - Khram 2018..."
      ]
     },
     "execution_count": 5,
     "metadata": {},
     "output_type": "execute_result"
    }
   ],
   "source": [
    "candidates.head(10)"
   ]
  },
  {
   "cell_type": "code",
   "execution_count": null,
   "metadata": {},
   "outputs": [],
   "source": []
  },
  {
   "cell_type": "code",
   "execution_count": 6,
   "metadata": {
    "execution": {
     "iopub.execute_input": "2023-11-24T12:29:15.766447Z",
     "iopub.status.busy": "2023-11-24T12:29:15.765981Z",
     "iopub.status.idle": "2023-11-24T12:29:18.545937Z",
     "shell.execute_reply": "2023-11-24T12:29:18.544764Z",
     "shell.execute_reply.started": "2023-11-24T12:29:15.766399Z"
    },
    "id": "F5UF9i8BhM1G",
    "tags": []
   },
   "outputs": [],
   "source": [
    "corpus = candidates[\"video_title\"].apply(lambda x: x.lower()).values\n",
    "video_ids = candidates[\"video_id\"].values\n",
    "del candidates"
   ]
  },
  {
   "cell_type": "code",
   "execution_count": 4,
   "metadata": {
    "execution": {
     "iopub.execute_input": "2023-11-25T07:46:24.580158Z",
     "iopub.status.busy": "2023-11-25T07:46:24.579301Z",
     "iopub.status.idle": "2023-11-25T07:46:53.415106Z",
     "shell.execute_reply": "2023-11-25T07:46:53.413775Z",
     "shell.execute_reply.started": "2023-11-25T07:46:24.580116Z"
    },
    "tags": []
   },
   "outputs": [
    {
     "data": {
      "application/vnd.jupyter.widget-view+json": {
       "model_id": "e06587b69f9342a5b6ca773978a0860e",
       "version_major": 2,
       "version_minor": 0
      },
      "text/plain": [
       ".gitattributes:   0%|          | 0.00/1.18k [00:00<?, ?B/s]"
      ]
     },
     "metadata": {},
     "output_type": "display_data"
    },
    {
     "data": {
      "application/vnd.jupyter.widget-view+json": {
       "model_id": "02d1d5202d334cbb8abe99b0da53751e",
       "version_major": 2,
       "version_minor": 0
      },
      "text/plain": [
       "1_Pooling/config.json:   0%|          | 0.00/190 [00:00<?, ?B/s]"
      ]
     },
     "metadata": {},
     "output_type": "display_data"
    },
    {
     "data": {
      "application/vnd.jupyter.widget-view+json": {
       "model_id": "f54e7a2a97e142f6900582d8bb95db64",
       "version_major": 2,
       "version_minor": 0
      },
      "text/plain": [
       "LICENSE:   0%|          | 0.00/22.3k [00:00<?, ?B/s]"
      ]
     },
     "metadata": {},
     "output_type": "display_data"
    },
    {
     "data": {
      "application/vnd.jupyter.widget-view+json": {
       "model_id": "7d01103c25554a4a9af7ad7b511677b8",
       "version_major": 2,
       "version_minor": 0
      },
      "text/plain": [
       "README.md:   0%|          | 0.00/2.73k [00:00<?, ?B/s]"
      ]
     },
     "metadata": {},
     "output_type": "display_data"
    },
    {
     "data": {
      "application/vnd.jupyter.widget-view+json": {
       "model_id": "c9258317fd7041b58864b97d15650e42",
       "version_major": 2,
       "version_minor": 0
      },
      "text/plain": [
       "config.json:   0%|          | 0.00/677 [00:00<?, ?B/s]"
      ]
     },
     "metadata": {},
     "output_type": "display_data"
    },
    {
     "data": {
      "application/vnd.jupyter.widget-view+json": {
       "model_id": "3b1cf1497d644c30a9c9e31adf64378e",
       "version_major": 2,
       "version_minor": 0
      },
      "text/plain": [
       "config_sentence_transformers.json:   0%|          | 0.00/116 [00:00<?, ?B/s]"
      ]
     },
     "metadata": {},
     "output_type": "display_data"
    },
    {
     "data": {
      "application/vnd.jupyter.widget-view+json": {
       "model_id": "ccedb8ea88144440a0724918531c4186",
       "version_major": 2,
       "version_minor": 0
      },
      "text/plain": [
       "pytorch_model.bin:   0%|          | 0.00/1.11G [00:00<?, ?B/s]"
      ]
     },
     "metadata": {},
     "output_type": "display_data"
    },
    {
     "data": {
      "application/vnd.jupyter.widget-view+json": {
       "model_id": "1bf3444b0363494786180fc0e7a32b3e",
       "version_major": 2,
       "version_minor": 0
      },
      "text/plain": [
       "sentence_bert_config.json:   0%|          | 0.00/53.0 [00:00<?, ?B/s]"
      ]
     },
     "metadata": {},
     "output_type": "display_data"
    },
    {
     "data": {
      "application/vnd.jupyter.widget-view+json": {
       "model_id": "94b9aff8ea034848849a21636144f2fe",
       "version_major": 2,
       "version_minor": 0
      },
      "text/plain": [
       "sentencepiece.bpe.model:   0%|          | 0.00/5.07M [00:00<?, ?B/s]"
      ]
     },
     "metadata": {},
     "output_type": "display_data"
    },
    {
     "data": {
      "application/vnd.jupyter.widget-view+json": {
       "model_id": "5ec8a7978a6f4d8cb8c4e99775908d6e",
       "version_major": 2,
       "version_minor": 0
      },
      "text/plain": [
       "special_tokens_map.json:   0%|          | 0.00/239 [00:00<?, ?B/s]"
      ]
     },
     "metadata": {},
     "output_type": "display_data"
    },
    {
     "data": {
      "application/vnd.jupyter.widget-view+json": {
       "model_id": "8f124ffd449849298ee36c4736c5504c",
       "version_major": 2,
       "version_minor": 0
      },
      "text/plain": [
       "tokenizer.json:   0%|          | 0.00/9.08M [00:00<?, ?B/s]"
      ]
     },
     "metadata": {},
     "output_type": "display_data"
    },
    {
     "data": {
      "application/vnd.jupyter.widget-view+json": {
       "model_id": "008da9d778a0465cbede8efcee6b8c2e",
       "version_major": 2,
       "version_minor": 0
      },
      "text/plain": [
       "tokenizer_config.json:   0%|          | 0.00/356 [00:00<?, ?B/s]"
      ]
     },
     "metadata": {},
     "output_type": "display_data"
    },
    {
     "data": {
      "application/vnd.jupyter.widget-view+json": {
       "model_id": "dd85c699845c4465be6be33bef46b903",
       "version_major": 2,
       "version_minor": 0
      },
      "text/plain": [
       "modules.json:   0%|          | 0.00/229 [00:00<?, ?B/s]"
      ]
     },
     "metadata": {},
     "output_type": "display_data"
    }
   ],
   "source": [
    "st_model = SentenceTransformer(\"symanto/sn-xlm-roberta-base-snli-mnli-anli-xnli\", device=\"cuda\")#cuda cointegrated/rubert-tiny2"
   ]
  },
  {
   "cell_type": "code",
   "execution_count": 5,
   "metadata": {
    "execution": {
     "iopub.execute_input": "2023-11-25T07:46:53.419723Z",
     "iopub.status.busy": "2023-11-25T07:46:53.417193Z",
     "iopub.status.idle": "2023-11-25T07:46:53.445384Z",
     "shell.execute_reply": "2023-11-25T07:46:53.444412Z",
     "shell.execute_reply.started": "2023-11-25T07:46:53.419674Z"
    },
    "tags": []
   },
   "outputs": [],
   "source": [
    "# когда прогоните один раз у вас на диске уже будет сохранен faiss индекс\n",
    "# можно поставить значение True, чтобы сэкономить время на формирование индекса\n",
    "use_formed_index = False"
   ]
  },
  {
   "cell_type": "code",
   "execution_count": 9,
   "metadata": {
    "colab": {
     "base_uri": "https://localhost:8080/"
    },
    "execution": {
     "iopub.execute_input": "2023-11-24T12:29:49.918119Z",
     "iopub.status.busy": "2023-11-24T12:29:49.917186Z",
     "iopub.status.idle": "2023-11-24T12:29:49.942292Z",
     "shell.execute_reply": "2023-11-24T12:29:49.941087Z",
     "shell.execute_reply.started": "2023-11-24T12:29:49.918066Z"
    },
    "id": "XMP9z5aKlXvI",
    "outputId": "123d614c-62ee-4b20-a67a-bc1630ea9727",
    "tags": []
   },
   "outputs": [],
   "source": [
    "d = 768#312\n",
    "if not use_formed_index:\n",
    "    cpu_index = faiss.IndexFlatL2(d)\n",
    "    cpu_index.is_trained, cpu_index.ntotal"
   ]
  },
  {
   "cell_type": "code",
   "execution_count": 6,
   "metadata": {
    "execution": {
     "iopub.execute_input": "2023-11-25T07:46:53.448019Z",
     "iopub.status.busy": "2023-11-25T07:46:53.447452Z",
     "iopub.status.idle": "2023-11-25T07:46:59.397997Z",
     "shell.execute_reply": "2023-11-25T07:46:59.396832Z",
     "shell.execute_reply.started": "2023-11-25T07:46:53.447990Z"
    },
    "id": "VrDl0S0GIs_u",
    "tags": []
   },
   "outputs": [],
   "source": [
    "# если уже есть файл ind2videoid для вашего faiss индекса - True\n",
    "use_formed_id_mapping = True\n",
    "\n",
    "if not use_formed_id_mapping:\n",
    "    ind2videoid = {ind: video_id for ind, video_id in enumerate(video_ids)}\n",
    "    with open(\"ind2videoid.json\", \"w+\") as f:\n",
    "        json.dump(ind2videoid, f, indent=4)\n",
    "else:\n",
    "    with open(\"ind2videoid.json\", \"r\") as f:\n",
    "        ind2videoid = json.load(f)"
   ]
  },
  {
   "cell_type": "code",
   "execution_count": 11,
   "metadata": {
    "execution": {
     "iopub.execute_input": "2023-11-24T12:30:06.578919Z",
     "iopub.status.busy": "2023-11-24T12:30:06.578235Z",
     "iopub.status.idle": "2023-11-24T12:30:06.623277Z",
     "shell.execute_reply": "2023-11-24T12:30:06.622198Z",
     "shell.execute_reply.started": "2023-11-24T12:30:06.578879Z"
    },
    "id": "KPpfKABDIm-i",
    "tags": []
   },
   "outputs": [],
   "source": [
    "batch_size = 1000000\n",
    "num_batches = math.ceil(len(corpus) / batch_size)"
   ]
  },
  {
   "cell_type": "code",
   "execution_count": 1,
   "metadata": {
    "execution": {
     "iopub.execute_input": "2023-11-25T04:01:04.850438Z",
     "iopub.status.busy": "2023-11-25T04:01:04.850151Z",
     "iopub.status.idle": "2023-11-25T04:23:52.003376Z",
     "shell.execute_reply": "2023-11-25T04:23:52.002628Z",
     "shell.execute_reply.started": "2023-11-25T04:01:04.850418Z"
    },
    "tags": []
   },
   "outputs": [],
   "source": [
    "# %cp candidates.index candidates768.index"
   ]
  },
  {
   "cell_type": "code",
   "execution_count": 14,
   "metadata": {
    "execution": {
     "iopub.execute_input": "2023-11-24T12:30:21.105378Z",
     "iopub.status.busy": "2023-11-24T12:30:21.104302Z",
     "iopub.status.idle": "2023-11-24T13:07:05.755694Z",
     "shell.execute_reply": "2023-11-24T13:07:05.754544Z",
     "shell.execute_reply.started": "2023-11-24T12:30:21.105323Z"
    },
    "tags": []
   },
   "outputs": [
    {
     "data": {
      "application/vnd.jupyter.widget-view+json": {
       "model_id": "9ca2dd4553d443cca627682b3f6efa8f",
       "version_major": 2,
       "version_minor": 0
      },
      "text/plain": [
       "Batches:   0%|          | 0/31250 [00:00<?, ?it/s]"
      ]
     },
     "metadata": {},
     "output_type": "display_data"
    },
    {
     "name": "stdout",
     "output_type": "stream",
     "text": [
      "batch: 1 / 3, vectors: 1000000\n"
     ]
    },
    {
     "data": {
      "application/vnd.jupyter.widget-view+json": {
       "model_id": "705017e895494a1eafcb1f72e5bbe705",
       "version_major": 2,
       "version_minor": 0
      },
      "text/plain": [
       "Batches:   0%|          | 0/31250 [00:00<?, ?it/s]"
      ]
     },
     "metadata": {},
     "output_type": "display_data"
    },
    {
     "name": "stdout",
     "output_type": "stream",
     "text": [
      "batch: 2 / 3, vectors: 2000000\n"
     ]
    },
    {
     "data": {
      "application/vnd.jupyter.widget-view+json": {
       "model_id": "7facd530d0c14f8bab719fd55e1a3df0",
       "version_major": 2,
       "version_minor": 0
      },
      "text/plain": [
       "Batches:   0%|          | 0/31250 [00:00<?, ?it/s]"
      ]
     },
     "metadata": {},
     "output_type": "display_data"
    },
    {
     "name": "stdout",
     "output_type": "stream",
     "text": [
      "batch: 3 / 3, vectors: 3000000\n"
     ]
    }
   ],
   "source": [
    "if not use_formed_index:\n",
    "    try:\n",
    "        for i in range(num_batches):\n",
    "            # формируем батч\n",
    "            start, end = i * batch_size, (i + 1) * batch_size\n",
    "            corpus_batch = corpus[start:end]\n",
    "\n",
    "            # считаем вектора для всех предложений в батче\n",
    "            embeddings = st_model.encode(\n",
    "                corpus_batch, show_progress_bar=True\n",
    "            )#batch_size=num_batches, \n",
    "\n",
    "            # добавляем новые батч векторов в индекс и сохраняем его\n",
    "            cpu_index.add(embeddings)\n",
    "            # write_index(cpu_index, \"candidates.index\")\n",
    "\n",
    "            print(f\"batch: {i + 1} / {num_batches}, vectors: {cpu_index.ntotal}\")\n",
    "\n",
    "            # чистим ОЗУ\n",
    "            del embeddings\n",
    "        write_index(cpu_index, \"candidates.index\")\n",
    "    except KeyboardInterrupt:\n",
    "        print(\"Остановлено пользователем\")\n",
    "        try:\n",
    "            del embeddings\n",
    "        except:\n",
    "            pass"
   ]
  },
  {
   "cell_type": "code",
   "execution_count": 14,
   "metadata": {
    "execution": {
     "iopub.execute_input": "2023-11-23T21:41:17.358389Z",
     "iopub.status.busy": "2023-11-23T21:41:17.357492Z",
     "iopub.status.idle": "2023-11-23T21:41:17.372173Z",
     "shell.execute_reply": "2023-11-23T21:41:17.371292Z",
     "shell.execute_reply.started": "2023-11-23T21:41:17.358341Z"
    },
    "id": "8JpLRLropdFn",
    "tags": []
   },
   "outputs": [],
   "source": [
    "# чистим ОЗУ\n",
    "if not use_formed_index:\n",
    "    del cpu_index"
   ]
  },
  {
   "cell_type": "code",
   "execution_count": null,
   "metadata": {
    "tags": []
   },
   "outputs": [],
   "source": [
    "%pip install umap-learn plotly"
   ]
  },
  {
   "cell_type": "code",
   "execution_count": 98,
   "metadata": {
    "execution": {
     "iopub.execute_input": "2023-11-24T22:23:57.442227Z",
     "iopub.status.busy": "2023-11-24T22:23:57.441324Z",
     "iopub.status.idle": "2023-11-24T22:23:59.314515Z",
     "shell.execute_reply": "2023-11-24T22:23:59.313250Z",
     "shell.execute_reply.started": "2023-11-24T22:23:57.442189Z"
    },
    "tags": []
   },
   "outputs": [],
   "source": [
    "from sklearn.manifold import TSNE\n",
    "import plotly.express as px\n",
    "num_docs = search_cpu_index.ntotal\n",
    "embedding_dimension = search_cpu_index.d\n",
    "embeddings = faiss.rev_swig_ptr(search_cpu_index.get_xb(), num_docs*embedding_dimension).reshape(num_docs, embedding_dimension)\n",
    "\n",
    "tsne = TSNE(n_components=2, random_state=0)\n",
    "projections = tsne.fit_transform(embeddings[:500])"
   ]
  },
  {
   "cell_type": "code",
   "execution_count": 99,
   "metadata": {
    "execution": {
     "iopub.execute_input": "2023-11-24T22:23:59.317215Z",
     "iopub.status.busy": "2023-11-24T22:23:59.316528Z",
     "iopub.status.idle": "2023-11-24T22:23:59.382588Z",
     "shell.execute_reply": "2023-11-24T22:23:59.381441Z",
     "shell.execute_reply.started": "2023-11-24T22:23:59.317178Z"
    },
    "tags": []
   },
   "outputs": [
    {
     "data": {
      "application/vnd.plotly.v1+json": {
       "config": {
        "plotlyServerURL": "https://plot.ly"
       },
       "data": [
        {
         "hovertemplate": "0=%{x}<br>1=%{y}<extra></extra>",
         "legendgroup": "",
         "marker": {
          "color": "#636efa",
          "symbol": "circle"
         },
         "mode": "markers",
         "name": "",
         "orientation": "v",
         "showlegend": false,
         "type": "scatter",
         "x": [
          -20.029766,
          12.223478,
          13.174458,
          6.3584256,
          -17.126753,
          -5.507751,
          0.10123543,
          7.0061903,
          -6.065344,
          4.274683,
          4.435957,
          -11.212058,
          -4.0507336,
          4.2698464,
          -1.4107436,
          6.2461653,
          7.919608,
          7.9988346,
          5.9238343,
          3.3572042,
          -8.638608,
          -17.600363,
          8.762241,
          -3.2397482,
          8.582602,
          4.9944286,
          12.854041,
          8.060373,
          -0.77961576,
          -0.31410488,
          13.04058,
          -13.394216,
          -2.1783683,
          -4.848239,
          -4.531707,
          -9.928003,
          -11.422934,
          -4.7310605,
          8.149244,
          13.0783,
          10.015316,
          17.018936,
          0.9566433,
          -9.34437,
          4.160487,
          -7.1745305,
          -4.293001,
          -2.304837,
          0.89555395,
          -1.5100992,
          3.0541375,
          -16.994944,
          -7.0624895,
          -0.5988966,
          18.195322,
          -16.306875,
          -11.316215,
          12.038933,
          10.755921,
          11.891618,
          2.7565293,
          -2.3960333,
          -9.623005,
          5.1108894,
          1.3703313,
          -13.348782,
          -2.4127479,
          1.9987727,
          14.279016,
          16.556526,
          6.5572424,
          13.610962,
          5.2056828,
          2.981301,
          6.0583544,
          0.49757537,
          -11.514377,
          -18.46143,
          -6.1444674,
          -6.10093,
          -12.122207,
          11.181396,
          -2.820433,
          -7.3531723,
          0.93898815,
          17.516611,
          2.0562632,
          -5.7300806,
          -5.7092443,
          -16.460287,
          9.878611,
          4.7578,
          2.9289694,
          3.7416072,
          5.009139,
          0.85080844,
          8.23118,
          2.9638643,
          11.149795,
          -1.3910606,
          13.753983,
          11.370887,
          -4.232504,
          -8.5369625,
          2.963477,
          -7.2897477,
          -5.536591,
          8.26496,
          -7.486462,
          10.910902,
          5.2705817,
          -7.7256055,
          3.1891236,
          -8.815169,
          -1.7470132,
          -6.0645304,
          -6.124158,
          3.6562123,
          -5.388082,
          -8.139331,
          -4.718908,
          6.765931,
          -8.509901,
          -0.8606223,
          14.921076,
          10.324019,
          -18.243658,
          0.6530277,
          -5.8859506,
          -1.2078773,
          -8.448271,
          16.777107,
          1.3775566,
          17.578054,
          8.736694,
          9.474646,
          0.97735345,
          1.765767,
          -10.488979,
          -6.81479,
          -0.29651338,
          14.166491,
          -9.913486,
          -8.284728,
          -5.182513,
          10.516448,
          -3.8031788,
          17.384516,
          -4.6086764,
          -15.198701,
          20.075829,
          -2.0788498,
          3.8460212,
          14.974951,
          -14.851469,
          10.162294,
          4.08767,
          -6.528723,
          -12.401711,
          1.7468152,
          -1.7680812,
          -6.8120856,
          -1.6025048,
          10.841975,
          1.3151623,
          -9.909447,
          0.6950106,
          -1.3277705,
          -8.228032,
          -1.4246887,
          -9.541323,
          -1.9536902,
          0.6770171,
          -4.1966386,
          4.514147,
          1.5359442,
          -6.542851,
          2.9749918,
          -9.948865,
          -11.376743,
          -0.9282002,
          9.381251,
          -15.608466,
          1.4632133,
          -12.290695,
          0.600685,
          5.965198,
          6.6836915,
          3.9392614,
          15.219691,
          8.694249,
          5.2035737,
          5.0509043,
          15.8922205,
          -0.33490768,
          -4.526587,
          -3.80404,
          -11.960607,
          -3.0828714,
          -3.2897727,
          9.720867,
          -13.626929,
          -7.3982253,
          7.1173863,
          -5.378912,
          -6.5825853,
          7.1411996,
          -4.41166,
          15.410981,
          -8.480464,
          12.242401,
          5.981986,
          -3.761475,
          7.9426646,
          4.4530888,
          12.544998,
          -2.6619043,
          0.5697345,
          -8.073853,
          5.187826,
          -18.387249,
          15.243847,
          7.0292845,
          -13.46709,
          11.94785,
          -13.335769,
          -12.5915365,
          -5.634,
          -19.800114,
          12.147837,
          -14.094641,
          3.447945,
          -11.771729,
          -12.517387,
          1.9043436,
          -1.3292235,
          2.7224424,
          -18.659492,
          -5.408048,
          2.6458812,
          6.830036,
          9.265848,
          -1.1015344,
          11.163998,
          -8.715258,
          -0.72605944,
          13.994423,
          8.037969,
          -7.221594,
          -9.777159,
          -3.7554598,
          10.558671,
          1.9772567,
          7.017282,
          -7.8017545,
          14.972806,
          -0.71211433,
          1.6926383,
          -0.7113771,
          -12.2777405,
          -0.7843907,
          9.219286,
          -16.17928,
          -3.483859,
          -4.3803253,
          -5.708118,
          14.463507,
          8.344029,
          13.694946,
          -10.88648,
          -4.4916077,
          -2.0341918,
          7.6597776,
          11.835755,
          -5.0560236,
          8.782923,
          -18.698044,
          -3.4514627,
          10.353197,
          -4.4916344,
          2.9415262,
          8.990148,
          5.310022,
          5.3035293,
          -6.6765747,
          -1.8217117,
          1.2856528,
          -7.3246703,
          -11.796755,
          -0.6141125,
          -0.28329456,
          0.058391094,
          -6.5735083,
          -13.923088,
          13.943204,
          6.572336,
          5.4799232,
          -2.904172,
          -4.704484,
          -10.022811,
          2.9277546,
          10.277391,
          -1.3122222,
          -16.312202,
          -12.267549,
          -11.959771,
          -4.6139936,
          4.322976,
          -8.174038,
          -9.108209,
          -14.855462,
          9.353227,
          -4.5515094,
          -14.101032,
          -6.1841145,
          -4.35509,
          -4.5676775,
          2.7312174,
          7.1876287,
          6.323039,
          0.6033181,
          -9.482089,
          -18.585846,
          -12.191694,
          2.043914,
          -3.6938322,
          -9.155763,
          -10.4048605,
          7.201412,
          2.9597485,
          -3.4086661,
          -9.355465,
          -7.9385657,
          -10.417508,
          1.3145026,
          0.9182585,
          -10.032931,
          14.699437,
          5.8873816,
          1.2548895,
          9.020125,
          -6.362524,
          6.1704636,
          1.892839,
          2.409578,
          4.9116745,
          -3.234595,
          9.617862,
          4.771087,
          -7.169074,
          4.599065,
          5.734812,
          1.8414519,
          6.522524,
          -13.963029,
          -10.712492,
          12.01864,
          -8.479726,
          6.41968,
          4.4946704,
          -13.170524,
          4.8406234,
          6.2796464,
          -0.13268006,
          9.167277,
          0.654291,
          14.394052,
          11.597236,
          0.42135844,
          -13.229779,
          7.589038,
          13.898829,
          -15.309928,
          -15.248069,
          0.4245092,
          1.0799884,
          4.223805,
          5.2643647,
          15.6646,
          -5.98914,
          18.838293,
          -20.620304,
          1.0869923,
          -13.766667,
          -19.825016,
          -11.806056,
          19.636805,
          -8.023939,
          -8.117071,
          -13.413972,
          8.480495,
          -6.8616405,
          9.021388,
          -14.922123,
          0.88567615,
          14.399431,
          -13.334598,
          -7.3867655,
          4.6775737,
          -3.2216258,
          18.740501,
          20.066051,
          2.452118,
          5.02385,
          9.913436,
          3.881923,
          4.0173745,
          -6.0495377,
          -3.6454728,
          6.1235304,
          6.817618,
          17.189394,
          7.4950333,
          2.2788105,
          -8.612749,
          12.50177,
          0.20205575,
          15.902905,
          -17.014046,
          7.3795033,
          -0.22989956,
          -2.5634556,
          -7.327201,
          -1.4016157,
          2.6434252,
          -2.4743109,
          -7.3646564,
          12.13435,
          -7.20799,
          -3.5021052,
          4.519066,
          9.211747,
          9.029966,
          -8.469154,
          -1.8507077,
          -2.4825766,
          -7.1978693,
          7.38889,
          4.777773,
          -7.972195,
          -2.517596,
          -7.5671487,
          8.8569,
          1.5140173,
          -0.8845394,
          16.096138,
          0.28663176,
          -11.771895,
          -9.946022,
          2.8980303,
          -4.278434,
          9.20341,
          10.172936,
          0.3859379,
          0.08105676,
          5.6711354,
          4.0773644,
          17.284061,
          -7.4662633,
          -11.57837,
          6.7474804,
          -8.952112,
          -14.650368,
          10.358196,
          -11.388489,
          -13.312956,
          -7.341051,
          -7.1743283,
          13.762602,
          -10.154407,
          7.3791513,
          -1.4087529,
          -7.1068482,
          6.0869746,
          7.2338,
          -7.534437,
          -14.838682,
          1.8406726,
          -5.690532,
          15.814415,
          2.4852672,
          -11.295655,
          -12.088186,
          -11.083561,
          18.746494,
          4.650518,
          -2.4399045,
          -0.38848475,
          9.935594,
          -2.5394564,
          -4.2188716,
          10.521727,
          1.344263,
          10.259295,
          4.605053,
          8.485155,
          -5.4156575,
          -0.36743826,
          -2.2093987,
          3.673942
         ],
         "xaxis": "x",
         "y": [
          1.0609447,
          -8.195417,
          1.3445493,
          -13.813026,
          -6.0386696,
          -10.398288,
          2.762139,
          -4.644477,
          8.688773,
          -13.771037,
          11.0524645,
          -10.856976,
          -4.2513704,
          1.540836,
          -0.032442648,
          12.450143,
          0.81777084,
          -15.089554,
          8.249899,
          9.505042,
          -2.715255,
          3.7247257,
          -11.994411,
          -19.635103,
          -3.370192,
          8.683692,
          -1.0723536,
          0.62862396,
          15.898483,
          -6.883668,
          7.7682557,
          8.100356,
          20.847733,
          -14.633273,
          12.246702,
          10.172439,
          3.419364,
          0.3747471,
          3.7336326,
          -14.150119,
          11.818589,
          -9.545456,
          9.641665,
          -3.0485578,
          -5.62952,
          3.4304113,
          1.7523519,
          9.443588,
          -5.3073506,
          -3.7300134,
          12.600309,
          -1.9609932,
          19.55809,
          6.3127,
          -0.89254564,
          -5.06015,
          0.76021135,
          -4.937157,
          9.747315,
          14.930915,
          -4.9094405,
          -6.110525,
          -8.10241,
          18.264717,
          11.334082,
          -2.2651384,
          0.9437166,
          -2.229868,
          5.404948,
          -0.27201712,
          8.597137,
          -1.3228437,
          7.039056,
          -13.209433,
          -19.124142,
          18.367704,
          1.1075926,
          6.1575146,
          -0.91315126,
          -4.725579,
          -0.29002607,
          9.542598,
          -22.407438,
          -11.868762,
          10.266292,
          -2.4436724,
          3.5559754,
          -0.38382286,
          3.266861,
          9.720016,
          -16.948555,
          -21.371563,
          -11.659606,
          12.660727,
          -1.4123896,
          6.584101,
          -7.4242735,
          -2.698107,
          17.610254,
          1.493311,
          8.442158,
          0.25405303,
          17.136717,
          -5.434102,
          -6.729607,
          -11.640516,
          9.510283,
          -7.3612814,
          18.055197,
          -2.5907094,
          -10.245207,
          -7.865046,
          -14.42683,
          -9.833692,
          18.029205,
          6.090477,
          1.4374822,
          -3.0619564,
          -18.764936,
          2.7802644,
          -9.577221,
          -11.400534,
          -8.142492,
          11.719613,
          -10.504044,
          -1.726876,
          -1.9071676,
          -0.9805636,
          -3.7267811,
          -5.6033053,
          7.970816,
          4.2491646,
          -18.998297,
          -7.5315423,
          15.922377,
          -18.081072,
          14.322266,
          7.0041018,
          -13.050745,
          0.3521961,
          9.36815,
          -10.257711,
          9.607991,
          -9.395754,
          -20.418072,
          -3.8445556,
          -2.3936222,
          -6.6988354,
          8.105038,
          -12.4583,
          2.6738303,
          20.855856,
          6.9126873,
          -5.6091337,
          -0.9635013,
          3.9514077,
          -0.48933685,
          5.687399,
          16.846657,
          -13.904912,
          -1.2332227,
          -6.5863886,
          10.475643,
          -2.4843075,
          1.7758024,
          -6.612785,
          5.00429,
          -9.5407915,
          -18.58247,
          -5.9275985,
          -11.123693,
          14.6648655,
          6.481693,
          -8.302138,
          -22.470863,
          -1.335296,
          2.808113,
          0.65496117,
          4.282714,
          -10.971501,
          -13.634477,
          -10.286813,
          -8.8398,
          -0.45157972,
          6.9296784,
          0.32109484,
          4.832851,
          5.5573926,
          -2.3335652,
          -10.376792,
          -18.526005,
          4.55917,
          6.021713,
          -5.953337,
          8.977634,
          -17.852728,
          -12.492688,
          13.744066,
          -11.733778,
          -5.957162,
          1.3446928,
          5.66584,
          18.513136,
          -14.165042,
          -19.388706,
          -0.30652288,
          -4.453271,
          11.0404,
          11.427616,
          9.942258,
          -11.650859,
          -0.38495314,
          5.4253883,
          12.1495495,
          -6.528847,
          11.772684,
          4.734905,
          -9.9686775,
          -14.753281,
          -5.488153,
          -1.8959525,
          -6.1890693,
          9.744198,
          3.7258031,
          1.9864187,
          -9.453086,
          -6.1772895,
          0.9339198,
          5.625301,
          5.840039,
          -12.602257,
          10.195788,
          2.240894,
          17.019388,
          17.97184,
          -7.6478944,
          2.483805,
          8.963229,
          -6.5152225,
          -0.97229004,
          5.8505874,
          -17.211775,
          -2.8663094,
          -7.0685015,
          12.391005,
          -8.632086,
          -8.564031,
          -12.014203,
          -10.536553,
          14.618784,
          10.625345,
          -10.426421,
          18.034204,
          14.551509,
          6.62938,
          -7.7431064,
          4.3677382,
          -3.4595177,
          -14.098132,
          -3.1213176,
          -1.4658673,
          2.2997305,
          1.6157703,
          -4.126468,
          -9.074022,
          0.08066297,
          -1.9749827,
          -7.4840903,
          14.308288,
          9.7684145,
          0.28506255,
          6.80753,
          -6.058471,
          -4.796907,
          2.0587325,
          10.734294,
          8.971954,
          8.587272,
          -3.7989354,
          -19.207844,
          8.087251,
          -10.566715,
          -3.372973,
          2.6494586,
          -13.097126,
          -17.882149,
          -8.204832,
          -10.017252,
          -5.5410433,
          0.7824387,
          5.313784,
          -2.9019022,
          8.116922,
          8.398108,
          -8.3935375,
          3.2734573,
          2.1391656,
          -0.9506248,
          3.8542929,
          4.2564697,
          -5.933465,
          -6.9091973,
          -9.9742985,
          -2.3696787,
          12.510184,
          -9.470831,
          6.0749345,
          -15.817921,
          -2.1038196,
          0.4059708,
          12.00038,
          -0.961145,
          11.934747,
          -7.3763375,
          12.025158,
          -1.8738443,
          6.1236596,
          12.705678,
          2.6029065,
          14.345936,
          -1.4081125,
          2.8936007,
          6.1650763,
          5.83251,
          -4.876859,
          -9.4817915,
          -17.124626,
          6.5938215,
          6.8126125,
          5.924469,
          7.491234,
          -1.6720455,
          1.0444461,
          8.259262,
          14.644294,
          13.40207,
          -1.4180841,
          1.0152843,
          -0.35663676,
          20.449465,
          8.829621,
          11.807002,
          -6.1836534,
          0.7169925,
          -10.228724,
          -9.960128,
          -6.9985614,
          5.113335,
          3.6342897,
          -7.865883,
          0.03628929,
          17.051083,
          -9.963971,
          -2.6931243,
          -7.4847546,
          9.738442,
          -8.697161,
          -8.960271,
          -8.193454,
          -12.418378,
          2.769393,
          -7.52098,
          -8.448773,
          -15.922457,
          -6.482788,
          -19.805492,
          8.582735,
          1.9927129,
          -3.9350882,
          7.964353,
          -9.863633,
          -4.2852783,
          -4.112186,
          -4.192895,
          -0.0053022597,
          -7.1741934,
          -3.506485,
          10.622184,
          -6.092131,
          9.54947,
          -1.9696268,
          -5.074101,
          8.782078,
          1.4694318,
          5.611696,
          -7.830423,
          -5.4520626,
          -6.5748544,
          -19.18099,
          -16.327887,
          -9.530235,
          4.963889,
          -15.252254,
          5.115277,
          -11.356224,
          3.2014625,
          -8.8412285,
          -17.195072,
          -9.794195,
          2.0341716,
          8.722854,
          2.676664,
          5.339676,
          14.40075,
          -8.901359,
          -1.0824556,
          4.5653424,
          -8.5444355,
          0.16207361,
          1.2853135,
          -6.35318,
          -8.295321,
          -1.2740228,
          2.5982347,
          -20.29573,
          3.9359732,
          2.6483903,
          7.456065,
          -4.303331,
          10.102252,
          -0.8252553,
          -11.7675905,
          14.461731,
          2.0888245,
          -12.546476,
          -2.557249,
          2.0253894,
          -11.679476,
          3.4720278,
          8.329203,
          -22.424555,
          -6.7934804,
          -17.14215,
          -18.322632,
          7.7558317,
          9.829379,
          -0.7946312,
          5.3016205,
          14.343245,
          4.5982985,
          3.900654,
          -4.6443295,
          7.2199802,
          -8.631751,
          -8.659654,
          -14.996532,
          -20.147018,
          5.0871825,
          6.335231,
          15.002903,
          14.758679,
          -2.0049326,
          7.2761507,
          -2.3251,
          -11.980587,
          10.849159,
          -5.098423,
          -9.026691,
          9.589826,
          -3.0042903,
          16.631552,
          -5.1993065,
          -8.439933,
          -14.074228,
          14.848087,
          4.1195703,
          -17.145842,
          14.923372,
          -4.150222,
          -9.542967,
          -16.634165,
          -4.7284565,
          -4.2538466,
          11.524807,
          7.538935,
          2.3100932,
          -2.33004,
          -16.73817,
          -3.66381,
          -7.956372,
          4.362397,
          9.6515875,
          15.925865,
          -15.337505,
          8.726222,
          -15.205833,
          -14.460513,
          -14.73098,
          13.52286,
          4.054751,
          17.093271,
          7.2159176,
          -10.2786455,
          3.8986177,
          8.779988,
          3.4435232,
          -19.589064,
          5.3356175,
          12.690429,
          5.0572414
         ],
         "yaxis": "y"
        }
       ],
       "layout": {
        "autosize": true,
        "legend": {
         "tracegroupgap": 0
        },
        "margin": {
         "t": 60
        },
        "template": {
         "data": {
          "bar": [
           {
            "error_x": {
             "color": "#2a3f5f"
            },
            "error_y": {
             "color": "#2a3f5f"
            },
            "marker": {
             "line": {
              "color": "#E5ECF6",
              "width": 0.5
             },
             "pattern": {
              "fillmode": "overlay",
              "size": 10,
              "solidity": 0.2
             }
            },
            "type": "bar"
           }
          ],
          "barpolar": [
           {
            "marker": {
             "line": {
              "color": "#E5ECF6",
              "width": 0.5
             },
             "pattern": {
              "fillmode": "overlay",
              "size": 10,
              "solidity": 0.2
             }
            },
            "type": "barpolar"
           }
          ],
          "carpet": [
           {
            "aaxis": {
             "endlinecolor": "#2a3f5f",
             "gridcolor": "white",
             "linecolor": "white",
             "minorgridcolor": "white",
             "startlinecolor": "#2a3f5f"
            },
            "baxis": {
             "endlinecolor": "#2a3f5f",
             "gridcolor": "white",
             "linecolor": "white",
             "minorgridcolor": "white",
             "startlinecolor": "#2a3f5f"
            },
            "type": "carpet"
           }
          ],
          "choropleth": [
           {
            "colorbar": {
             "outlinewidth": 0,
             "ticks": ""
            },
            "type": "choropleth"
           }
          ],
          "contour": [
           {
            "colorbar": {
             "outlinewidth": 0,
             "ticks": ""
            },
            "colorscale": [
             [
              0,
              "#0d0887"
             ],
             [
              0.1111111111111111,
              "#46039f"
             ],
             [
              0.2222222222222222,
              "#7201a8"
             ],
             [
              0.3333333333333333,
              "#9c179e"
             ],
             [
              0.4444444444444444,
              "#bd3786"
             ],
             [
              0.5555555555555556,
              "#d8576b"
             ],
             [
              0.6666666666666666,
              "#ed7953"
             ],
             [
              0.7777777777777778,
              "#fb9f3a"
             ],
             [
              0.8888888888888888,
              "#fdca26"
             ],
             [
              1,
              "#f0f921"
             ]
            ],
            "type": "contour"
           }
          ],
          "contourcarpet": [
           {
            "colorbar": {
             "outlinewidth": 0,
             "ticks": ""
            },
            "type": "contourcarpet"
           }
          ],
          "heatmap": [
           {
            "colorbar": {
             "outlinewidth": 0,
             "ticks": ""
            },
            "colorscale": [
             [
              0,
              "#0d0887"
             ],
             [
              0.1111111111111111,
              "#46039f"
             ],
             [
              0.2222222222222222,
              "#7201a8"
             ],
             [
              0.3333333333333333,
              "#9c179e"
             ],
             [
              0.4444444444444444,
              "#bd3786"
             ],
             [
              0.5555555555555556,
              "#d8576b"
             ],
             [
              0.6666666666666666,
              "#ed7953"
             ],
             [
              0.7777777777777778,
              "#fb9f3a"
             ],
             [
              0.8888888888888888,
              "#fdca26"
             ],
             [
              1,
              "#f0f921"
             ]
            ],
            "type": "heatmap"
           }
          ],
          "heatmapgl": [
           {
            "colorbar": {
             "outlinewidth": 0,
             "ticks": ""
            },
            "colorscale": [
             [
              0,
              "#0d0887"
             ],
             [
              0.1111111111111111,
              "#46039f"
             ],
             [
              0.2222222222222222,
              "#7201a8"
             ],
             [
              0.3333333333333333,
              "#9c179e"
             ],
             [
              0.4444444444444444,
              "#bd3786"
             ],
             [
              0.5555555555555556,
              "#d8576b"
             ],
             [
              0.6666666666666666,
              "#ed7953"
             ],
             [
              0.7777777777777778,
              "#fb9f3a"
             ],
             [
              0.8888888888888888,
              "#fdca26"
             ],
             [
              1,
              "#f0f921"
             ]
            ],
            "type": "heatmapgl"
           }
          ],
          "histogram": [
           {
            "marker": {
             "pattern": {
              "fillmode": "overlay",
              "size": 10,
              "solidity": 0.2
             }
            },
            "type": "histogram"
           }
          ],
          "histogram2d": [
           {
            "colorbar": {
             "outlinewidth": 0,
             "ticks": ""
            },
            "colorscale": [
             [
              0,
              "#0d0887"
             ],
             [
              0.1111111111111111,
              "#46039f"
             ],
             [
              0.2222222222222222,
              "#7201a8"
             ],
             [
              0.3333333333333333,
              "#9c179e"
             ],
             [
              0.4444444444444444,
              "#bd3786"
             ],
             [
              0.5555555555555556,
              "#d8576b"
             ],
             [
              0.6666666666666666,
              "#ed7953"
             ],
             [
              0.7777777777777778,
              "#fb9f3a"
             ],
             [
              0.8888888888888888,
              "#fdca26"
             ],
             [
              1,
              "#f0f921"
             ]
            ],
            "type": "histogram2d"
           }
          ],
          "histogram2dcontour": [
           {
            "colorbar": {
             "outlinewidth": 0,
             "ticks": ""
            },
            "colorscale": [
             [
              0,
              "#0d0887"
             ],
             [
              0.1111111111111111,
              "#46039f"
             ],
             [
              0.2222222222222222,
              "#7201a8"
             ],
             [
              0.3333333333333333,
              "#9c179e"
             ],
             [
              0.4444444444444444,
              "#bd3786"
             ],
             [
              0.5555555555555556,
              "#d8576b"
             ],
             [
              0.6666666666666666,
              "#ed7953"
             ],
             [
              0.7777777777777778,
              "#fb9f3a"
             ],
             [
              0.8888888888888888,
              "#fdca26"
             ],
             [
              1,
              "#f0f921"
             ]
            ],
            "type": "histogram2dcontour"
           }
          ],
          "mesh3d": [
           {
            "colorbar": {
             "outlinewidth": 0,
             "ticks": ""
            },
            "type": "mesh3d"
           }
          ],
          "parcoords": [
           {
            "line": {
             "colorbar": {
              "outlinewidth": 0,
              "ticks": ""
             }
            },
            "type": "parcoords"
           }
          ],
          "pie": [
           {
            "automargin": true,
            "type": "pie"
           }
          ],
          "scatter": [
           {
            "fillpattern": {
             "fillmode": "overlay",
             "size": 10,
             "solidity": 0.2
            },
            "type": "scatter"
           }
          ],
          "scatter3d": [
           {
            "line": {
             "colorbar": {
              "outlinewidth": 0,
              "ticks": ""
             }
            },
            "marker": {
             "colorbar": {
              "outlinewidth": 0,
              "ticks": ""
             }
            },
            "type": "scatter3d"
           }
          ],
          "scattercarpet": [
           {
            "marker": {
             "colorbar": {
              "outlinewidth": 0,
              "ticks": ""
             }
            },
            "type": "scattercarpet"
           }
          ],
          "scattergeo": [
           {
            "marker": {
             "colorbar": {
              "outlinewidth": 0,
              "ticks": ""
             }
            },
            "type": "scattergeo"
           }
          ],
          "scattergl": [
           {
            "marker": {
             "colorbar": {
              "outlinewidth": 0,
              "ticks": ""
             }
            },
            "type": "scattergl"
           }
          ],
          "scattermapbox": [
           {
            "marker": {
             "colorbar": {
              "outlinewidth": 0,
              "ticks": ""
             }
            },
            "type": "scattermapbox"
           }
          ],
          "scatterpolar": [
           {
            "marker": {
             "colorbar": {
              "outlinewidth": 0,
              "ticks": ""
             }
            },
            "type": "scatterpolar"
           }
          ],
          "scatterpolargl": [
           {
            "marker": {
             "colorbar": {
              "outlinewidth": 0,
              "ticks": ""
             }
            },
            "type": "scatterpolargl"
           }
          ],
          "scatterternary": [
           {
            "marker": {
             "colorbar": {
              "outlinewidth": 0,
              "ticks": ""
             }
            },
            "type": "scatterternary"
           }
          ],
          "surface": [
           {
            "colorbar": {
             "outlinewidth": 0,
             "ticks": ""
            },
            "colorscale": [
             [
              0,
              "#0d0887"
             ],
             [
              0.1111111111111111,
              "#46039f"
             ],
             [
              0.2222222222222222,
              "#7201a8"
             ],
             [
              0.3333333333333333,
              "#9c179e"
             ],
             [
              0.4444444444444444,
              "#bd3786"
             ],
             [
              0.5555555555555556,
              "#d8576b"
             ],
             [
              0.6666666666666666,
              "#ed7953"
             ],
             [
              0.7777777777777778,
              "#fb9f3a"
             ],
             [
              0.8888888888888888,
              "#fdca26"
             ],
             [
              1,
              "#f0f921"
             ]
            ],
            "type": "surface"
           }
          ],
          "table": [
           {
            "cells": {
             "fill": {
              "color": "#EBF0F8"
             },
             "line": {
              "color": "white"
             }
            },
            "header": {
             "fill": {
              "color": "#C8D4E3"
             },
             "line": {
              "color": "white"
             }
            },
            "type": "table"
           }
          ]
         },
         "layout": {
          "annotationdefaults": {
           "arrowcolor": "#2a3f5f",
           "arrowhead": 0,
           "arrowwidth": 1
          },
          "autotypenumbers": "strict",
          "coloraxis": {
           "colorbar": {
            "outlinewidth": 0,
            "ticks": ""
           }
          },
          "colorscale": {
           "diverging": [
            [
             0,
             "#8e0152"
            ],
            [
             0.1,
             "#c51b7d"
            ],
            [
             0.2,
             "#de77ae"
            ],
            [
             0.3,
             "#f1b6da"
            ],
            [
             0.4,
             "#fde0ef"
            ],
            [
             0.5,
             "#f7f7f7"
            ],
            [
             0.6,
             "#e6f5d0"
            ],
            [
             0.7,
             "#b8e186"
            ],
            [
             0.8,
             "#7fbc41"
            ],
            [
             0.9,
             "#4d9221"
            ],
            [
             1,
             "#276419"
            ]
           ],
           "sequential": [
            [
             0,
             "#0d0887"
            ],
            [
             0.1111111111111111,
             "#46039f"
            ],
            [
             0.2222222222222222,
             "#7201a8"
            ],
            [
             0.3333333333333333,
             "#9c179e"
            ],
            [
             0.4444444444444444,
             "#bd3786"
            ],
            [
             0.5555555555555556,
             "#d8576b"
            ],
            [
             0.6666666666666666,
             "#ed7953"
            ],
            [
             0.7777777777777778,
             "#fb9f3a"
            ],
            [
             0.8888888888888888,
             "#fdca26"
            ],
            [
             1,
             "#f0f921"
            ]
           ],
           "sequentialminus": [
            [
             0,
             "#0d0887"
            ],
            [
             0.1111111111111111,
             "#46039f"
            ],
            [
             0.2222222222222222,
             "#7201a8"
            ],
            [
             0.3333333333333333,
             "#9c179e"
            ],
            [
             0.4444444444444444,
             "#bd3786"
            ],
            [
             0.5555555555555556,
             "#d8576b"
            ],
            [
             0.6666666666666666,
             "#ed7953"
            ],
            [
             0.7777777777777778,
             "#fb9f3a"
            ],
            [
             0.8888888888888888,
             "#fdca26"
            ],
            [
             1,
             "#f0f921"
            ]
           ]
          },
          "colorway": [
           "#636efa",
           "#EF553B",
           "#00cc96",
           "#ab63fa",
           "#FFA15A",
           "#19d3f3",
           "#FF6692",
           "#B6E880",
           "#FF97FF",
           "#FECB52"
          ],
          "font": {
           "color": "#2a3f5f"
          },
          "geo": {
           "bgcolor": "white",
           "lakecolor": "white",
           "landcolor": "#E5ECF6",
           "showlakes": true,
           "showland": true,
           "subunitcolor": "white"
          },
          "hoverlabel": {
           "align": "left"
          },
          "hovermode": "closest",
          "mapbox": {
           "style": "light"
          },
          "paper_bgcolor": "white",
          "plot_bgcolor": "#E5ECF6",
          "polar": {
           "angularaxis": {
            "gridcolor": "white",
            "linecolor": "white",
            "ticks": ""
           },
           "bgcolor": "#E5ECF6",
           "radialaxis": {
            "gridcolor": "white",
            "linecolor": "white",
            "ticks": ""
           }
          },
          "scene": {
           "xaxis": {
            "backgroundcolor": "#E5ECF6",
            "gridcolor": "white",
            "gridwidth": 2,
            "linecolor": "white",
            "showbackground": true,
            "ticks": "",
            "zerolinecolor": "white"
           },
           "yaxis": {
            "backgroundcolor": "#E5ECF6",
            "gridcolor": "white",
            "gridwidth": 2,
            "linecolor": "white",
            "showbackground": true,
            "ticks": "",
            "zerolinecolor": "white"
           },
           "zaxis": {
            "backgroundcolor": "#E5ECF6",
            "gridcolor": "white",
            "gridwidth": 2,
            "linecolor": "white",
            "showbackground": true,
            "ticks": "",
            "zerolinecolor": "white"
           }
          },
          "shapedefaults": {
           "line": {
            "color": "#2a3f5f"
           }
          },
          "ternary": {
           "aaxis": {
            "gridcolor": "white",
            "linecolor": "white",
            "ticks": ""
           },
           "baxis": {
            "gridcolor": "white",
            "linecolor": "white",
            "ticks": ""
           },
           "bgcolor": "#E5ECF6",
           "caxis": {
            "gridcolor": "white",
            "linecolor": "white",
            "ticks": ""
           }
          },
          "title": {
           "x": 0.05
          },
          "xaxis": {
           "automargin": true,
           "gridcolor": "white",
           "linecolor": "white",
           "ticks": "",
           "title": {
            "standoff": 15
           },
           "zerolinecolor": "white",
           "zerolinewidth": 2
          },
          "yaxis": {
           "automargin": true,
           "gridcolor": "white",
           "linecolor": "white",
           "ticks": "",
           "title": {
            "standoff": 15
           },
           "zerolinecolor": "white",
           "zerolinewidth": 2
          }
         }
        },
        "xaxis": {
         "anchor": "y",
         "autorange": true,
         "domain": [
          0,
          1
         ],
         "range": [
          -23.09062008861307,
          22.546145088613066
         ],
         "title": {
          "text": "0"
         },
         "type": "linear"
        },
        "yaxis": {
         "anchor": "x",
         "autorange": true,
         "domain": [
          0,
          1
         ],
         "range": [
          -25.825556465879266,
          24.210549465879264
         ],
         "title": {
          "text": "1"
         },
         "type": "linear"
        }
       }
      },
      "image/png": "[encoded data removed]",
      "text/html": [
       "<div>                            <div id=\"cfce8767-9711-44ad-81f1-781abd657bdf\" class=\"plotly-graph-div\" style=\"height:525px; width:100%;\"></div>            <script type=\"text/javascript\">                require([\"plotly\"], function(Plotly) {                    window.PLOTLYENV=window.PLOTLYENV || {};                                    if (document.getElementById(\"cfce8767-9711-44ad-81f1-781abd657bdf\")) {                    Plotly.newPlot(                        \"cfce8767-9711-44ad-81f1-781abd657bdf\",                        [{\"hovertemplate\":\"0=%{x}<br>1=%{y}<extra></extra>\",\"legendgroup\":\"\",\"marker\":{\"color\":\"#636efa\",\"symbol\":\"circle\"},\"mode\":\"markers\",\"name\":\"\",\"orientation\":\"v\",\"showlegend\":false,\"x\":[-20.029766,12.223478,13.174458,6.3584256,-17.126753,-5.507751,0.10123543,7.0061903,-6.065344,4.274683,4.435957,-11.212058,-4.0507336,4.2698464,-1.4107436,6.2461653,7.919608,7.9988346,5.9238343,3.3572042,-8.638608,-17.600363,8.762241,-3.2397482,8.582602,4.9944286,12.854041,8.060373,-0.77961576,-0.31410488,13.04058,-13.394216,-2.1783683,-4.848239,-4.531707,-9.928003,-11.422934,-4.7310605,8.149244,13.0783,10.015316,17.018936,0.9566433,-9.34437,4.160487,-7.1745305,-4.293001,-2.304837,0.89555395,-1.5100992,3.0541375,-16.994944,-7.0624895,-0.5988966,18.195322,-16.306875,-11.316215,12.038933,10.755921,11.891618,2.7565293,-2.3960333,-9.623005,5.1108894,1.3703313,-13.348782,-2.4127479,1.9987727,14.279016,16.556526,6.5572424,13.610962,5.2056828,2.981301,6.0583544,0.49757537,-11.514377,-18.46143,-6.1444674,-6.10093,-12.122207,11.181396,-2.820433,-7.3531723,0.93898815,17.516611,2.0562632,-5.7300806,-5.7092443,-16.460287,9.878611,4.7578,2.9289694,3.7416072,5.009139,0.85080844,8.23118,2.9638643,11.149795,-1.3910606,13.753983,11.370887,-4.232504,-8.5369625,2.963477,-7.2897477,-5.536591,8.26496,-7.486462,10.910902,5.2705817,-7.7256055,3.1891236,-8.815169,-1.7470132,-6.0645304,-6.124158,3.6562123,-5.388082,-8.139331,-4.718908,6.765931,-8.509901,-0.8606223,14.921076,10.324019,-18.243658,0.6530277,-5.8859506,-1.2078773,-8.448271,16.777107,1.3775566,17.578054,8.736694,9.474646,0.97735345,1.765767,-10.488979,-6.81479,-0.29651338,14.166491,-9.913486,-8.284728,-5.182513,10.516448,-3.8031788,17.384516,-4.6086764,-15.198701,20.075829,-2.0788498,3.8460212,14.974951,-14.851469,10.162294,4.08767,-6.528723,-12.401711,1.7468152,-1.7680812,-6.8120856,-1.6025048,10.841975,1.3151623,-9.909447,0.6950106,-1.3277705,-8.228032,-1.4246887,-9.541323,-1.9536902,0.6770171,-4.1966386,4.514147,1.5359442,-6.542851,2.9749918,-9.948865,-11.376743,-0.9282002,9.381251,-15.608466,1.4632133,-12.290695,0.600685,5.965198,6.6836915,3.9392614,15.219691,8.694249,5.2035737,5.0509043,15.8922205,-0.33490768,-4.526587,-3.80404,-11.960607,-3.0828714,-3.2897727,9.720867,-13.626929,-7.3982253,7.1173863,-5.378912,-6.5825853,7.1411996,-4.41166,15.410981,-8.480464,12.242401,5.981986,-3.761475,7.9426646,4.4530888,12.544998,-2.6619043,0.5697345,-8.073853,5.187826,-18.387249,15.243847,7.0292845,-13.46709,11.94785,-13.335769,-12.5915365,-5.634,-19.800114,12.147837,-14.094641,3.447945,-11.771729,-12.517387,1.9043436,-1.3292235,2.7224424,-18.659492,-5.408048,2.6458812,6.830036,9.265848,-1.1015344,11.163998,-8.715258,-0.72605944,13.994423,8.037969,-7.221594,-9.777159,-3.7554598,10.558671,1.9772567,7.017282,-7.8017545,14.972806,-0.71211433,1.6926383,-0.7113771,-12.2777405,-0.7843907,9.219286,-16.17928,-3.483859,-4.3803253,-5.708118,14.463507,8.344029,13.694946,-10.88648,-4.4916077,-2.0341918,7.6597776,11.835755,-5.0560236,8.782923,-18.698044,-3.4514627,10.353197,-4.4916344,2.9415262,8.990148,5.310022,5.3035293,-6.6765747,-1.8217117,1.2856528,-7.3246703,-11.796755,-0.6141125,-0.28329456,0.058391094,-6.5735083,-13.923088,13.943204,6.572336,5.4799232,-2.904172,-4.704484,-10.022811,2.9277546,10.277391,-1.3122222,-16.312202,-12.267549,-11.959771,-4.6139936,4.322976,-8.174038,-9.108209,-14.855462,9.353227,-4.5515094,-14.101032,-6.1841145,-4.35509,-4.5676775,2.7312174,7.1876287,6.323039,0.6033181,-9.482089,-18.585846,-12.191694,2.043914,-3.6938322,-9.155763,-10.4048605,7.201412,2.9597485,-3.4086661,-9.355465,-7.9385657,-10.417508,1.3145026,0.9182585,-10.032931,14.699437,5.8873816,1.2548895,9.020125,-6.362524,6.1704636,1.892839,2.409578,4.9116745,-3.234595,9.617862,4.771087,-7.169074,4.599065,5.734812,1.8414519,6.522524,-13.963029,-10.712492,12.01864,-8.479726,6.41968,4.4946704,-13.170524,4.8406234,6.2796464,-0.13268006,9.167277,0.654291,14.394052,11.597236,0.42135844,-13.229779,7.589038,13.898829,-15.309928,-15.248069,0.4245092,1.0799884,4.223805,5.2643647,15.6646,-5.98914,18.838293,-20.620304,1.0869923,-13.766667,-19.825016,-11.806056,19.636805,-8.023939,-8.117071,-13.413972,8.480495,-6.8616405,9.021388,-14.922123,0.88567615,14.399431,-13.334598,-7.3867655,4.6775737,-3.2216258,18.740501,20.066051,2.452118,5.02385,9.913436,3.881923,4.0173745,-6.0495377,-3.6454728,6.1235304,6.817618,17.189394,7.4950333,2.2788105,-8.612749,12.50177,0.20205575,15.902905,-17.014046,7.3795033,-0.22989956,-2.5634556,-7.327201,-1.4016157,2.6434252,-2.4743109,-7.3646564,12.13435,-7.20799,-3.5021052,4.519066,9.211747,9.029966,-8.469154,-1.8507077,-2.4825766,-7.1978693,7.38889,4.777773,-7.972195,-2.517596,-7.5671487,8.8569,1.5140173,-0.8845394,16.096138,0.28663176,-11.771895,-9.946022,2.8980303,-4.278434,9.20341,10.172936,0.3859379,0.08105676,5.6711354,4.0773644,17.284061,-7.4662633,-11.57837,6.7474804,-8.952112,-14.650368,10.358196,-11.388489,-13.312956,-7.341051,-7.1743283,13.762602,-10.154407,7.3791513,-1.4087529,-7.1068482,6.0869746,7.2338,-7.534437,-14.838682,1.8406726,-5.690532,15.814415,2.4852672,-11.295655,-12.088186,-11.083561,18.746494,4.650518,-2.4399045,-0.38848475,9.935594,-2.5394564,-4.2188716,10.521727,1.344263,10.259295,4.605053,8.485155,-5.4156575,-0.36743826,-2.2093987,3.673942],\"xaxis\":\"x\",\"y\":[1.0609447,-8.195417,1.3445493,-13.813026,-6.0386696,-10.398288,2.762139,-4.644477,8.688773,-13.771037,11.0524645,-10.856976,-4.2513704,1.540836,-0.032442648,12.450143,0.81777084,-15.089554,8.249899,9.505042,-2.715255,3.7247257,-11.994411,-19.635103,-3.370192,8.683692,-1.0723536,0.62862396,15.898483,-6.883668,7.7682557,8.100356,20.847733,-14.633273,12.246702,10.172439,3.419364,0.3747471,3.7336326,-14.150119,11.818589,-9.545456,9.641665,-3.0485578,-5.62952,3.4304113,1.7523519,9.443588,-5.3073506,-3.7300134,12.600309,-1.9609932,19.55809,6.3127,-0.89254564,-5.06015,0.76021135,-4.937157,9.747315,14.930915,-4.9094405,-6.110525,-8.10241,18.264717,11.334082,-2.2651384,0.9437166,-2.229868,5.404948,-0.27201712,8.597137,-1.3228437,7.039056,-13.209433,-19.124142,18.367704,1.1075926,6.1575146,-0.91315126,-4.725579,-0.29002607,9.542598,-22.407438,-11.868762,10.266292,-2.4436724,3.5559754,-0.38382286,3.266861,9.720016,-16.948555,-21.371563,-11.659606,12.660727,-1.4123896,6.584101,-7.4242735,-2.698107,17.610254,1.493311,8.442158,0.25405303,17.136717,-5.434102,-6.729607,-11.640516,9.510283,-7.3612814,18.055197,-2.5907094,-10.245207,-7.865046,-14.42683,-9.833692,18.029205,6.090477,1.4374822,-3.0619564,-18.764936,2.7802644,-9.577221,-11.400534,-8.142492,11.719613,-10.504044,-1.726876,-1.9071676,-0.9805636,-3.7267811,-5.6033053,7.970816,4.2491646,-18.998297,-7.5315423,15.922377,-18.081072,14.322266,7.0041018,-13.050745,0.3521961,9.36815,-10.257711,9.607991,-9.395754,-20.418072,-3.8445556,-2.3936222,-6.6988354,8.105038,-12.4583,2.6738303,20.855856,6.9126873,-5.6091337,-0.9635013,3.9514077,-0.48933685,5.687399,16.846657,-13.904912,-1.2332227,-6.5863886,10.475643,-2.4843075,1.7758024,-6.612785,5.00429,-9.5407915,-18.58247,-5.9275985,-11.123693,14.6648655,6.481693,-8.302138,-22.470863,-1.335296,2.808113,0.65496117,4.282714,-10.971501,-13.634477,-10.286813,-8.8398,-0.45157972,6.9296784,0.32109484,4.832851,5.5573926,-2.3335652,-10.376792,-18.526005,4.55917,6.021713,-5.953337,8.977634,-17.852728,-12.492688,13.744066,-11.733778,-5.957162,1.3446928,5.66584,18.513136,-14.165042,-19.388706,-0.30652288,-4.453271,11.0404,11.427616,9.942258,-11.650859,-0.38495314,5.4253883,12.1495495,-6.528847,11.772684,4.734905,-9.9686775,-14.753281,-5.488153,-1.8959525,-6.1890693,9.744198,3.7258031,1.9864187,-9.453086,-6.1772895,0.9339198,5.625301,5.840039,-12.602257,10.195788,2.240894,17.019388,17.97184,-7.6478944,2.483805,8.963229,-6.5152225,-0.97229004,5.8505874,-17.211775,-2.8663094,-7.0685015,12.391005,-8.632086,-8.564031,-12.014203,-10.536553,14.618784,10.625345,-10.426421,18.034204,14.551509,6.62938,-7.7431064,4.3677382,-3.4595177,-14.098132,-3.1213176,-1.4658673,2.2997305,1.6157703,-4.126468,-9.074022,0.08066297,-1.9749827,-7.4840903,14.308288,9.7684145,0.28506255,6.80753,-6.058471,-4.796907,2.0587325,10.734294,8.971954,8.587272,-3.7989354,-19.207844,8.087251,-10.566715,-3.372973,2.6494586,-13.097126,-17.882149,-8.204832,-10.017252,-5.5410433,0.7824387,5.313784,-2.9019022,8.116922,8.398108,-8.3935375,3.2734573,2.1391656,-0.9506248,3.8542929,4.2564697,-5.933465,-6.9091973,-9.9742985,-2.3696787,12.510184,-9.470831,6.0749345,-15.817921,-2.1038196,0.4059708,12.00038,-0.961145,11.934747,-7.3763375,12.025158,-1.8738443,6.1236596,12.705678,2.6029065,14.345936,-1.4081125,2.8936007,6.1650763,5.83251,-4.876859,-9.4817915,-17.124626,6.5938215,6.8126125,5.924469,7.491234,-1.6720455,1.0444461,8.259262,14.644294,13.40207,-1.4180841,1.0152843,-0.35663676,20.449465,8.829621,11.807002,-6.1836534,0.7169925,-10.228724,-9.960128,-6.9985614,5.113335,3.6342897,-7.865883,0.03628929,17.051083,-9.963971,-2.6931243,-7.4847546,9.738442,-8.697161,-8.960271,-8.193454,-12.418378,2.769393,-7.52098,-8.448773,-15.922457,-6.482788,-19.805492,8.582735,1.9927129,-3.9350882,7.964353,-9.863633,-4.2852783,-4.112186,-4.192895,-0.0053022597,-7.1741934,-3.506485,10.622184,-6.092131,9.54947,-1.9696268,-5.074101,8.782078,1.4694318,5.611696,-7.830423,-5.4520626,-6.5748544,-19.18099,-16.327887,-9.530235,4.963889,-15.252254,5.115277,-11.356224,3.2014625,-8.8412285,-17.195072,-9.794195,2.0341716,8.722854,2.676664,5.339676,14.40075,-8.901359,-1.0824556,4.5653424,-8.5444355,0.16207361,1.2853135,-6.35318,-8.295321,-1.2740228,2.5982347,-20.29573,3.9359732,2.6483903,7.456065,-4.303331,10.102252,-0.8252553,-11.7675905,14.461731,2.0888245,-12.546476,-2.557249,2.0253894,-11.679476,3.4720278,8.329203,-22.424555,-6.7934804,-17.14215,-18.322632,7.7558317,9.829379,-0.7946312,5.3016205,14.343245,4.5982985,3.900654,-4.6443295,7.2199802,-8.631751,-8.659654,-14.996532,-20.147018,5.0871825,6.335231,15.002903,14.758679,-2.0049326,7.2761507,-2.3251,-11.980587,10.849159,-5.098423,-9.026691,9.589826,-3.0042903,16.631552,-5.1993065,-8.439933,-14.074228,14.848087,4.1195703,-17.145842,14.923372,-4.150222,-9.542967,-16.634165,-4.7284565,-4.2538466,11.524807,7.538935,2.3100932,-2.33004,-16.73817,-3.66381,-7.956372,4.362397,9.6515875,15.925865,-15.337505,8.726222,-15.205833,-14.460513,-14.73098,13.52286,4.054751,17.093271,7.2159176,-10.2786455,3.8986177,8.779988,3.4435232,-19.589064,5.3356175,12.690429,5.0572414],\"yaxis\":\"y\",\"type\":\"scatter\"}],                        {\"template\":{\"data\":{\"histogram2dcontour\":[{\"type\":\"histogram2dcontour\",\"colorbar\":{\"outlinewidth\":0,\"ticks\":\"\"},\"colorscale\":[[0.0,\"#0d0887\"],[0.1111111111111111,\"#46039f\"],[0.2222222222222222,\"#7201a8\"],[0.3333333333333333,\"#9c179e\"],[0.4444444444444444,\"#bd3786\"],[0.5555555555555556,\"#d8576b\"],[0.6666666666666666,\"#ed7953\"],[0.7777777777777778,\"#fb9f3a\"],[0.8888888888888888,\"#fdca26\"],[1.0,\"#f0f921\"]]}],\"choropleth\":[{\"type\":\"choropleth\",\"colorbar\":{\"outlinewidth\":0,\"ticks\":\"\"}}],\"histogram2d\":[{\"type\":\"histogram2d\",\"colorbar\":{\"outlinewidth\":0,\"ticks\":\"\"},\"colorscale\":[[0.0,\"#0d0887\"],[0.1111111111111111,\"#46039f\"],[0.2222222222222222,\"#7201a8\"],[0.3333333333333333,\"#9c179e\"],[0.4444444444444444,\"#bd3786\"],[0.5555555555555556,\"#d8576b\"],[0.6666666666666666,\"#ed7953\"],[0.7777777777777778,\"#fb9f3a\"],[0.8888888888888888,\"#fdca26\"],[1.0,\"#f0f921\"]]}],\"heatmap\":[{\"type\":\"heatmap\",\"colorbar\":{\"outlinewidth\":0,\"ticks\":\"\"},\"colorscale\":[[0.0,\"#0d0887\"],[0.1111111111111111,\"#46039f\"],[0.2222222222222222,\"#7201a8\"],[0.3333333333333333,\"#9c179e\"],[0.4444444444444444,\"#bd3786\"],[0.5555555555555556,\"#d8576b\"],[0.6666666666666666,\"#ed7953\"],[0.7777777777777778,\"#fb9f3a\"],[0.8888888888888888,\"#fdca26\"],[1.0,\"#f0f921\"]]}],\"heatmapgl\":[{\"type\":\"heatmapgl\",\"colorbar\":{\"outlinewidth\":0,\"ticks\":\"\"},\"colorscale\":[[0.0,\"#0d0887\"],[0.1111111111111111,\"#46039f\"],[0.2222222222222222,\"#7201a8\"],[0.3333333333333333,\"#9c179e\"],[0.4444444444444444,\"#bd3786\"],[0.5555555555555556,\"#d8576b\"],[0.6666666666666666,\"#ed7953\"],[0.7777777777777778,\"#fb9f3a\"],[0.8888888888888888,\"#fdca26\"],[1.0,\"#f0f921\"]]}],\"contourcarpet\":[{\"type\":\"contourcarpet\",\"colorbar\":{\"outlinewidth\":0,\"ticks\":\"\"}}],\"contour\":[{\"type\":\"contour\",\"colorbar\":{\"outlinewidth\":0,\"ticks\":\"\"},\"colorscale\":[[0.0,\"#0d0887\"],[0.1111111111111111,\"#46039f\"],[0.2222222222222222,\"#7201a8\"],[0.3333333333333333,\"#9c179e\"],[0.4444444444444444,\"#bd3786\"],[0.5555555555555556,\"#d8576b\"],[0.6666666666666666,\"#ed7953\"],[0.7777777777777778,\"#fb9f3a\"],[0.8888888888888888,\"#fdca26\"],[1.0,\"#f0f921\"]]}],\"surface\":[{\"type\":\"surface\",\"colorbar\":{\"outlinewidth\":0,\"ticks\":\"\"},\"colorscale\":[[0.0,\"#0d0887\"],[0.1111111111111111,\"#46039f\"],[0.2222222222222222,\"#7201a8\"],[0.3333333333333333,\"#9c179e\"],[0.4444444444444444,\"#bd3786\"],[0.5555555555555556,\"#d8576b\"],[0.6666666666666666,\"#ed7953\"],[0.7777777777777778,\"#fb9f3a\"],[0.8888888888888888,\"#fdca26\"],[1.0,\"#f0f921\"]]}],\"mesh3d\":[{\"type\":\"mesh3d\",\"colorbar\":{\"outlinewidth\":0,\"ticks\":\"\"}}],\"scatter\":[{\"fillpattern\":{\"fillmode\":\"overlay\",\"size\":10,\"solidity\":0.2},\"type\":\"scatter\"}],\"parcoords\":[{\"type\":\"parcoords\",\"line\":{\"colorbar\":{\"outlinewidth\":0,\"ticks\":\"\"}}}],\"scatterpolargl\":[{\"type\":\"scatterpolargl\",\"marker\":{\"colorbar\":{\"outlinewidth\":0,\"ticks\":\"\"}}}],\"bar\":[{\"error_x\":{\"color\":\"#2a3f5f\"},\"error_y\":{\"color\":\"#2a3f5f\"},\"marker\":{\"line\":{\"color\":\"#E5ECF6\",\"width\":0.5},\"pattern\":{\"fillmode\":\"overlay\",\"size\":10,\"solidity\":0.2}},\"type\":\"bar\"}],\"scattergeo\":[{\"type\":\"scattergeo\",\"marker\":{\"colorbar\":{\"outlinewidth\":0,\"ticks\":\"\"}}}],\"scatterpolar\":[{\"type\":\"scatterpolar\",\"marker\":{\"colorbar\":{\"outlinewidth\":0,\"ticks\":\"\"}}}],\"histogram\":[{\"marker\":{\"pattern\":{\"fillmode\":\"overlay\",\"size\":10,\"solidity\":0.2}},\"type\":\"histogram\"}],\"scattergl\":[{\"type\":\"scattergl\",\"marker\":{\"colorbar\":{\"outlinewidth\":0,\"ticks\":\"\"}}}],\"scatter3d\":[{\"type\":\"scatter3d\",\"line\":{\"colorbar\":{\"outlinewidth\":0,\"ticks\":\"\"}},\"marker\":{\"colorbar\":{\"outlinewidth\":0,\"ticks\":\"\"}}}],\"scattermapbox\":[{\"type\":\"scattermapbox\",\"marker\":{\"colorbar\":{\"outlinewidth\":0,\"ticks\":\"\"}}}],\"scatterternary\":[{\"type\":\"scatterternary\",\"marker\":{\"colorbar\":{\"outlinewidth\":0,\"ticks\":\"\"}}}],\"scattercarpet\":[{\"type\":\"scattercarpet\",\"marker\":{\"colorbar\":{\"outlinewidth\":0,\"ticks\":\"\"}}}],\"carpet\":[{\"aaxis\":{\"endlinecolor\":\"#2a3f5f\",\"gridcolor\":\"white\",\"linecolor\":\"white\",\"minorgridcolor\":\"white\",\"startlinecolor\":\"#2a3f5f\"},\"baxis\":{\"endlinecolor\":\"#2a3f5f\",\"gridcolor\":\"white\",\"linecolor\":\"white\",\"minorgridcolor\":\"white\",\"startlinecolor\":\"#2a3f5f\"},\"type\":\"carpet\"}],\"table\":[{\"cells\":{\"fill\":{\"color\":\"#EBF0F8\"},\"line\":{\"color\":\"white\"}},\"header\":{\"fill\":{\"color\":\"#C8D4E3\"},\"line\":{\"color\":\"white\"}},\"type\":\"table\"}],\"barpolar\":[{\"marker\":{\"line\":{\"color\":\"#E5ECF6\",\"width\":0.5},\"pattern\":{\"fillmode\":\"overlay\",\"size\":10,\"solidity\":0.2}},\"type\":\"barpolar\"}],\"pie\":[{\"automargin\":true,\"type\":\"pie\"}]},\"layout\":{\"autotypenumbers\":\"strict\",\"colorway\":[\"#636efa\",\"#EF553B\",\"#00cc96\",\"#ab63fa\",\"#FFA15A\",\"#19d3f3\",\"#FF6692\",\"#B6E880\",\"#FF97FF\",\"#FECB52\"],\"font\":{\"color\":\"#2a3f5f\"},\"hovermode\":\"closest\",\"hoverlabel\":{\"align\":\"left\"},\"paper_bgcolor\":\"white\",\"plot_bgcolor\":\"#E5ECF6\",\"polar\":{\"bgcolor\":\"#E5ECF6\",\"angularaxis\":{\"gridcolor\":\"white\",\"linecolor\":\"white\",\"ticks\":\"\"},\"radialaxis\":{\"gridcolor\":\"white\",\"linecolor\":\"white\",\"ticks\":\"\"}},\"ternary\":{\"bgcolor\":\"#E5ECF6\",\"aaxis\":{\"gridcolor\":\"white\",\"linecolor\":\"white\",\"ticks\":\"\"},\"baxis\":{\"gridcolor\":\"white\",\"linecolor\":\"white\",\"ticks\":\"\"},\"caxis\":{\"gridcolor\":\"white\",\"linecolor\":\"white\",\"ticks\":\"\"}},\"coloraxis\":{\"colorbar\":{\"outlinewidth\":0,\"ticks\":\"\"}},\"colorscale\":{\"sequential\":[[0.0,\"#0d0887\"],[0.1111111111111111,\"#46039f\"],[0.2222222222222222,\"#7201a8\"],[0.3333333333333333,\"#9c179e\"],[0.4444444444444444,\"#bd3786\"],[0.5555555555555556,\"#d8576b\"],[0.6666666666666666,\"#ed7953\"],[0.7777777777777778,\"#fb9f3a\"],[0.8888888888888888,\"#fdca26\"],[1.0,\"#f0f921\"]],\"sequentialminus\":[[0.0,\"#0d0887\"],[0.1111111111111111,\"#46039f\"],[0.2222222222222222,\"#7201a8\"],[0.3333333333333333,\"#9c179e\"],[0.4444444444444444,\"#bd3786\"],[0.5555555555555556,\"#d8576b\"],[0.6666666666666666,\"#ed7953\"],[0.7777777777777778,\"#fb9f3a\"],[0.8888888888888888,\"#fdca26\"],[1.0,\"#f0f921\"]],\"diverging\":[[0,\"#8e0152\"],[0.1,\"#c51b7d\"],[0.2,\"#de77ae\"],[0.3,\"#f1b6da\"],[0.4,\"#fde0ef\"],[0.5,\"#f7f7f7\"],[0.6,\"#e6f5d0\"],[0.7,\"#b8e186\"],[0.8,\"#7fbc41\"],[0.9,\"#4d9221\"],[1,\"#276419\"]]},\"xaxis\":{\"gridcolor\":\"white\",\"linecolor\":\"white\",\"ticks\":\"\",\"title\":{\"standoff\":15},\"zerolinecolor\":\"white\",\"automargin\":true,\"zerolinewidth\":2},\"yaxis\":{\"gridcolor\":\"white\",\"linecolor\":\"white\",\"ticks\":\"\",\"title\":{\"standoff\":15},\"zerolinecolor\":\"white\",\"automargin\":true,\"zerolinewidth\":2},\"scene\":{\"xaxis\":{\"backgroundcolor\":\"#E5ECF6\",\"gridcolor\":\"white\",\"linecolor\":\"white\",\"showbackground\":true,\"ticks\":\"\",\"zerolinecolor\":\"white\",\"gridwidth\":2},\"yaxis\":{\"backgroundcolor\":\"#E5ECF6\",\"gridcolor\":\"white\",\"linecolor\":\"white\",\"showbackground\":true,\"ticks\":\"\",\"zerolinecolor\":\"white\",\"gridwidth\":2},\"zaxis\":{\"backgroundcolor\":\"#E5ECF6\",\"gridcolor\":\"white\",\"linecolor\":\"white\",\"showbackground\":true,\"ticks\":\"\",\"zerolinecolor\":\"white\",\"gridwidth\":2}},\"shapedefaults\":{\"line\":{\"color\":\"#2a3f5f\"}},\"annotationdefaults\":{\"arrowcolor\":\"#2a3f5f\",\"arrowhead\":0,\"arrowwidth\":1},\"geo\":{\"bgcolor\":\"white\",\"landcolor\":\"#E5ECF6\",\"subunitcolor\":\"white\",\"showland\":true,\"showlakes\":true,\"lakecolor\":\"white\"},\"title\":{\"x\":0.05},\"mapbox\":{\"style\":\"light\"}}},\"xaxis\":{\"anchor\":\"y\",\"domain\":[0.0,1.0],\"title\":{\"text\":\"0\"}},\"yaxis\":{\"anchor\":\"x\",\"domain\":[0.0,1.0],\"title\":{\"text\":\"1\"}},\"legend\":{\"tracegroupgap\":0},\"margin\":{\"t\":60}},                        {\"responsive\": true}                    ).then(function(){\n",
       "                            \n",
       "var gd = document.getElementById('cfce8767-9711-44ad-81f1-781abd657bdf');\n",
       "var x = new MutationObserver(function (mutations, observer) {{\n",
       "        var display = window.getComputedStyle(gd).display;\n",
       "        if (!display || display === 'none') {{\n",
       "            console.log([gd, 'removed!']);\n",
       "            Plotly.purge(gd);\n",
       "            observer.disconnect();\n",
       "        }}\n",
       "}});\n",
       "\n",
       "// Listen for the removal of the full notebook cells\n",
       "var notebookContainer = gd.closest('#notebook-container');\n",
       "if (notebookContainer) {{\n",
       "    x.observe(notebookContainer, {childList: true});\n",
       "}}\n",
       "\n",
       "// Listen for the clearing of the current output cell\n",
       "var outputEl = gd.closest('.output');\n",
       "if (outputEl) {{\n",
       "    x.observe(outputEl, {childList: true});\n",
       "}}\n",
       "\n",
       "                        })                };                });            </script>        </div>"
      ]
     },
     "metadata": {},
     "output_type": "display_data"
    }
   ],
   "source": [
    "fig = px.scatter(\n",
    "    projections, x=0, y=1\n",
    ")\n",
    "fig.show()"
   ]
  },
  {
   "cell_type": "markdown",
   "metadata": {
    "id": "QVI-uMi_4pX7",
    "tags": []
   },
   "source": [
    "# Подбор кандидатов по базе векторов"
   ]
  },
  {
   "cell_type": "code",
   "execution_count": 59,
   "metadata": {
    "execution": {
     "iopub.execute_input": "2023-11-25T09:59:14.399528Z",
     "iopub.status.busy": "2023-11-25T09:59:14.398342Z",
     "iopub.status.idle": "2023-11-25T09:59:23.404383Z",
     "shell.execute_reply": "2023-11-25T09:59:23.403007Z",
     "shell.execute_reply.started": "2023-11-25T09:59:14.399386Z"
    },
    "tags": []
   },
   "outputs": [],
   "source": [
    "automarkup = pd.read_parquet(\"automarkup.parquet\", engine=\"fastparquet\")"
   ]
  },
  {
   "cell_type": "code",
   "execution_count": 60,
   "metadata": {
    "execution": {
     "iopub.execute_input": "2023-11-25T09:59:23.407599Z",
     "iopub.status.busy": "2023-11-25T09:59:23.406199Z",
     "iopub.status.idle": "2023-11-25T09:59:28.040865Z",
     "shell.execute_reply": "2023-11-25T09:59:28.039649Z",
     "shell.execute_reply.started": "2023-11-25T09:59:23.407543Z"
    },
    "tags": []
   },
   "outputs": [],
   "source": [
    "automarkup = automarkup[~automarkup[\"query\"].isna()]\n",
    "automarkup[\"query\"] = automarkup[\"query\"].apply(lambda x: x.lower().strip())"
   ]
  },
  {
   "cell_type": "code",
   "execution_count": 11,
   "metadata": {
    "execution": {
     "iopub.execute_input": "2023-11-25T04:45:04.387231Z",
     "iopub.status.busy": "2023-11-25T04:45:04.386651Z",
     "iopub.status.idle": "2023-11-25T04:45:12.619622Z",
     "shell.execute_reply": "2023-11-25T04:45:12.619014Z",
     "shell.execute_reply.started": "2023-11-25T04:45:04.387205Z"
    },
    "tags": []
   },
   "outputs": [],
   "source": [
    "n = 5000\n",
    "top_n = automarkup[\"query\"].value_counts()[: int(2 * n)].index.to_list()\n",
    "other = np.array(automarkup[\"query\"].value_counts()[int(2 * n) :].index.to_list())\n",
    "random_n = np.random.choice(other, size=n, replace=False).tolist()\n",
    "queries = top_n + random_n\n",
    "query2ind = {q: i for i, q in enumerate(queries)}"
   ]
  },
  {
   "cell_type": "code",
   "execution_count": 4,
   "metadata": {
    "execution": {
     "iopub.execute_input": "2023-11-25T06:32:28.695552Z",
     "iopub.status.busy": "2023-11-25T06:32:28.694974Z",
     "iopub.status.idle": "2023-11-25T06:32:28.705682Z",
     "shell.execute_reply": "2023-11-25T06:32:28.705117Z",
     "shell.execute_reply.started": "2023-11-25T06:32:28.695526Z"
    },
    "tags": []
   },
   "outputs": [],
   "source": [
    "# когда прогоните один раз у вас на диске кандиды уже будут сохранены\n",
    "# можете поставить значение True, чтобы сэкономить время\n",
    "use_formed_candidates = False"
   ]
  },
  {
   "cell_type": "code",
   "execution_count": 8,
   "metadata": {
    "execution": {
     "iopub.execute_input": "2023-11-25T07:47:35.300724Z",
     "iopub.status.busy": "2023-11-25T07:47:35.299817Z",
     "iopub.status.idle": "2023-11-25T07:47:35.359059Z",
     "shell.execute_reply": "2023-11-25T07:47:35.357947Z",
     "shell.execute_reply.started": "2023-11-25T07:47:35.300670Z"
    },
    "tags": []
   },
   "outputs": [],
   "source": [
    "df_test = pd.read_csv('./ground_truth.csv')\n",
    "queries = df_test['query'].values"
   ]
  },
  {
   "cell_type": "code",
   "execution_count": 147,
   "metadata": {
    "colab": {
     "base_uri": "https://localhost:8080/"
    },
    "execution": {
     "iopub.execute_input": "2023-11-25T10:53:52.639465Z",
     "iopub.status.busy": "2023-11-25T10:53:52.638444Z",
     "iopub.status.idle": "2023-11-25T10:53:53.765083Z",
     "shell.execute_reply": "2023-11-25T10:53:53.763819Z",
     "shell.execute_reply.started": "2023-11-25T10:53:52.639413Z"
    },
    "id": "y2vH5y5p3UDE",
    "outputId": "af18765a-289b-4c2d-d27e-633e3c357282",
    "tags": []
   },
   "outputs": [
    {
     "data": {
      "application/vnd.jupyter.widget-view+json": {
       "model_id": "f78d4551b88b4226b8e5d3cdb579b821",
       "version_major": 2,
       "version_minor": 0
      },
      "text/plain": [
       "Batches:   0%|          | 0/63 [00:00<?, ?it/s]"
      ]
     },
     "metadata": {},
     "output_type": "display_data"
    }
   ],
   "source": [
    "qembeddings = st_model.encode(queries, show_progress_bar=True)#batch_size=1000, "
   ]
  },
  {
   "cell_type": "code",
   "execution_count": 10,
   "metadata": {
    "execution": {
     "iopub.execute_input": "2023-11-25T07:47:58.541627Z",
     "iopub.status.busy": "2023-11-25T07:47:58.540601Z",
     "iopub.status.idle": "2023-11-25T07:48:16.167031Z",
     "shell.execute_reply": "2023-11-25T07:48:16.165876Z",
     "shell.execute_reply.started": "2023-11-25T07:47:58.541569Z"
    },
    "tags": []
   },
   "outputs": [
    {
     "data": {
      "text/plain": [
       "(True, 5784480)"
      ]
     },
     "execution_count": 10,
     "metadata": {},
     "output_type": "execute_result"
    }
   ],
   "source": [
    "search_cpu_index = read_index(\"candidates.index\")\n",
    "search_cpu_index.is_trained, search_cpu_index.ntotal"
   ]
  },
  {
   "cell_type": "code",
   "execution_count": 11,
   "metadata": {
    "execution": {
     "iopub.execute_input": "2023-11-25T07:48:44.057740Z",
     "iopub.status.busy": "2023-11-25T07:48:44.056692Z",
     "iopub.status.idle": "2023-11-25T07:48:44.072722Z",
     "shell.execute_reply": "2023-11-25T07:48:44.071607Z",
     "shell.execute_reply.started": "2023-11-25T07:48:44.057704Z"
    }
   },
   "outputs": [
    {
     "data": {
      "text/plain": [
       "(41646, 768)"
      ]
     },
     "execution_count": 11,
     "metadata": {},
     "output_type": "execute_result"
    }
   ],
   "source": [
    "qembeddings.shape"
   ]
  },
  {
   "cell_type": "code",
   "execution_count": 12,
   "metadata": {
    "execution": {
     "iopub.execute_input": "2023-11-25T07:48:53.015732Z",
     "iopub.status.busy": "2023-11-25T07:48:53.014721Z",
     "iopub.status.idle": "2023-11-25T07:59:03.572318Z",
     "shell.execute_reply": "2023-11-25T07:59:03.570794Z",
     "shell.execute_reply.started": "2023-11-25T07:48:53.015696Z"
    },
    "tags": []
   },
   "outputs": [
    {
     "ename": "KeyboardInterrupt",
     "evalue": "",
     "output_type": "error",
     "traceback": [
      "\u001b[0;31m---------------------------------------------------------------------------\u001b[0m",
      "\u001b[0;31mKeyboardInterrupt\u001b[0m                         Traceback (most recent call last)",
      "\u001b[0;32m<ipython-input-12-f93d39089f1e>\u001b[0m in \u001b[0;36m<module>\u001b[0;34m\u001b[0m\n\u001b[1;32m      1\u001b[0m \u001b[0mtopk\u001b[0m \u001b[0;34m=\u001b[0m \u001b[0;36m300\u001b[0m\u001b[0;34m\u001b[0m\u001b[0;34m\u001b[0m\u001b[0m\n\u001b[0;32m----> 2\u001b[0;31m \u001b[0mdistance\u001b[0m\u001b[0;34m,\u001b[0m \u001b[0mfaiss_ind\u001b[0m \u001b[0;34m=\u001b[0m \u001b[0msearch_cpu_index\u001b[0m\u001b[0;34m.\u001b[0m\u001b[0msearch\u001b[0m\u001b[0;34m(\u001b[0m\u001b[0mqembeddings\u001b[0m\u001b[0;34m,\u001b[0m \u001b[0mtopk\u001b[0m\u001b[0;34m)\u001b[0m\u001b[0;34m\u001b[0m\u001b[0;34m\u001b[0m\u001b[0m\n\u001b[0m\u001b[1;32m      3\u001b[0m \u001b[0;31m#\u001b[0m\u001b[0;34m\u001b[0m\u001b[0;34m\u001b[0m\u001b[0m\n",
      "\u001b[0;32m~/.local/lib/python3.10/site-packages/faiss/class_wrappers.py\u001b[0m in \u001b[0;36mreplacement_search\u001b[0;34m(self, x, k, params, D, I)\u001b[0m\n\u001b[1;32m    341\u001b[0m             \u001b[0;32massert\u001b[0m \u001b[0mI\u001b[0m\u001b[0;34m.\u001b[0m\u001b[0mshape\u001b[0m \u001b[0;34m==\u001b[0m \u001b[0;34m(\u001b[0m\u001b[0mn\u001b[0m\u001b[0;34m,\u001b[0m \u001b[0mk\u001b[0m\u001b[0;34m)\u001b[0m\u001b[0;34m\u001b[0m\u001b[0;34m\u001b[0m\u001b[0m\n\u001b[1;32m    342\u001b[0m \u001b[0;34m\u001b[0m\u001b[0m\n\u001b[0;32m--> 343\u001b[0;31m         \u001b[0mself\u001b[0m\u001b[0;34m.\u001b[0m\u001b[0msearch_c\u001b[0m\u001b[0;34m(\u001b[0m\u001b[0mn\u001b[0m\u001b[0;34m,\u001b[0m \u001b[0mswig_ptr\u001b[0m\u001b[0;34m(\u001b[0m\u001b[0mx\u001b[0m\u001b[0;34m)\u001b[0m\u001b[0;34m,\u001b[0m \u001b[0mk\u001b[0m\u001b[0;34m,\u001b[0m \u001b[0mswig_ptr\u001b[0m\u001b[0;34m(\u001b[0m\u001b[0mD\u001b[0m\u001b[0;34m)\u001b[0m\u001b[0;34m,\u001b[0m \u001b[0mswig_ptr\u001b[0m\u001b[0;34m(\u001b[0m\u001b[0mI\u001b[0m\u001b[0;34m)\u001b[0m\u001b[0;34m,\u001b[0m \u001b[0mparams\u001b[0m\u001b[0;34m)\u001b[0m\u001b[0;34m\u001b[0m\u001b[0;34m\u001b[0m\u001b[0m\n\u001b[0m\u001b[1;32m    344\u001b[0m         \u001b[0;32mreturn\u001b[0m \u001b[0mD\u001b[0m\u001b[0;34m,\u001b[0m \u001b[0mI\u001b[0m\u001b[0;34m\u001b[0m\u001b[0;34m\u001b[0m\u001b[0m\n\u001b[1;32m    345\u001b[0m \u001b[0;34m\u001b[0m\u001b[0m\n",
      "\u001b[0;32m~/.local/lib/python3.10/site-packages/faiss/swigfaiss_avx2.py\u001b[0m in \u001b[0;36msearch\u001b[0;34m(self, n, x, k, distances, labels, params)\u001b[0m\n\u001b[1;32m   2019\u001b[0m \u001b[0;34m\u001b[0m\u001b[0m\n\u001b[1;32m   2020\u001b[0m     \u001b[0;32mdef\u001b[0m \u001b[0msearch\u001b[0m\u001b[0;34m(\u001b[0m\u001b[0mself\u001b[0m\u001b[0;34m,\u001b[0m \u001b[0mn\u001b[0m\u001b[0;34m,\u001b[0m \u001b[0mx\u001b[0m\u001b[0;34m,\u001b[0m \u001b[0mk\u001b[0m\u001b[0;34m,\u001b[0m \u001b[0mdistances\u001b[0m\u001b[0;34m,\u001b[0m \u001b[0mlabels\u001b[0m\u001b[0;34m,\u001b[0m \u001b[0mparams\u001b[0m\u001b[0;34m=\u001b[0m\u001b[0;32mNone\u001b[0m\u001b[0;34m)\u001b[0m\u001b[0;34m:\u001b[0m\u001b[0;34m\u001b[0m\u001b[0;34m\u001b[0m\u001b[0m\n\u001b[0;32m-> 2021\u001b[0;31m         \u001b[0;32mreturn\u001b[0m \u001b[0m_swigfaiss_avx2\u001b[0m\u001b[0;34m.\u001b[0m\u001b[0mIndexFlat_search\u001b[0m\u001b[0;34m(\u001b[0m\u001b[0mself\u001b[0m\u001b[0;34m,\u001b[0m \u001b[0mn\u001b[0m\u001b[0;34m,\u001b[0m \u001b[0mx\u001b[0m\u001b[0;34m,\u001b[0m \u001b[0mk\u001b[0m\u001b[0;34m,\u001b[0m \u001b[0mdistances\u001b[0m\u001b[0;34m,\u001b[0m \u001b[0mlabels\u001b[0m\u001b[0;34m,\u001b[0m \u001b[0mparams\u001b[0m\u001b[0;34m)\u001b[0m\u001b[0;34m\u001b[0m\u001b[0;34m\u001b[0m\u001b[0m\n\u001b[0m\u001b[1;32m   2022\u001b[0m \u001b[0;34m\u001b[0m\u001b[0m\n\u001b[1;32m   2023\u001b[0m     \u001b[0;32mdef\u001b[0m \u001b[0mrange_search\u001b[0m\u001b[0;34m(\u001b[0m\u001b[0mself\u001b[0m\u001b[0;34m,\u001b[0m \u001b[0mn\u001b[0m\u001b[0;34m,\u001b[0m \u001b[0mx\u001b[0m\u001b[0;34m,\u001b[0m \u001b[0mradius\u001b[0m\u001b[0;34m,\u001b[0m \u001b[0mresult\u001b[0m\u001b[0;34m,\u001b[0m \u001b[0mparams\u001b[0m\u001b[0;34m=\u001b[0m\u001b[0;32mNone\u001b[0m\u001b[0;34m)\u001b[0m\u001b[0;34m:\u001b[0m\u001b[0;34m\u001b[0m\u001b[0;34m\u001b[0m\u001b[0m\n",
      "\u001b[0;31mKeyboardInterrupt\u001b[0m: "
     ]
    }
   ],
   "source": [
    "topk = 100\n",
    "distance, faiss_ind = search_cpu_index.search(qembeddings, topk)"
   ]
  },
  {
   "cell_type": "code",
   "execution_count": null,
   "metadata": {
    "tags": []
   },
   "outputs": [],
   "source": [
    "from tqdm import tqdm\n",
    "dtype = [('distance', float), ('index', int)]\n",
    "generated_cand_name = \"generated_candidates.parquet\"\n",
    "if not use_formed_candidates:\n",
    "    # distance, faiss_ind = search_cpu_index.search(qembeddings, topk)\n",
    "\n",
    "    generated_cand = {\"query\": [], \"video_id\": [], \"top\":[]}\n",
    "    pbar = tqdm(total=len(queries))\n",
    "    for i, q in enumerate(queries):\n",
    "        vids = faiss_ind[i]\n",
    "        dist = distance[i]\n",
    "        percentel = np.percentile(dist,2.5)\n",
    "        sorted_output = np.sort(np.array([(i,j) for i,j in zip(dist, faiss_ind[i])], dtype=dtype), order='distance')\n",
    "        generated_cand[\"video_id\"] += [ind2videoid[str(v)] for v in vids]\n",
    "        generated_cand[\"query\"] += [q] * len(vids)\n",
    "        if int(distance[i][0]) == 0:\n",
    "            generated_cand[\"top\"] += [1 if d<5 else 0 for d, i in sorted_output]\n",
    "        else:\n",
    "            mulp_dist =dist[0]*2\n",
    "            generated_cand[\"top\"] += [1 if d<percentel and d<mulp_dist else 0 for d, i in sorted_output]\n",
    "        pbar.update(1)\n",
    "    pbar.close()\n",
    "\n",
    "    generated_cand = pd.DataFrame(generated_cand)\n",
    "\n",
    "    generated_cand.to_parquet(generated_cand_name, engine=\"fastparquet\")\n",
    "    write(generated_cand_name, generated_cand)\n",
    "else:\n",
    "    generated_cand = pd.read_parquet(generated_cand_name, engine=\"fastparquet\")"
   ]
  },
  {
   "cell_type": "code",
   "execution_count": null,
   "metadata": {
    "tags": []
   },
   "outputs": [],
   "source": [
    "search_cpu_index.search(qembeddings, topk)"
   ]
  },
  {
   "cell_type": "code",
   "execution_count": 17,
   "metadata": {
    "execution": {
     "iopub.execute_input": "2023-11-24T04:51:06.792288Z",
     "iopub.status.busy": "2023-11-24T04:51:06.791356Z",
     "iopub.status.idle": "2023-11-24T04:55:53.152119Z",
     "shell.execute_reply": "2023-11-24T04:55:53.150923Z",
     "shell.execute_reply.started": "2023-11-24T04:51:06.792237Z"
    },
    "tags": []
   },
   "outputs": [],
   "source": [
    "search_cpu_index = read_index(\"candidates.index\")"
   ]
  },
  {
   "cell_type": "code",
   "execution_count": 51,
   "metadata": {
    "execution": {
     "iopub.execute_input": "2023-11-24T16:27:11.076786Z",
     "iopub.status.busy": "2023-11-24T16:27:11.075927Z",
     "iopub.status.idle": "2023-11-24T16:27:12.022798Z",
     "shell.execute_reply": "2023-11-24T16:27:12.021649Z",
     "shell.execute_reply.started": "2023-11-24T16:27:11.076754Z"
    },
    "tags": []
   },
   "outputs": [
    {
     "name": "stdout",
     "output_type": "stream",
     "text": [
      "CPU times: user 2 µs, sys: 3 µs, total: 5 µs\n",
      "Wall time: 10.5 µs\n"
     ]
    }
   ],
   "source": [
    "dtype = [('distance', float), ('index', int)]\n",
    "\n",
    "def ones_predict(text, search_cpu_index, topk = 200):\n",
    "    qembeddings = st_model.encode([text])\n",
    "    generated_cand = {\"query\": [], \"video_id\": [], \"top\":[]}\n",
    "    distance, faiss_ind = search_cpu_index.search(qembeddings, topk)\n",
    "    sorted_output = np.sort(np.array([(i,j) for i,j in zip(distance[0], faiss_ind[0])], dtype=dtype), order='distance')\n",
    "    generated_cand[\"video_id\"] += [ind2videoid[str(v)] for v in faiss_ind[0]]\n",
    "    generated_cand[\"query\"] += [text] * len(faiss_ind[0])\n",
    "    generated_cand[\"top\"] += [1 if i<10 else 0 for i, v in enumerate(sorted_output)]\n",
    "    return generated_cand\n",
    "%time\n",
    "predict = ones_predict(\"Котики\", search_cpu_index, 300)"
   ]
  },
  {
   "cell_type": "markdown",
   "metadata": {
    "tags": []
   },
   "source": [
    "# Формирование таргета по авторазметке"
   ]
  },
  {
   "cell_type": "code",
   "execution_count": 29,
   "metadata": {
    "execution": {
     "iopub.execute_input": "2023-11-25T05:29:04.373416Z",
     "iopub.status.busy": "2023-11-25T05:29:04.372789Z",
     "iopub.status.idle": "2023-11-25T05:29:10.726381Z",
     "shell.execute_reply": "2023-11-25T05:29:10.725616Z",
     "shell.execute_reply.started": "2023-11-25T05:29:04.373389Z"
    },
    "tags": []
   },
   "outputs": [],
   "source": [
    "automarkup[\"target\"] = [1] * automarkup.shape[0]\n",
    "candidates_with_target = generated_cand.merge(\n",
    "    automarkup[[\"query\", \"video_id\", \"target\"]],\n",
    "    how=\"left\",\n",
    "    left_on=[\"query\", \"video_id\"],\n",
    "    right_on=[\"query\", \"video_id\"],\n",
    ")\n",
    "candidates_with_target[\"target\"] = candidates_with_target[\"target\"].fillna(0)"
   ]
  },
  {
   "cell_type": "code",
   "execution_count": null,
   "metadata": {},
   "outputs": [],
   "source": [
    "# # очищаем ОЗУ\n",
    "# del generated_cand\n",
    "# del search_cpu_index\n",
    "# del automarkup\n",
    "# del st_model\n",
    "# del qembeddings"
   ]
  },
  {
   "cell_type": "code",
   "execution_count": 30,
   "metadata": {
    "execution": {
     "iopub.execute_input": "2023-11-25T05:29:10.727937Z",
     "iopub.status.busy": "2023-11-25T05:29:10.727437Z",
     "iopub.status.idle": "2023-11-25T05:32:49.068069Z",
     "shell.execute_reply": "2023-11-25T05:32:49.067388Z",
     "shell.execute_reply.started": "2023-11-25T05:29:10.727915Z"
    },
    "tags": []
   },
   "outputs": [],
   "source": [
    "features_parquet = pq.ParquetFile(\"features.parquet\")\n",
    "featuresArr, filter_date = [], \"2023-05-02\"\n",
    "\n",
    "for batch in features_parquet.iter_batches():\n",
    "    tmp = batch.to_pandas()\n",
    "    featuresArr.append( tmp[tmp[\"report_date\"] == filter_date])\n",
    "\n",
    "features = pd.concat(featuresArr, axis=0)\n",
    "features = features.drop(\n",
    "    [\"v_channel_reg_datetime\", \"v_pub_datetime\",\"v_channel_type\", \"v_category\"], axis=1 # \"v_channel_type\", \"v_category\",\n",
    ")\n",
    "# features = pd.get_dummies(features, columns=[\"v_channel_type\", \"v_category\"], dtype=float)"
   ]
  },
  {
   "cell_type": "code",
   "execution_count": 124,
   "metadata": {
    "execution": {
     "iopub.execute_input": "2023-11-24T23:21:37.883793Z",
     "iopub.status.busy": "2023-11-24T23:21:37.882790Z",
     "iopub.status.idle": "2023-11-24T23:23:21.846123Z",
     "shell.execute_reply": "2023-11-24T23:23:21.844865Z",
     "shell.execute_reply.started": "2023-11-24T23:21:37.883756Z"
    },
    "tags": []
   },
   "outputs": [],
   "source": [
    "# features_parquet1 = pd.read_parquet(\"features.parquet\")"
   ]
  },
  {
   "cell_type": "markdown",
   "metadata": {
    "tags": []
   },
   "source": [
    "# Clickbait"
   ]
  },
  {
   "cell_type": "code",
   "execution_count": 55,
   "metadata": {
    "execution": {
     "iopub.execute_input": "2023-11-25T09:55:03.399967Z",
     "iopub.status.busy": "2023-11-25T09:55:03.398974Z",
     "iopub.status.idle": "2023-11-25T09:58:15.302466Z",
     "shell.execute_reply": "2023-11-25T09:58:15.301031Z",
     "shell.execute_reply.started": "2023-11-25T09:55:03.399927Z"
    },
    "tags": []
   },
   "outputs": [],
   "source": [
    "df = pd.read_csv('./manualmarkup.csv')\n",
    "df_clickbait = df.loc[df['sentiment'] == \"сlickbait\"]\n",
    "df_exact =  df.loc[df['sentiment'] == \"could_be_better\"]\n",
    "clickbait_dataset = []\n",
    "for batch in features_parquet.iter_batches():\n",
    "    clickbait_dataset.append(df_clickbait.merge(batch.to_pandas(), on='video_id',how='inner'))\n",
    "    clickbait_dataset.append(df_exact.merge(batch.to_pandas(), on='video_id',how='inner'))\n",
    "clickbait_dataset = pd.concat(clickbait_dataset,ignore_index=True)\n",
    "clickbait_dataset.drop_duplicates(subset='video_id', inplace=True)\n",
    "clickbait_dataset = pd.get_dummies(clickbait_dataset,columns=['sentiment'],dtype=int,drop_first=True)\n",
    "clickbait_dataset = clickbait_dataset.drop(columns=[\n",
    "    'query','query_date','report_date','v_channel_reg_datetime','v_pub_datetime','video_id','v_category','v_channel_type'])\n"
   ]
  },
  {
   "cell_type": "code",
   "execution_count": 56,
   "metadata": {
    "execution": {
     "iopub.execute_input": "2023-11-25T09:58:15.305932Z",
     "iopub.status.busy": "2023-11-25T09:58:15.304988Z",
     "iopub.status.idle": "2023-11-25T09:58:15.340861Z",
     "shell.execute_reply": "2023-11-25T09:58:15.339643Z",
     "shell.execute_reply.started": "2023-11-25T09:58:15.305879Z"
    },
    "tags": []
   },
   "outputs": [],
   "source": [
    "from sklearn.model_selection import train_test_split\n",
    "from sklearn.model_selection import cross_val_score, KFold\n",
    "\n",
    "y = clickbait_dataset['sentiment_сlickbait']\n",
    "x = clickbait_dataset.drop(columns=['sentiment_сlickbait'])\n",
    "X_train, X_val, y_train, y_val = train_test_split(x, y, test_size=0.2, random_state=0, stratify=y)\n",
    "clickbait_dataset_cols = np.array(clickbait_dataset.drop(columns=['sentiment_сlickbait']).columns)"
   ]
  },
  {
   "cell_type": "code",
   "execution_count": 57,
   "metadata": {
    "execution": {
     "iopub.execute_input": "2023-11-25T09:58:15.343774Z",
     "iopub.status.busy": "2023-11-25T09:58:15.343025Z",
     "iopub.status.idle": "2023-11-25T09:58:17.002840Z",
     "shell.execute_reply": "2023-11-25T09:58:17.001800Z",
     "shell.execute_reply.started": "2023-11-25T09:58:15.343742Z"
    },
    "tags": []
   },
   "outputs": [
    {
     "data": {
      "application/vnd.jupyter.widget-view+json": {
       "model_id": "35a207ffdb9b492ebac8093900a7d005",
       "version_major": 2,
       "version_minor": 0
      },
      "text/plain": [
       "MetricVisualizer(layout=Layout(align_self='stretch', height='500px'))"
      ]
     },
     "metadata": {},
     "output_type": "display_data"
    },
    {
     "data": {
      "text/plain": [
       "<catboost.core.CatBoostClassifier at 0x7f28f9574910>"
      ]
     },
     "execution_count": 57,
     "metadata": {},
     "output_type": "execute_result"
    }
   ],
   "source": [
    "from catboost import CatBoostClassifier\n",
    "params_clf = {\n",
    "    'depth': 9, \n",
    "    'iterations': 100, \n",
    "    'learning_rate': 0.03\n",
    "}\n",
    "clickbait_clf = CatBoostClassifier(verbose=False, **params_clf)\n",
    "clickbait_clf.fit(X_train, y_train, plot=True)"
   ]
  },
  {
   "cell_type": "code",
   "execution_count": 58,
   "metadata": {
    "execution": {
     "iopub.execute_input": "2023-11-25T09:58:17.005363Z",
     "iopub.status.busy": "2023-11-25T09:58:17.004343Z",
     "iopub.status.idle": "2023-11-25T09:58:17.050572Z",
     "shell.execute_reply": "2023-11-25T09:58:17.049285Z",
     "shell.execute_reply.started": "2023-11-25T09:58:17.005311Z"
    },
    "tags": []
   },
   "outputs": [
    {
     "name": "stdout",
     "output_type": "stream",
     "text": [
      "[[552  39]\n",
      " [ 45  95]]\n",
      "              precision    recall  f1-score   support\n",
      "\n",
      "           0       0.92      0.93      0.93       591\n",
      "           1       0.71      0.68      0.69       140\n",
      "\n",
      "    accuracy                           0.89       731\n",
      "   macro avg       0.82      0.81      0.81       731\n",
      "weighted avg       0.88      0.89      0.88       731\n",
      "\n"
     ]
    }
   ],
   "source": [
    "from sklearn.metrics import confusion_matrix\n",
    "\n",
    "ypred = clickbait_clf.predict(X_val)\n",
    "cm = confusion_matrix(y_val,ypred)\n",
    "print(cm)\n",
    "from sklearn.metrics import classification_report\n",
    "report = classification_report(y_val, ypred)\n",
    "print(report)\n",
    "clickbait_clf.save_model(\"clickbait_clf.ckpt\")"
   ]
  },
  {
   "cell_type": "markdown",
   "metadata": {},
   "source": [
    "### Percent of watch"
   ]
  },
  {
   "cell_type": "code",
   "execution_count": 62,
   "metadata": {
    "execution": {
     "iopub.execute_input": "2023-11-25T10:00:41.439370Z",
     "iopub.status.busy": "2023-11-25T10:00:41.438444Z",
     "iopub.status.idle": "2023-11-25T10:00:43.342573Z",
     "shell.execute_reply": "2023-11-25T10:00:43.341354Z",
     "shell.execute_reply.started": "2023-11-25T10:00:41.439334Z"
    },
    "tags": []
   },
   "outputs": [],
   "source": [
    "automarkup_percent = automarkup.drop(columns=[\n",
    "    'query','datetime','is_authorized','position','position','vtop','comment','channel','tv_show','season','emotion'])#, 'target'\n",
    "percent_of_watch = automarkup_percent.groupby(['video_id']).median()\n",
    "percent_of_watch['percent_of_watch'] = (percent_of_watch['watchtime'] * 1000) / percent_of_watch['duration']\n",
    "percent_of_watch = percent_of_watch.drop(columns=['duration','watchtime'])"
   ]
  },
  {
   "cell_type": "markdown",
   "metadata": {
    "tags": []
   },
   "source": [
    "# Формирование датасета с признаками"
   ]
  },
  {
   "cell_type": "code",
   "execution_count": 145,
   "metadata": {
    "execution": {
     "iopub.execute_input": "2023-11-25T10:53:40.334324Z",
     "iopub.status.busy": "2023-11-25T10:53:40.333349Z",
     "iopub.status.idle": "2023-11-25T10:53:40.373954Z",
     "shell.execute_reply": "2023-11-25T10:53:40.372161Z",
     "shell.execute_reply.started": "2023-11-25T10:53:40.334283Z"
    },
    "tags": []
   },
   "outputs": [
    {
     "ename": "NameError",
     "evalue": "name 'candidates_with_target' is not defined",
     "output_type": "error",
     "traceback": [
      "\u001b[0;31m---------------------------------------------------------------------------\u001b[0m",
      "\u001b[0;31mNameError\u001b[0m                                 Traceback (most recent call last)",
      "\u001b[0;32m<ipython-input-145-37d79d30d955>\u001b[0m in \u001b[0;36m<module>\u001b[0;34m\u001b[0m\n\u001b[0;32m----> 1\u001b[0;31m full_df = candidates_with_target.merge(\n\u001b[0m\u001b[1;32m      2\u001b[0m     \u001b[0mfeatures\u001b[0m\u001b[0;34m,\u001b[0m \u001b[0mhow\u001b[0m\u001b[0;34m=\u001b[0m\u001b[0;34m\"inner\"\u001b[0m\u001b[0;34m,\u001b[0m \u001b[0mleft_on\u001b[0m\u001b[0;34m=\u001b[0m\u001b[0;34m\"video_id\"\u001b[0m\u001b[0;34m,\u001b[0m \u001b[0mright_on\u001b[0m\u001b[0;34m=\u001b[0m\u001b[0;34m\"video_id\"\u001b[0m\u001b[0;34m\u001b[0m\u001b[0;34m\u001b[0m\u001b[0m\n\u001b[1;32m      3\u001b[0m )\n\u001b[1;32m      4\u001b[0m \u001b[0;31m# del features\u001b[0m\u001b[0;34m\u001b[0m\u001b[0;34m\u001b[0m\u001b[0m\n\u001b[1;32m      5\u001b[0m \u001b[0mfull_df\u001b[0m \u001b[0;34m=\u001b[0m \u001b[0mfull_df\u001b[0m\u001b[0;34m.\u001b[0m\u001b[0mdrop\u001b[0m\u001b[0;34m(\u001b[0m\u001b[0;34m\"report_date\"\u001b[0m\u001b[0;34m,\u001b[0m \u001b[0maxis\u001b[0m\u001b[0;34m=\u001b[0m\u001b[0;36m1\u001b[0m\u001b[0;34m)\u001b[0m\u001b[0;34m\u001b[0m\u001b[0;34m\u001b[0m\u001b[0m\n",
      "\u001b[0;31mNameError\u001b[0m: name 'candidates_with_target' is not defined"
     ]
    }
   ],
   "source": [
    "full_df = candidates_with_target.merge(\n",
    "    features, how=\"inner\", left_on=\"video_id\", right_on=\"video_id\"\n",
    ")\n",
    "# del features\n",
    "full_df = full_df.drop(\"report_date\", axis=1)\n",
    "full_df = full_df.drop_duplicates()"
   ]
  },
  {
   "cell_type": "code",
   "execution_count": 73,
   "metadata": {
    "execution": {
     "iopub.execute_input": "2023-11-25T05:44:23.108875Z",
     "iopub.status.busy": "2023-11-25T05:44:23.108441Z",
     "iopub.status.idle": "2023-11-25T05:44:23.838123Z",
     "shell.execute_reply": "2023-11-25T05:44:23.837395Z",
     "shell.execute_reply.started": "2023-11-25T05:44:23.108851Z"
    },
    "tags": []
   },
   "outputs": [],
   "source": [
    "is_clickbait = clickbait_clf.predict(full_df[clickbait_dataset_cols])\n",
    "full_df['clickbait'] = is_clickbait"
   ]
  },
  {
   "cell_type": "code",
   "execution_count": 74,
   "metadata": {
    "execution": {
     "iopub.execute_input": "2023-11-25T05:44:23.840026Z",
     "iopub.status.busy": "2023-11-25T05:44:23.839650Z",
     "iopub.status.idle": "2023-11-25T05:44:25.429215Z",
     "shell.execute_reply": "2023-11-25T05:44:25.428553Z",
     "shell.execute_reply.started": "2023-11-25T05:44:23.840002Z"
    },
    "tags": []
   },
   "outputs": [],
   "source": [
    "full_df = full_df.merge(\n",
    "    percent_of_watch, how=\"left\", left_on=\"video_id\", right_on=\"video_id\"\n",
    ")"
   ]
  },
  {
   "cell_type": "code",
   "execution_count": 75,
   "metadata": {
    "execution": {
     "iopub.execute_input": "2023-11-25T05:44:25.430858Z",
     "iopub.status.busy": "2023-11-25T05:44:25.430371Z",
     "iopub.status.idle": "2023-11-25T05:44:25.438821Z",
     "shell.execute_reply": "2023-11-25T05:44:25.438299Z",
     "shell.execute_reply.started": "2023-11-25T05:44:25.430831Z"
    },
    "tags": []
   },
   "outputs": [],
   "source": [
    "# views_dates = ['v_day_views']"
   ]
  },
  {
   "cell_type": "code",
   "execution_count": 76,
   "metadata": {
    "execution": {
     "iopub.execute_input": "2023-11-25T05:44:25.439922Z",
     "iopub.status.busy": "2023-11-25T05:44:25.439565Z",
     "iopub.status.idle": "2023-11-25T05:44:25.454520Z",
     "shell.execute_reply": "2023-11-25T05:44:25.454004Z",
     "shell.execute_reply.started": "2023-11-25T05:44:25.439902Z"
    },
    "tags": []
   },
   "outputs": [],
   "source": [
    "# for item in views_dates:\n",
    "#     col = []\n",
    "#     for index, row in full_df.iterrows():\n",
    "#         col.append(int(row['total_comments']/row[item] if row[item] != 0 else 0))\n",
    "#     full_df[item+'_comment'] = col\n",
    "#     full_df[full_df[item+'_comment'] > 1] = 1"
   ]
  },
  {
   "cell_type": "code",
   "execution_count": null,
   "metadata": {
    "tags": []
   },
   "outputs": [],
   "source": [
    "full_df.head(5)"
   ]
  },
  {
   "cell_type": "code",
   "execution_count": 78,
   "metadata": {
    "execution": {
     "iopub.execute_input": "2023-11-25T05:44:25.490746Z",
     "iopub.status.busy": "2023-11-25T05:44:25.490342Z",
     "iopub.status.idle": "2023-11-25T05:44:47.384464Z",
     "shell.execute_reply": "2023-11-25T05:44:47.383391Z",
     "shell.execute_reply.started": "2023-11-25T05:44:25.490726Z"
    },
    "tags": []
   },
   "outputs": [],
   "source": [
    "groups_to_drop = []\n",
    "full_df[\"group_id\"] = full_df.groupby([\"query\"]).ngroup()\n",
    "for group in full_df[\"group_id\"].unique():\n",
    "    part_df = full_df[full_df[\"group_id\"] == group]\n",
    "    target_sum = part_df[\"target\"].values.sum()\n",
    "    if target_sum <= 0:\n",
    "        groups_to_drop += [group]\n",
    "full_df = full_df[~full_df[\"group_id\"].isin(groups_to_drop)]"
   ]
  },
  {
   "cell_type": "code",
   "execution_count": 79,
   "metadata": {
    "execution": {
     "iopub.execute_input": "2023-11-25T05:44:47.388113Z",
     "iopub.status.busy": "2023-11-25T05:44:47.387613Z",
     "iopub.status.idle": "2023-11-25T05:44:47.409071Z",
     "shell.execute_reply": "2023-11-25T05:44:47.408507Z",
     "shell.execute_reply.started": "2023-11-25T05:44:47.388068Z"
    },
    "tags": []
   },
   "outputs": [
    {
     "name": "stderr",
     "output_type": "stream",
     "text": [
      "/home/jupyter/.local/lib/python3.10/site-packages/numpy/core/fromnumeric.py:57: FutureWarning: 'Series.swapaxes' is deprecated and will be removed in a future version. Please use 'Series.transpose' instead.\n",
      "  return bound(*args, **kwds)\n"
     ]
    },
    {
     "data": {
      "text/plain": [
       "((177,), (177,))"
      ]
     },
     "execution_count": 79,
     "metadata": {},
     "output_type": "execute_result"
    }
   ],
   "source": [
    "groups = pd.Series(full_df[\"group_id\"].unique())\n",
    "permutation = groups.sample(frac=1, random_state=seed)\n",
    "train_groups, val_groups, test_groups = np.split(\n",
    "    permutation, [int(0.75 * len(permutation)), int(0.90 * len(permutation))]\n",
    ")\n",
    "groups.shape, permutation.shape"
   ]
  },
  {
   "cell_type": "code",
   "execution_count": 80,
   "metadata": {
    "execution": {
     "iopub.execute_input": "2023-11-25T05:44:47.410412Z",
     "iopub.status.busy": "2023-11-25T05:44:47.410048Z",
     "iopub.status.idle": "2023-11-25T05:44:47.472657Z",
     "shell.execute_reply": "2023-11-25T05:44:47.472096Z",
     "shell.execute_reply.started": "2023-11-25T05:44:47.410393Z"
    },
    "tags": []
   },
   "outputs": [],
   "source": [
    "train_df = full_df[full_df[\"group_id\"].isin(train_groups)]\n",
    "val_df = full_df[full_df[\"group_id\"].isin(val_groups)]\n",
    "test_df = full_df[full_df[\"group_id\"].isin(test_groups)]"
   ]
  },
  {
   "cell_type": "code",
   "execution_count": 81,
   "metadata": {
    "execution": {
     "iopub.execute_input": "2023-11-25T05:44:47.473774Z",
     "iopub.status.busy": "2023-11-25T05:44:47.473406Z",
     "iopub.status.idle": "2023-11-25T05:44:47.501900Z",
     "shell.execute_reply": "2023-11-25T05:44:47.501329Z",
     "shell.execute_reply.started": "2023-11-25T05:44:47.473753Z"
    },
    "tags": []
   },
   "outputs": [],
   "source": [
    "\n",
    "train_df = train_df.sort_values(\"group_id\")\n",
    "val_df = val_df.sort_values(\"group_id\")\n",
    "test_df = test_df.sort_values(\"group_id\")"
   ]
  },
  {
   "cell_type": "code",
   "execution_count": 82,
   "metadata": {
    "execution": {
     "iopub.execute_input": "2023-11-25T05:44:47.503071Z",
     "iopub.status.busy": "2023-11-25T05:44:47.502672Z",
     "iopub.status.idle": "2023-11-25T05:44:47.523269Z",
     "shell.execute_reply": "2023-11-25T05:44:47.522717Z",
     "shell.execute_reply.started": "2023-11-25T05:44:47.503051Z"
    },
    "tags": []
   },
   "outputs": [],
   "source": [
    "metainfo_columns = [\"query\", \"video_id\", \"target\", \"group_id\"]\n",
    "\n",
    "X_train = train_df.drop(metainfo_columns, axis=1)\n",
    "y_train, g_train = train_df[\"target\"], train_df[\"group_id\"]\n",
    "\n",
    "X_val = val_df.drop(metainfo_columns, axis=1)\n",
    "y_val, g_val = val_df[\"target\"], val_df[\"group_id\"]\n",
    "\n",
    "X_test = test_df.drop(metainfo_columns, axis=1)\n",
    "y_test, g_test = test_df[\"target\"], test_df[\"group_id\"]"
   ]
  },
  {
   "cell_type": "code",
   "execution_count": 83,
   "metadata": {
    "execution": {
     "iopub.execute_input": "2023-11-25T05:44:47.524470Z",
     "iopub.status.busy": "2023-11-25T05:44:47.524023Z",
     "iopub.status.idle": "2023-11-25T05:44:47.544732Z",
     "shell.execute_reply": "2023-11-25T05:44:47.543902Z",
     "shell.execute_reply.started": "2023-11-25T05:44:47.524447Z"
    },
    "tags": []
   },
   "outputs": [],
   "source": [
    "train = Pool(\n",
    "    data=X_train.values,\n",
    "    label=y_train.values,\n",
    "    group_id=g_train.values,\n",
    "    feature_names=X_train.columns.to_list(),\n",
    ")\n",
    "\n",
    "val = Pool(\n",
    "    data=X_val.values,\n",
    "    label=y_val.values,\n",
    "    group_id=g_val.values,\n",
    "    feature_names=X_val.columns.to_list(),\n",
    ")\n",
    "\n",
    "test = Pool(\n",
    "    data=X_test.values,\n",
    "    label=y_test.values,\n",
    "    group_id=g_test.values,\n",
    "    feature_names=X_test.columns.to_list(),\n",
    ")"
   ]
  },
  {
   "cell_type": "markdown",
   "metadata": {
    "tags": []
   },
   "source": [
    "# Обучение модели"
   ]
  },
  {
   "cell_type": "code",
   "execution_count": 86,
   "metadata": {
    "execution": {
     "iopub.execute_input": "2023-11-25T05:45:04.374202Z",
     "iopub.status.busy": "2023-11-25T05:45:04.373614Z",
     "iopub.status.idle": "2023-11-25T05:45:04.395839Z",
     "shell.execute_reply": "2023-11-25T05:45:04.395265Z",
     "shell.execute_reply.started": "2023-11-25T05:45:04.374177Z"
    },
    "tags": []
   },
   "outputs": [],
   "source": [
    "task_type = \"CPU\"#\n",
    "metric_period = 250\n",
    "\n",
    "parameters = {\n",
    "    # \"task_type\": task_type,\n",
    "    \"verbose\": False,\n",
    "    \"random_seed\": seed,\n",
    "    \"loss_function\": \"QueryRMSE\",\n",
    "    \"learning_rate\": 0.001,\n",
    "    \"l2_leaf_reg\": 30,\n",
    "    \"iterations\": 2000,\n",
    "    \"max_depth\": 10,\n",
    "    # \"task_type\":\"GPU\",\n",
    "    # \"devices\":'0'\n",
    "}"
   ]
  },
  {
   "cell_type": "code",
   "execution_count": 87,
   "metadata": {
    "execution": {
     "iopub.execute_input": "2023-11-25T05:45:04.759551Z",
     "iopub.status.busy": "2023-11-25T05:45:04.759106Z",
     "iopub.status.idle": "2023-11-25T05:45:17.078854Z",
     "shell.execute_reply": "2023-11-25T05:45:17.078205Z",
     "shell.execute_reply.started": "2023-11-25T05:45:04.759524Z"
    },
    "tags": []
   },
   "outputs": [
    {
     "data": {
      "application/vnd.jupyter.widget-view+json": {
       "model_id": "d877912d3e354427bc462eaa303be684",
       "version_major": 2,
       "version_minor": 0
      },
      "text/plain": [
       "MetricVisualizer(layout=Layout(align_self='stretch', height='500px'))"
      ]
     },
     "metadata": {},
     "output_type": "display_data"
    }
   ],
   "source": [
    "model = CatBoostRanker(**parameters)\n",
    "model = model.fit(\n",
    "    train, eval_set=val, plot=True, use_best_model=True, metric_period=metric_period\n",
    ")\n",
    "model.save_model(\"ranker.ckpt\")"
   ]
  },
  {
   "cell_type": "code",
   "execution_count": null,
   "metadata": {
    "execution": {
     "iopub.status.busy": "2023-11-24T23:58:37.122133Z",
     "iopub.status.idle": "2023-11-24T23:58:37.123087Z",
     "shell.execute_reply": "2023-11-24T23:58:37.122775Z"
    },
    "tags": []
   },
   "outputs": [],
   "source": [
    "grid = {'learning_rate': [0.01, 0.001, 0.005],\n",
    "        'l2_leaf_reg': [5, 10, 20, 30, 40],\n",
    "        \"iterations\": [4000, 5000, 6000],\n",
    "        \"max_depth\": [5,9,11],\n",
    "        \"random_seed\": [seed],\n",
    "       }\n",
    "\n",
    "model = CatBoostRanker()\n",
    "grid_search_result = model.grid_search(grid, \n",
    "                                       train, \n",
    "                                       plot=True,\n",
    "                                       task_type=\"GPU\",\n",
    "                           devices='0:1'\n",
    "                                       )"
   ]
  },
  {
   "cell_type": "code",
   "execution_count": null,
   "metadata": {
    "execution": {
     "iopub.status.busy": "2023-11-24T23:58:37.124464Z",
     "iopub.status.idle": "2023-11-24T23:58:37.125087Z",
     "shell.execute_reply": "2023-11-24T23:58:37.124896Z"
    },
    "tags": []
   },
   "outputs": [],
   "source": [
    "import matplotlib.pyplot as plt\n",
    "feature_importance = model.get_feature_importance(train)\n",
    "sorted_idx = np.argsort(feature_importance)\n",
    "fig = plt.figure(figsize=(12, 10))\n",
    "plt.barh(range(len(sorted_idx)), feature_importance[sorted_idx], align='center')\n",
    "plt.yticks(range(len(sorted_idx)), np.array(X_train.columns)[sorted_idx])\n",
    "plt.title('Feature Importance')"
   ]
  },
  {
   "cell_type": "markdown",
   "metadata": {},
   "source": [
    "# Измерение метрик"
   ]
  },
  {
   "cell_type": "code",
   "execution_count": 88,
   "metadata": {
    "execution": {
     "iopub.execute_input": "2023-11-25T05:45:23.054449Z",
     "iopub.status.busy": "2023-11-25T05:45:23.054090Z",
     "iopub.status.idle": "2023-11-25T05:45:23.080947Z",
     "shell.execute_reply": "2023-11-25T05:45:23.079951Z",
     "shell.execute_reply.started": "2023-11-25T05:45:23.054429Z"
    },
    "tags": []
   },
   "outputs": [],
   "source": [
    "def _metrics_at(at, model, pool, metric=\"NDCG\"):\n",
    "    metric = metric + f\":top={at}\"\n",
    "    eval_metrics = model.eval_metrics(pool, metrics=[metric])\n",
    "    best_metrics = {}\n",
    "    for key in eval_metrics.keys():\n",
    "        best_metrics[key] = eval_metrics[key][model.best_iteration_]\n",
    "    return best_metrics\n",
    "\n",
    "metrics_train_at = partial(_metrics_at, model=model, pool=train)\n",
    "\n",
    "metrics_val_at = partial(_metrics_at, model=model, pool=val)\n",
    "\n",
    "metrics_test_at = partial(_metrics_at, model=model, pool=test)"
   ]
  },
  {
   "cell_type": "code",
   "execution_count": 89,
   "metadata": {
    "execution": {
     "iopub.execute_input": "2023-11-25T05:45:23.284367Z",
     "iopub.status.busy": "2023-11-25T05:45:23.284064Z",
     "iopub.status.idle": "2023-11-25T05:45:25.164890Z",
     "shell.execute_reply": "2023-11-25T05:45:25.164285Z",
     "shell.execute_reply.started": "2023-11-25T05:45:23.284347Z"
    },
    "tags": []
   },
   "outputs": [
    {
     "data": {
      "text/plain": [
       "({'NDCG:top=1;type=Base': 0.75}, {'NDCG:top=5;type=Base': 0.8744183426288044})"
      ]
     },
     "execution_count": 89,
     "metadata": {},
     "output_type": "execute_result"
    }
   ],
   "source": [
    "metrics_train_at(1), metrics_train_at(5)"
   ]
  },
  {
   "cell_type": "code",
   "execution_count": 90,
   "metadata": {
    "execution": {
     "iopub.execute_input": "2023-11-25T05:45:25.166184Z",
     "iopub.status.busy": "2023-11-25T05:45:25.165773Z",
     "iopub.status.idle": "2023-11-25T05:45:26.452244Z",
     "shell.execute_reply": "2023-11-25T05:45:26.451626Z",
     "shell.execute_reply.started": "2023-11-25T05:45:25.166163Z"
    },
    "tags": []
   },
   "outputs": [
    {
     "data": {
      "text/plain": [
       "({'NDCG:top=1;type=Base': 0.7037037037037037},\n",
       " {'NDCG:top=5;type=Base': 0.8453135488439913})"
      ]
     },
     "execution_count": 90,
     "metadata": {},
     "output_type": "execute_result"
    }
   ],
   "source": [
    "metrics_val_at(1), metrics_val_at(5)"
   ]
  },
  {
   "cell_type": "code",
   "execution_count": 93,
   "metadata": {
    "execution": {
     "iopub.execute_input": "2023-11-25T05:45:49.603081Z",
     "iopub.status.busy": "2023-11-25T05:45:49.602563Z",
     "iopub.status.idle": "2023-11-25T05:45:51.179349Z",
     "shell.execute_reply": "2023-11-25T05:45:51.178732Z",
     "shell.execute_reply.started": "2023-11-25T05:45:49.603056Z"
    },
    "tags": []
   },
   "outputs": [
    {
     "data": {
      "text/plain": [
       "({'NDCG:top=1;type=Base': 0.6666666666666666},\n",
       " {'NDCG:top=100;type=Base': 0.8300441440631654})"
      ]
     },
     "execution_count": 93,
     "metadata": {},
     "output_type": "execute_result"
    }
   ],
   "source": [
    "metrics_test_at(1), metrics_test_at(5)"
   ]
  },
  {
   "cell_type": "code",
   "execution_count": 70,
   "metadata": {
    "execution": {
     "iopub.execute_input": "2023-11-25T05:43:17.811302Z",
     "iopub.status.busy": "2023-11-25T05:43:17.810749Z",
     "iopub.status.idle": "2023-11-25T05:43:17.840851Z",
     "shell.execute_reply": "2023-11-25T05:43:17.839710Z",
     "shell.execute_reply.started": "2023-11-25T05:43:17.811263Z"
    },
    "tags": []
   },
   "outputs": [
    {
     "ename": "SyntaxError",
     "evalue": "invalid syntax (<ipython-input-70-edf32105be66>, line 16)",
     "output_type": "error",
     "traceback": [
      "\u001b[0;36m  File \u001b[0;32m\"<ipython-input-70-edf32105be66>\"\u001b[0;36m, line \u001b[0;32m16\u001b[0m\n\u001b[0;31m    Top:5+ clickbait 300 samples\u001b[0m\n\u001b[0m                     ^\u001b[0m\n\u001b[0;31mSyntaxError\u001b[0m\u001b[0;31m:\u001b[0m invalid syntax\n"
     ]
    }
   ],
   "source": [
    "({'NDCG:top=1;type=Base': 0.41935483870967744},\n",
    " {'NDCG:top=5;type=Base': 0.5903787493482507})\n",
    "\n",
    "Top: 10\n",
    "({'NDCG:top=1;type=Base': 0.5483870967741935},\n",
    " {'NDCG:top=5;type=Base': 0.6523261037071377})\n",
    "\n",
    "Top:5\n",
    "({'NDCG:top=1;type=Base': 0.5806451612903226},\n",
    " {'NDCG:top=5;type=Base': 0.6496098890505589})\n",
    "\n",
    "Top:5+ clickbait\n",
    "({'NDCG:top=1;type=Base': 0.5806451612903226},\n",
    " {'NDCG:top=5;type=Base': 0.6485604691631127})\n",
    "\n",
    "Top:5+ clickbait 300 samples\n",
    "({'NDCG:top=1;type=Base': 0.5882352941176471},\n",
    " {'NDCG:top=5;type=Base': 0.6784833265742837})\n",
    "\n",
    "Top:10+ clickbait 300 samples\n",
    "({'NDCG:top=1;type=Base': 0.5588235294117647},\n",
    " {'NDCG:top=5;type=Base': 0.6689172531745868})\n",
    "\n",
    "clickbait 300 samples\n",
    "({'NDCG:top=1;type=Base': 0.5588235294117647},\n",
    " {'NDCG:top=5;type=Base': 0.671673933142901})\n",
    "\n",
    "Top first percentel + clickbait + 300 samples\n",
    "({'NDCG:top=1;type=Base': 0.6176470588235294},\n",
    " {'NDCG:top=5;type=Base': 0.7746315644688175})\n",
    "\n",
    "Top first percentel + clickbait + 300 samples with all views comments \n",
    "({'NDCG:top=1;type=Base': 0.3}, {'NDCG:top=5;type=Base': 0.5485035168455913})\n"
   ]
  },
  {
   "cell_type": "code",
   "execution_count": 39,
   "metadata": {},
   "outputs": [],
   "source": [
    "# очищаем ОЗУ\n",
    "del model\n",
    "del full_df\n",
    "del train_df, val_df, test_df\n",
    "del train, val, test\n",
    "del X_train, y_train, g_train\n",
    "del X_val, y_val, g_val\n",
    "del X_test, y_test, g_test"
   ]
  },
  {
   "cell_type": "code",
   "execution_count": 40,
   "metadata": {},
   "outputs": [
    {
     "name": "stdout",
     "output_type": "stream",
     "text": [
      "Общее время работы baseline: 73 минут\n"
     ]
    }
   ],
   "source": [
    "end_time = time.time()\n",
    "total_time = (end_time - start_time) / 60\n",
    "print(f\"Общее время работы baseline: {int(total_time)} минут\")"
   ]
  },
  {
   "cell_type": "code",
   "execution_count": null,
   "metadata": {},
   "outputs": [],
   "source": []
  },
  {
   "cell_type": "code",
   "execution_count": null,
   "metadata": {},
   "outputs": [],
   "source": []
  },
  {
   "cell_type": "code",
   "execution_count": null,
   "metadata": {},
   "outputs": [],
   "source": []
  },
  {
   "cell_type": "code",
   "execution_count": null,
   "metadata": {},
   "outputs": [],
   "source": []
  },
  {
   "cell_type": "code",
   "execution_count": 5,
   "metadata": {
    "execution": {
     "iopub.execute_input": "2023-11-25T09:16:16.423072Z",
     "iopub.status.busy": "2023-11-25T09:16:16.421921Z",
     "iopub.status.idle": "2023-11-25T09:16:20.306254Z",
     "shell.execute_reply": "2023-11-25T09:16:20.305120Z",
     "shell.execute_reply.started": "2023-11-25T09:16:16.422995Z"
    },
    "tags": []
   },
   "outputs": [],
   "source": [
    "import json\n",
    "import math\n",
    "import os\n",
    "import time\n",
    "from functools import partial\n",
    "from urllib.parse import urlencode\n",
    "from fastparquet import write\n",
    "import faiss\n",
    "import numpy as np\n",
    "import pandas as pd\n",
    "import pyarrow.parquet as pq\n",
    "\n",
    "import requests\n",
    "from catboost import CatBoostRanker, Pool\n",
    "from faiss import read_index, write_index\n",
    "from sentence_transformers import SentenceTransformer"
   ]
  },
  {
   "cell_type": "code",
   "execution_count": 6,
   "metadata": {
    "execution": {
     "iopub.execute_input": "2023-11-25T09:16:20.309219Z",
     "iopub.status.busy": "2023-11-25T09:16:20.307956Z",
     "iopub.status.idle": "2023-11-25T09:16:47.065520Z",
     "shell.execute_reply": "2023-11-25T09:16:47.064263Z",
     "shell.execute_reply.started": "2023-11-25T09:16:20.309180Z"
    },
    "tags": []
   },
   "outputs": [
    {
     "data": {
      "application/vnd.jupyter.widget-view+json": {
       "model_id": "07c715b6fd764543b99c7d5b36d14592",
       "version_major": 2,
       "version_minor": 0
      },
      "text/plain": [
       ".gitattributes:   0%|          | 0.00/1.18k [00:00<?, ?B/s]"
      ]
     },
     "metadata": {},
     "output_type": "display_data"
    },
    {
     "data": {
      "application/vnd.jupyter.widget-view+json": {
       "model_id": "c986bf9a55844a13a84a7a70b15f002c",
       "version_major": 2,
       "version_minor": 0
      },
      "text/plain": [
       "1_Pooling/config.json:   0%|          | 0.00/190 [00:00<?, ?B/s]"
      ]
     },
     "metadata": {},
     "output_type": "display_data"
    },
    {
     "data": {
      "application/vnd.jupyter.widget-view+json": {
       "model_id": "916b30d9d1134e66b59d7fe7861b9740",
       "version_major": 2,
       "version_minor": 0
      },
      "text/plain": [
       "LICENSE:   0%|          | 0.00/22.3k [00:00<?, ?B/s]"
      ]
     },
     "metadata": {},
     "output_type": "display_data"
    },
    {
     "data": {
      "application/vnd.jupyter.widget-view+json": {
       "model_id": "f592e31b046f4e9fb387a5aa374c8714",
       "version_major": 2,
       "version_minor": 0
      },
      "text/plain": [
       "README.md:   0%|          | 0.00/2.73k [00:00<?, ?B/s]"
      ]
     },
     "metadata": {},
     "output_type": "display_data"
    },
    {
     "data": {
      "application/vnd.jupyter.widget-view+json": {
       "model_id": "4e7b96f2b0dd4dde89ee06f6e9a02587",
       "version_major": 2,
       "version_minor": 0
      },
      "text/plain": [
       "config.json:   0%|          | 0.00/677 [00:00<?, ?B/s]"
      ]
     },
     "metadata": {},
     "output_type": "display_data"
    },
    {
     "data": {
      "application/vnd.jupyter.widget-view+json": {
       "model_id": "9bda9376485d417597f389c13bf4ee98",
       "version_major": 2,
       "version_minor": 0
      },
      "text/plain": [
       "config_sentence_transformers.json:   0%|          | 0.00/116 [00:00<?, ?B/s]"
      ]
     },
     "metadata": {},
     "output_type": "display_data"
    },
    {
     "data": {
      "application/vnd.jupyter.widget-view+json": {
       "model_id": "15ac635ad2424545bdc86897d9b7bdf2",
       "version_major": 2,
       "version_minor": 0
      },
      "text/plain": [
       "pytorch_model.bin:   0%|          | 0.00/1.11G [00:00<?, ?B/s]"
      ]
     },
     "metadata": {},
     "output_type": "display_data"
    },
    {
     "data": {
      "application/vnd.jupyter.widget-view+json": {
       "model_id": "7d14339cb6934bc790c11ca1b9ed4541",
       "version_major": 2,
       "version_minor": 0
      },
      "text/plain": [
       "sentence_bert_config.json:   0%|          | 0.00/53.0 [00:00<?, ?B/s]"
      ]
     },
     "metadata": {},
     "output_type": "display_data"
    },
    {
     "data": {
      "application/vnd.jupyter.widget-view+json": {
       "model_id": "24f63833ef2140ec88e60f80db094e3f",
       "version_major": 2,
       "version_minor": 0
      },
      "text/plain": [
       "sentencepiece.bpe.model:   0%|          | 0.00/5.07M [00:00<?, ?B/s]"
      ]
     },
     "metadata": {},
     "output_type": "display_data"
    },
    {
     "data": {
      "application/vnd.jupyter.widget-view+json": {
       "model_id": "eb0ea01d6a754612b94bf650b61f0385",
       "version_major": 2,
       "version_minor": 0
      },
      "text/plain": [
       "special_tokens_map.json:   0%|          | 0.00/239 [00:00<?, ?B/s]"
      ]
     },
     "metadata": {},
     "output_type": "display_data"
    },
    {
     "data": {
      "application/vnd.jupyter.widget-view+json": {
       "model_id": "caca17d49bfd43b1919fe18a330b0701",
       "version_major": 2,
       "version_minor": 0
      },
      "text/plain": [
       "tokenizer.json:   0%|          | 0.00/9.08M [00:00<?, ?B/s]"
      ]
     },
     "metadata": {},
     "output_type": "display_data"
    },
    {
     "data": {
      "application/vnd.jupyter.widget-view+json": {
       "model_id": "2ef154dea5334f14b40954b50f755595",
       "version_major": 2,
       "version_minor": 0
      },
      "text/plain": [
       "tokenizer_config.json:   0%|          | 0.00/356 [00:00<?, ?B/s]"
      ]
     },
     "metadata": {},
     "output_type": "display_data"
    },
    {
     "data": {
      "application/vnd.jupyter.widget-view+json": {
       "model_id": "8afcc9ac01504a39b5e94e88f2060a18",
       "version_major": 2,
       "version_minor": 0
      },
      "text/plain": [
       "modules.json:   0%|          | 0.00/229 [00:00<?, ?B/s]"
      ]
     },
     "metadata": {},
     "output_type": "display_data"
    }
   ],
   "source": [
    "st_model = SentenceTransformer(\"symanto/sn-xlm-roberta-base-snli-mnli-anli-xnli\", device=\"cuda\") #cuda cointegrated/rubert-tiny2\n",
    "from_file = CatBoostRanker()\n",
    "from_file.load_model(\"ranker.ckpt\")\n",
    "with open(\"ind2videoid.json\", \"r\") as f:\n",
    "    ind2videoid = json.load(f)"
   ]
  },
  {
   "cell_type": "code",
   "execution_count": 23,
   "metadata": {
    "execution": {
     "iopub.execute_input": "2023-11-25T09:33:54.152259Z",
     "iopub.status.busy": "2023-11-25T09:33:54.151065Z",
     "iopub.status.idle": "2023-11-25T09:33:54.188488Z",
     "shell.execute_reply": "2023-11-25T09:33:54.187241Z",
     "shell.execute_reply.started": "2023-11-25T09:33:54.152189Z"
    },
    "tags": []
   },
   "outputs": [],
   "source": [
    "df_test = pd.read_csv('./test_dataset_submission_queries.csv')\n",
    "queries = df_test['query']"
   ]
  },
  {
   "cell_type": "code",
   "execution_count": 8,
   "metadata": {
    "execution": {
     "iopub.execute_input": "2023-11-25T09:16:47.123914Z",
     "iopub.status.busy": "2023-11-25T09:16:47.123371Z",
     "iopub.status.idle": "2023-11-25T09:16:47.144887Z",
     "shell.execute_reply": "2023-11-25T09:16:47.143626Z",
     "shell.execute_reply.started": "2023-11-25T09:16:47.123882Z"
    },
    "tags": []
   },
   "outputs": [],
   "source": [
    "# queries = df_test['query'].value_counts()"
   ]
  },
  {
   "cell_type": "code",
   "execution_count": 9,
   "metadata": {
    "execution": {
     "iopub.execute_input": "2023-11-25T09:16:47.147272Z",
     "iopub.status.busy": "2023-11-25T09:16:47.146348Z",
     "iopub.status.idle": "2023-11-25T09:16:47.159937Z",
     "shell.execute_reply": "2023-11-25T09:16:47.158937Z",
     "shell.execute_reply.started": "2023-11-25T09:16:47.147223Z"
    },
    "tags": []
   },
   "outputs": [],
   "source": [
    "# queries = queries.keys().to_numpy()"
   ]
  },
  {
   "cell_type": "code",
   "execution_count": 24,
   "metadata": {
    "execution": {
     "iopub.execute_input": "2023-11-25T09:33:57.455750Z",
     "iopub.status.busy": "2023-11-25T09:33:57.454656Z",
     "iopub.status.idle": "2023-11-25T09:33:58.587303Z",
     "shell.execute_reply": "2023-11-25T09:33:58.586033Z",
     "shell.execute_reply.started": "2023-11-25T09:33:57.455700Z"
    },
    "tags": []
   },
   "outputs": [
    {
     "data": {
      "application/vnd.jupyter.widget-view+json": {
       "model_id": "28e9e4e8f22e475696808c9a1c643355",
       "version_major": 2,
       "version_minor": 0
      },
      "text/plain": [
       "Batches:   0%|          | 0/63 [00:00<?, ?it/s]"
      ]
     },
     "metadata": {},
     "output_type": "display_data"
    }
   ],
   "source": [
    "qembeddings = st_model.encode(queries, show_progress_bar=True)#batch_size=1000, "
   ]
  },
  {
   "cell_type": "code",
   "execution_count": 21,
   "metadata": {
    "execution": {
     "iopub.execute_input": "2023-11-25T09:32:01.465318Z",
     "iopub.status.busy": "2023-11-25T09:32:01.464102Z",
     "iopub.status.idle": "2023-11-25T09:32:01.501069Z",
     "shell.execute_reply": "2023-11-25T09:32:01.499932Z",
     "shell.execute_reply.started": "2023-11-25T09:32:01.465254Z"
    },
    "tags": []
   },
   "outputs": [],
   "source": [
    "# f_dict = { q:emb for emb, q in zip(qembeddings, queries)}"
   ]
  },
  {
   "cell_type": "code",
   "execution_count": 11,
   "metadata": {
    "execution": {
     "iopub.execute_input": "2023-11-25T09:16:56.146739Z",
     "iopub.status.busy": "2023-11-25T09:16:56.145830Z",
     "iopub.status.idle": "2023-11-25T09:17:12.981177Z",
     "shell.execute_reply": "2023-11-25T09:17:12.979995Z",
     "shell.execute_reply.started": "2023-11-25T09:16:56.146697Z"
    },
    "tags": []
   },
   "outputs": [
    {
     "data": {
      "text/plain": [
       "(True, 5784480)"
      ]
     },
     "execution_count": 11,
     "metadata": {},
     "output_type": "execute_result"
    }
   ],
   "source": [
    "search_cpu_index = read_index(\"candidates.index\")\n",
    "search_cpu_index.is_trained, search_cpu_index.ntotal"
   ]
  },
  {
   "cell_type": "code",
   "execution_count": 25,
   "metadata": {
    "execution": {
     "iopub.execute_input": "2023-11-25T09:34:07.432653Z",
     "iopub.status.busy": "2023-11-25T09:34:07.431726Z",
     "iopub.status.idle": "2023-11-25T09:39:40.579384Z",
     "shell.execute_reply": "2023-11-25T09:39:40.578015Z",
     "shell.execute_reply.started": "2023-11-25T09:34:07.432601Z"
    },
    "tags": []
   },
   "outputs": [
    {
     "name": "stdout",
     "output_type": "stream",
     "text": [
      "0\n",
      "1\n",
      "2\n",
      "3\n"
     ]
    }
   ],
   "source": [
    "batch_size = 500\n",
    "topk = 300\n",
    "num_batches = math.ceil(len(queries) / batch_size)\n",
    "distance, faiss_ind = [], []\n",
    "for i in range(num_batches):\n",
    "    print(i)\n",
    "    start, end = i * batch_size, (i + 1) * batch_size\n",
    "    corpus_batch = qembeddings[start:end]\n",
    "    distanceq, faiss_indq = search_cpu_index.search(corpus_batch, topk)\n",
    "    distance.append(distanceq)\n",
    "    faiss_ind.append(faiss_indq)"
   ]
  },
  {
   "cell_type": "code",
   "execution_count": 48,
   "metadata": {
    "execution": {
     "iopub.execute_input": "2023-11-25T09:49:23.040097Z",
     "iopub.status.busy": "2023-11-25T09:49:23.038590Z",
     "iopub.status.idle": "2023-11-25T09:49:23.060139Z",
     "shell.execute_reply": "2023-11-25T09:49:23.058725Z",
     "shell.execute_reply.started": "2023-11-25T09:49:23.040043Z"
    },
    "tags": []
   },
   "outputs": [],
   "source": [
    "new = [ i[:] for i in distance]\n",
    "distance = np.array(new).reshape(2000,300)\n",
    "new = [ i[:] for i in faiss_ind]\n",
    "faiss_ind = np.array(faiss_ind).reshape(2000,300)"
   ]
  },
  {
   "cell_type": "code",
   "execution_count": 49,
   "metadata": {
    "execution": {
     "iopub.execute_input": "2023-11-25T09:49:38.545237Z",
     "iopub.status.busy": "2023-11-25T09:49:38.544357Z",
     "iopub.status.idle": "2023-11-25T09:49:42.006390Z",
     "shell.execute_reply": "2023-11-25T09:49:42.005137Z",
     "shell.execute_reply.started": "2023-11-25T09:49:38.545204Z"
    }
   },
   "outputs": [
    {
     "name": "stderr",
     "output_type": "stream",
     "text": [
      "100%|██████████| 2000/2000 [00:03<00:00, 642.69it/s]\n"
     ]
    }
   ],
   "source": [
    "from tqdm import tqdm\n",
    "dtype = [('distance', float), ('index', int)]\n",
    "generated_cand_name = \"generated_candidates.parquet\"\n",
    "\n",
    "generated_cand = {\"query\": [], \"video_id\": [], \"top\":[]}\n",
    "pbar = tqdm(total=len(queries))\n",
    "for i, q in enumerate(queries):\n",
    "    vids = faiss_ind[i]\n",
    "    dist = distance[i]\n",
    "    percentel = np.percentile(dist,2.5)\n",
    "    sorted_output = np.sort(np.array([(i,j) for i,j in zip(dist, faiss_ind[i])], dtype=dtype), order='distance')\n",
    "    generated_cand[\"video_id\"] += [ind2videoid[str(v)] for v in vids]\n",
    "    generated_cand[\"query\"] += [q] * len(vids)\n",
    "    if int(distance[i][0]) == 0:\n",
    "        generated_cand[\"top\"] += [1 if d<5 else 0 for d, i in sorted_output]\n",
    "    else:\n",
    "        mulp_dist =dist[0]*2\n",
    "        generated_cand[\"top\"] += [1 if d<percentel and d<mulp_dist else 0 for d, i in sorted_output]\n",
    "    pbar.update(1)\n",
    "pbar.close()\n",
    "generated_cand = pd.DataFrame(generated_cand)"
   ]
  },
  {
   "cell_type": "code",
   "execution_count": 50,
   "metadata": {
    "execution": {
     "iopub.execute_input": "2023-11-25T09:49:47.229429Z",
     "iopub.status.busy": "2023-11-25T09:49:47.228440Z",
     "iopub.status.idle": "2023-11-25T09:52:47.356551Z",
     "shell.execute_reply": "2023-11-25T09:52:47.355340Z",
     "shell.execute_reply.started": "2023-11-25T09:49:47.229380Z"
    }
   },
   "outputs": [],
   "source": [
    "features_parquet = pq.ParquetFile(\"features.parquet\")\n",
    "featuresArr, filter_date = [], \"2023-05-02\"\n",
    "\n",
    "for batch in features_parquet.iter_batches():\n",
    "    tmp = batch.to_pandas()\n",
    "    featuresArr.append( tmp[tmp[\"report_date\"] == filter_date])\n",
    "\n",
    "features = pd.concat(featuresArr, axis=0)\n",
    "features = features.drop(\n",
    "    [\"v_channel_reg_datetime\", \"v_pub_datetime\",\"v_channel_type\", \"v_category\"], axis=1 # \"v_channel_type\", \"v_category\",\n",
    ")"
   ]
  },
  {
   "cell_type": "code",
   "execution_count": 136,
   "metadata": {
    "execution": {
     "iopub.execute_input": "2023-11-25T10:35:39.901958Z",
     "iopub.status.busy": "2023-11-25T10:35:39.901020Z",
     "iopub.status.idle": "2023-11-25T10:35:51.157732Z",
     "shell.execute_reply": "2023-11-25T10:35:51.156517Z",
     "shell.execute_reply.started": "2023-11-25T10:35:39.901919Z"
    },
    "tags": []
   },
   "outputs": [],
   "source": [
    "full_df = generated_cand.merge(\n",
    "    features, how=\"left\", left_on=\"video_id\", right_on=\"video_id\"\n",
    ")\n",
    "# del features\n",
    "full_df = full_df.drop(\"report_date\", axis=1)\n",
    "full_df = full_df.drop_duplicates()"
   ]
  },
  {
   "cell_type": "code",
   "execution_count": 137,
   "metadata": {
    "execution": {
     "iopub.execute_input": "2023-11-25T10:35:51.160468Z",
     "iopub.status.busy": "2023-11-25T10:35:51.159608Z",
     "iopub.status.idle": "2023-11-25T10:35:51.480317Z",
     "shell.execute_reply": "2023-11-25T10:35:51.479014Z",
     "shell.execute_reply.started": "2023-11-25T10:35:51.160435Z"
    },
    "tags": []
   },
   "outputs": [],
   "source": [
    "is_clickbait = clickbait_clf.predict(full_df[clickbait_dataset_cols])\n",
    "full_df['clickbait'] = is_clickbait"
   ]
  },
  {
   "cell_type": "code",
   "execution_count": 144,
   "metadata": {
    "execution": {
     "iopub.execute_input": "2023-11-25T10:37:46.778363Z",
     "iopub.status.busy": "2023-11-25T10:37:46.777425Z",
     "iopub.status.idle": "2023-11-25T10:37:47.416074Z",
     "shell.execute_reply": "2023-11-25T10:37:47.414783Z",
     "shell.execute_reply.started": "2023-11-25T10:37:46.778304Z"
    },
    "tags": []
   },
   "outputs": [],
   "source": [
    "full_df = full_df.merge(\n",
    "    percent_of_watch, how=\"left\", left_on=\"video_id\", right_on=\"video_id\"\n",
    ")"
   ]
  },
  {
   "cell_type": "code",
   "execution_count": 139,
   "metadata": {
    "execution": {
     "iopub.execute_input": "2023-11-25T10:35:52.146098Z",
     "iopub.status.busy": "2023-11-25T10:35:52.145110Z",
     "iopub.status.idle": "2023-11-25T10:35:52.386688Z",
     "shell.execute_reply": "2023-11-25T10:35:52.385419Z",
     "shell.execute_reply.started": "2023-11-25T10:35:52.146044Z"
    },
    "tags": []
   },
   "outputs": [],
   "source": [
    "full_df123 = full_df.copy()"
   ]
  },
  {
   "cell_type": "code",
   "execution_count": 140,
   "metadata": {
    "execution": {
     "iopub.execute_input": "2023-11-25T10:37:18.133942Z",
     "iopub.status.busy": "2023-11-25T10:37:18.132979Z",
     "iopub.status.idle": "2023-11-25T10:37:20.200655Z",
     "shell.execute_reply": "2023-11-25T10:37:20.199458Z",
     "shell.execute_reply.started": "2023-11-25T10:37:18.133902Z"
    },
    "tags": []
   },
   "outputs": [],
   "source": [
    "groups_to_drop = []\n",
    "full_df[\"group_id\"] = full_df.groupby([\"query\"]).ngroup()\n",
    "for group in full_df[\"group_id\"].unique():\n",
    "    part_df = full_df[full_df[\"group_id\"] == group]\n",
    "full_df = full_df[~full_df[\"group_id\"].isin(groups_to_drop)]"
   ]
  },
  {
   "cell_type": "code",
   "execution_count": 69,
   "metadata": {
    "execution": {
     "iopub.execute_input": "2023-11-25T10:05:50.585139Z",
     "iopub.status.busy": "2023-11-25T10:05:50.584383Z",
     "iopub.status.idle": "2023-11-25T10:05:50.784851Z",
     "shell.execute_reply": "2023-11-25T10:05:50.783650Z",
     "shell.execute_reply.started": "2023-11-25T10:05:50.585103Z"
    },
    "tags": []
   },
   "outputs": [],
   "source": [
    "# test_df = full_df[full_df[\"group_id\"].isin(train_groups)]\n",
    "test_df"
   ]
  },
  {
   "cell_type": "code",
   "execution_count": 141,
   "metadata": {
    "execution": {
     "iopub.execute_input": "2023-11-25T10:37:31.277561Z",
     "iopub.status.busy": "2023-11-25T10:37:31.276606Z",
     "iopub.status.idle": "2023-11-25T10:37:31.380323Z",
     "shell.execute_reply": "2023-11-25T10:37:31.379018Z",
     "shell.execute_reply.started": "2023-11-25T10:37:31.277509Z"
    },
    "tags": []
   },
   "outputs": [],
   "source": [
    "metainfo_columns = [\"query\", \"video_id\",\"group_id\"]\n",
    "\n",
    "X_test = test_df.drop(metainfo_columns, axis=1)\n",
    "g_train =  test_df[\"group_id\"]"
   ]
  },
  {
   "cell_type": "code",
   "execution_count": 142,
   "metadata": {
    "execution": {
     "iopub.execute_input": "2023-11-25T10:37:32.673682Z",
     "iopub.status.busy": "2023-11-25T10:37:32.672729Z",
     "iopub.status.idle": "2023-11-25T10:37:32.875375Z",
     "shell.execute_reply": "2023-11-25T10:37:32.874240Z",
     "shell.execute_reply.started": "2023-11-25T10:37:32.673618Z"
    },
    "tags": []
   },
   "outputs": [],
   "source": [
    "test = Pool(\n",
    "    data=X_test.values,\n",
    "    group_id=g_train.values,\n",
    "    feature_names=X_test.columns.to_list(),\n",
    ")"
   ]
  },
  {
   "cell_type": "code",
   "execution_count": 143,
   "metadata": {
    "execution": {
     "iopub.execute_input": "2023-11-25T10:37:33.443157Z",
     "iopub.status.busy": "2023-11-25T10:37:33.442371Z",
     "iopub.status.idle": "2023-11-25T10:37:33.507095Z",
     "shell.execute_reply": "2023-11-25T10:37:33.505273Z",
     "shell.execute_reply.started": "2023-11-25T10:37:33.443122Z"
    },
    "tags": []
   },
   "outputs": [
    {
     "ename": "CatBoostError",
     "evalue": "/src/catboost/catboost/libs/data/model_dataset_compatibility.cpp:72: Feature percent_of_watch is present in model but not in pool.",
     "output_type": "error",
     "traceback": [
      "\u001b[0;31m---------------------------------------------------------------------------\u001b[0m",
      "\u001b[0;31mCatBoostError\u001b[0m                             Traceback (most recent call last)",
      "\u001b[0;32m<ipython-input-143-3297b13a2b1c>\u001b[0m in \u001b[0;36m<module>\u001b[0;34m\u001b[0m\n\u001b[0;32m----> 1\u001b[0;31m \u001b[0mpred\u001b[0m \u001b[0;34m=\u001b[0m \u001b[0mfrom_file\u001b[0m\u001b[0;34m.\u001b[0m\u001b[0mpredict\u001b[0m\u001b[0;34m(\u001b[0m\u001b[0mtest\u001b[0m\u001b[0;34m)\u001b[0m\u001b[0;34m\u001b[0m\u001b[0;34m\u001b[0m\u001b[0m\n\u001b[0m\u001b[1;32m      2\u001b[0m \u001b[0;31m#\u001b[0m\u001b[0;34m\u001b[0m\u001b[0;34m\u001b[0m\u001b[0m\n",
      "\u001b[0;32m~/.local/lib/python3.10/site-packages/catboost/core.py\u001b[0m in \u001b[0;36mpredict\u001b[0;34m(self, X, ntree_start, ntree_end, thread_count, verbose)\u001b[0m\n\u001b[1;32m   6130\u001b[0m             \u001b[0motherwise\u001b[0m \u001b[0mone\u001b[0m\u001b[0;34m-\u001b[0m\u001b[0mdimensional\u001b[0m \u001b[0mnumpy\u001b[0m\u001b[0;34m.\u001b[0m\u001b[0mndarray\u001b[0m \u001b[0mof\u001b[0m \u001b[0mformula\u001b[0m \u001b[0;32mreturn\u001b[0m \u001b[0mvalues\u001b[0m \u001b[0;32mfor\u001b[0m \u001b[0meach\u001b[0m \u001b[0mobject\u001b[0m\u001b[0;34m.\u001b[0m\u001b[0;34m\u001b[0m\u001b[0;34m\u001b[0m\u001b[0m\n\u001b[1;32m   6131\u001b[0m         \"\"\"\n\u001b[0;32m-> 6132\u001b[0;31m         \u001b[0;32mreturn\u001b[0m \u001b[0mself\u001b[0m\u001b[0;34m.\u001b[0m\u001b[0m_predict\u001b[0m\u001b[0;34m(\u001b[0m\u001b[0mX\u001b[0m\u001b[0;34m,\u001b[0m \u001b[0;34m'RawFormulaVal'\u001b[0m\u001b[0;34m,\u001b[0m \u001b[0mntree_start\u001b[0m\u001b[0;34m,\u001b[0m \u001b[0mntree_end\u001b[0m\u001b[0;34m,\u001b[0m \u001b[0mthread_count\u001b[0m\u001b[0;34m,\u001b[0m \u001b[0mverbose\u001b[0m\u001b[0;34m,\u001b[0m \u001b[0;34m'predict'\u001b[0m\u001b[0;34m)\u001b[0m\u001b[0;34m\u001b[0m\u001b[0;34m\u001b[0m\u001b[0m\n\u001b[0m\u001b[1;32m   6133\u001b[0m \u001b[0;34m\u001b[0m\u001b[0m\n\u001b[1;32m   6134\u001b[0m     \u001b[0;32mdef\u001b[0m \u001b[0mstaged_predict\u001b[0m\u001b[0;34m(\u001b[0m\u001b[0mself\u001b[0m\u001b[0;34m,\u001b[0m \u001b[0mX\u001b[0m\u001b[0;34m,\u001b[0m \u001b[0mntree_start\u001b[0m\u001b[0;34m=\u001b[0m\u001b[0;36m0\u001b[0m\u001b[0;34m,\u001b[0m \u001b[0mntree_end\u001b[0m\u001b[0;34m=\u001b[0m\u001b[0;36m0\u001b[0m\u001b[0;34m,\u001b[0m \u001b[0meval_period\u001b[0m\u001b[0;34m=\u001b[0m\u001b[0;36m1\u001b[0m\u001b[0;34m,\u001b[0m \u001b[0mthread_count\u001b[0m\u001b[0;34m=\u001b[0m\u001b[0;34m-\u001b[0m\u001b[0;36m1\u001b[0m\u001b[0;34m,\u001b[0m \u001b[0mverbose\u001b[0m\u001b[0;34m=\u001b[0m\u001b[0;32mNone\u001b[0m\u001b[0;34m)\u001b[0m\u001b[0;34m:\u001b[0m\u001b[0;34m\u001b[0m\u001b[0;34m\u001b[0m\u001b[0m\n",
      "\u001b[0;32m~/.local/lib/python3.10/site-packages/catboost/core.py\u001b[0m in \u001b[0;36m_predict\u001b[0;34m(self, data, prediction_type, ntree_start, ntree_end, thread_count, verbose, parent_method_name, task_type)\u001b[0m\n\u001b[1;32m   2506\u001b[0m         \u001b[0mself\u001b[0m\u001b[0;34m.\u001b[0m\u001b[0m_validate_prediction_type\u001b[0m\u001b[0;34m(\u001b[0m\u001b[0mprediction_type\u001b[0m\u001b[0;34m)\u001b[0m\u001b[0;34m\u001b[0m\u001b[0;34m\u001b[0m\u001b[0m\n\u001b[1;32m   2507\u001b[0m \u001b[0;34m\u001b[0m\u001b[0m\n\u001b[0;32m-> 2508\u001b[0;31m         \u001b[0mpredictions\u001b[0m \u001b[0;34m=\u001b[0m \u001b[0mself\u001b[0m\u001b[0;34m.\u001b[0m\u001b[0m_base_predict\u001b[0m\u001b[0;34m(\u001b[0m\u001b[0mdata\u001b[0m\u001b[0;34m,\u001b[0m \u001b[0mprediction_type\u001b[0m\u001b[0;34m,\u001b[0m \u001b[0mntree_start\u001b[0m\u001b[0;34m,\u001b[0m \u001b[0mntree_end\u001b[0m\u001b[0;34m,\u001b[0m \u001b[0mthread_count\u001b[0m\u001b[0;34m,\u001b[0m \u001b[0mverbose\u001b[0m\u001b[0;34m,\u001b[0m \u001b[0mtask_type\u001b[0m\u001b[0;34m)\u001b[0m\u001b[0;34m\u001b[0m\u001b[0;34m\u001b[0m\u001b[0m\n\u001b[0m\u001b[1;32m   2509\u001b[0m         \u001b[0;32mreturn\u001b[0m \u001b[0mpredictions\u001b[0m\u001b[0;34m[\u001b[0m\u001b[0;36m0\u001b[0m\u001b[0;34m]\u001b[0m \u001b[0;32mif\u001b[0m \u001b[0mdata_is_single_object\u001b[0m \u001b[0;32melse\u001b[0m \u001b[0mpredictions\u001b[0m\u001b[0;34m\u001b[0m\u001b[0;34m\u001b[0m\u001b[0m\n\u001b[1;32m   2510\u001b[0m \u001b[0;34m\u001b[0m\u001b[0m\n",
      "\u001b[0;32m~/.local/lib/python3.10/site-packages/catboost/core.py\u001b[0m in \u001b[0;36m_base_predict\u001b[0;34m(self, pool, prediction_type, ntree_start, ntree_end, thread_count, verbose, task_type)\u001b[0m\n\u001b[1;32m   1773\u001b[0m \u001b[0;34m\u001b[0m\u001b[0m\n\u001b[1;32m   1774\u001b[0m     \u001b[0;32mdef\u001b[0m \u001b[0m_base_predict\u001b[0m\u001b[0;34m(\u001b[0m\u001b[0mself\u001b[0m\u001b[0;34m,\u001b[0m \u001b[0mpool\u001b[0m\u001b[0;34m,\u001b[0m \u001b[0mprediction_type\u001b[0m\u001b[0;34m,\u001b[0m \u001b[0mntree_start\u001b[0m\u001b[0;34m,\u001b[0m \u001b[0mntree_end\u001b[0m\u001b[0;34m,\u001b[0m \u001b[0mthread_count\u001b[0m\u001b[0;34m,\u001b[0m \u001b[0mverbose\u001b[0m\u001b[0;34m,\u001b[0m \u001b[0mtask_type\u001b[0m\u001b[0;34m)\u001b[0m\u001b[0;34m:\u001b[0m\u001b[0;34m\u001b[0m\u001b[0;34m\u001b[0m\u001b[0m\n\u001b[0;32m-> 1775\u001b[0;31m         \u001b[0;32mreturn\u001b[0m \u001b[0mself\u001b[0m\u001b[0;34m.\u001b[0m\u001b[0m_object\u001b[0m\u001b[0;34m.\u001b[0m\u001b[0m_base_predict\u001b[0m\u001b[0;34m(\u001b[0m\u001b[0mpool\u001b[0m\u001b[0;34m,\u001b[0m \u001b[0mprediction_type\u001b[0m\u001b[0;34m,\u001b[0m \u001b[0mntree_start\u001b[0m\u001b[0;34m,\u001b[0m \u001b[0mntree_end\u001b[0m\u001b[0;34m,\u001b[0m \u001b[0mthread_count\u001b[0m\u001b[0;34m,\u001b[0m \u001b[0mverbose\u001b[0m\u001b[0;34m,\u001b[0m \u001b[0mtask_type\u001b[0m\u001b[0;34m)\u001b[0m\u001b[0;34m\u001b[0m\u001b[0;34m\u001b[0m\u001b[0m\n\u001b[0m\u001b[1;32m   1776\u001b[0m \u001b[0;34m\u001b[0m\u001b[0m\n\u001b[1;32m   1777\u001b[0m     \u001b[0;32mdef\u001b[0m \u001b[0m_base_virtual_ensembles_predict\u001b[0m\u001b[0;34m(\u001b[0m\u001b[0mself\u001b[0m\u001b[0;34m,\u001b[0m \u001b[0mpool\u001b[0m\u001b[0;34m,\u001b[0m \u001b[0mprediction_type\u001b[0m\u001b[0;34m,\u001b[0m \u001b[0mntree_end\u001b[0m\u001b[0;34m,\u001b[0m \u001b[0mvirtual_ensembles_count\u001b[0m\u001b[0;34m,\u001b[0m \u001b[0mthread_count\u001b[0m\u001b[0;34m,\u001b[0m \u001b[0mverbose\u001b[0m\u001b[0;34m)\u001b[0m\u001b[0;34m:\u001b[0m\u001b[0;34m\u001b[0m\u001b[0;34m\u001b[0m\u001b[0m\n",
      "\u001b[0;32m_catboost.pyx\u001b[0m in \u001b[0;36m_catboost._CatBoost._base_predict\u001b[0;34m()\u001b[0m\n",
      "\u001b[0;32m_catboost.pyx\u001b[0m in \u001b[0;36m_catboost._CatBoost._base_predict\u001b[0;34m()\u001b[0m\n",
      "\u001b[0;31mCatBoostError\u001b[0m: /src/catboost/catboost/libs/data/model_dataset_compatibility.cpp:72: Feature percent_of_watch is present in model but not in pool."
     ]
    }
   ],
   "source": [
    "pred = from_file.predict(test)"
   ]
  },
  {
   "cell_type": "code",
   "execution_count": 88,
   "metadata": {
    "execution": {
     "iopub.execute_input": "2023-11-25T10:13:18.955177Z",
     "iopub.status.busy": "2023-11-25T10:13:18.954080Z",
     "iopub.status.idle": "2023-11-25T10:13:19.102759Z",
     "shell.execute_reply": "2023-11-25T10:13:19.101639Z",
     "shell.execute_reply.started": "2023-11-25T10:13:18.955128Z"
    },
    "tags": []
   },
   "outputs": [
    {
     "data": {
      "text/html": [
       "<div>\n",
       "<style scoped>\n",
       "    .dataframe tbody tr th:only-of-type {\n",
       "        vertical-align: middle;\n",
       "    }\n",
       "\n",
       "    .dataframe tbody tr th {\n",
       "        vertical-align: top;\n",
       "    }\n",
       "\n",
       "    .dataframe thead th {\n",
       "        text-align: right;\n",
       "    }\n",
       "</style>\n",
       "<table border=\"1\" class=\"dataframe\">\n",
       "  <thead>\n",
       "    <tr style=\"text-align: right;\">\n",
       "      <th></th>\n",
       "      <th>top</th>\n",
       "      <th>total_comments</th>\n",
       "      <th>v_year_views</th>\n",
       "      <th>v_month_views</th>\n",
       "      <th>v_week_views</th>\n",
       "      <th>v_day_views</th>\n",
       "      <th>v_likes</th>\n",
       "      <th>v_dislikes</th>\n",
       "      <th>v_duration</th>\n",
       "      <th>v_cr_click_like_7_days</th>\n",
       "      <th>v_cr_click_dislike_7_days</th>\n",
       "      <th>v_cr_click_vtop_7_days</th>\n",
       "      <th>v_cr_click_long_view_7_days</th>\n",
       "      <th>v_cr_click_comment_7_days</th>\n",
       "      <th>v_cr_click_like_30_days</th>\n",
       "      <th>v_cr_click_dislike_30_days</th>\n",
       "      <th>v_cr_click_vtop_30_days</th>\n",
       "      <th>v_cr_click_long_view_30_days</th>\n",
       "      <th>v_cr_click_comment_30_days</th>\n",
       "      <th>v_cr_click_like_1_days</th>\n",
       "      <th>v_cr_click_dislike_1_days</th>\n",
       "      <th>v_cr_click_vtop_1_days</th>\n",
       "      <th>v_cr_click_long_view_1_days</th>\n",
       "      <th>v_cr_click_comment_1_days</th>\n",
       "      <th>clickbait</th>\n",
       "      <th>percent_of_watch</th>\n",
       "      <th>pred</th>\n",
       "      <th>video_id</th>\n",
       "      <th>query</th>\n",
       "    </tr>\n",
       "  </thead>\n",
       "  <tbody>\n",
       "    <tr>\n",
       "      <th>583200</th>\n",
       "      <td>1</td>\n",
       "      <td>0.0</td>\n",
       "      <td>36.0</td>\n",
       "      <td>1.0</td>\n",
       "      <td>1.0</td>\n",
       "      <td>0.0</td>\n",
       "      <td>0.0</td>\n",
       "      <td>0.0</td>\n",
       "      <td>59303.0</td>\n",
       "      <td>0.0</td>\n",
       "      <td>0.0</td>\n",
       "      <td>0.0</td>\n",
       "      <td>0.000000</td>\n",
       "      <td>0.0</td>\n",
       "      <td>0.0</td>\n",
       "      <td>0.0</td>\n",
       "      <td>0.0</td>\n",
       "      <td>0.000000</td>\n",
       "      <td>0.0</td>\n",
       "      <td>0.0</td>\n",
       "      <td>0.0</td>\n",
       "      <td>0.0</td>\n",
       "      <td>0.000000</td>\n",
       "      <td>0.0</td>\n",
       "      <td>0</td>\n",
       "      <td>0.370976</td>\n",
       "      <td>0.435714</td>\n",
       "      <td>video_9184538</td>\n",
       "      <td>мужское женское</td>\n",
       "    </tr>\n",
       "    <tr>\n",
       "      <th>583296</th>\n",
       "      <td>0</td>\n",
       "      <td>NaN</td>\n",
       "      <td>NaN</td>\n",
       "      <td>NaN</td>\n",
       "      <td>NaN</td>\n",
       "      <td>NaN</td>\n",
       "      <td>NaN</td>\n",
       "      <td>NaN</td>\n",
       "      <td>NaN</td>\n",
       "      <td>NaN</td>\n",
       "      <td>NaN</td>\n",
       "      <td>NaN</td>\n",
       "      <td>NaN</td>\n",
       "      <td>NaN</td>\n",
       "      <td>NaN</td>\n",
       "      <td>NaN</td>\n",
       "      <td>NaN</td>\n",
       "      <td>NaN</td>\n",
       "      <td>NaN</td>\n",
       "      <td>NaN</td>\n",
       "      <td>NaN</td>\n",
       "      <td>NaN</td>\n",
       "      <td>NaN</td>\n",
       "      <td>NaN</td>\n",
       "      <td>0</td>\n",
       "      <td>NaN</td>\n",
       "      <td>-0.004262</td>\n",
       "      <td>video_5080311</td>\n",
       "      <td>мужское женское</td>\n",
       "    </tr>\n",
       "    <tr>\n",
       "      <th>583297</th>\n",
       "      <td>0</td>\n",
       "      <td>0.0</td>\n",
       "      <td>6.0</td>\n",
       "      <td>0.0</td>\n",
       "      <td>0.0</td>\n",
       "      <td>0.0</td>\n",
       "      <td>0.0</td>\n",
       "      <td>0.0</td>\n",
       "      <td>28515.0</td>\n",
       "      <td>0.0</td>\n",
       "      <td>0.0</td>\n",
       "      <td>0.0</td>\n",
       "      <td>0.000000</td>\n",
       "      <td>0.0</td>\n",
       "      <td>0.0</td>\n",
       "      <td>0.0</td>\n",
       "      <td>0.0</td>\n",
       "      <td>0.000000</td>\n",
       "      <td>0.0</td>\n",
       "      <td>0.0</td>\n",
       "      <td>0.0</td>\n",
       "      <td>0.0</td>\n",
       "      <td>0.000000</td>\n",
       "      <td>0.0</td>\n",
       "      <td>0</td>\n",
       "      <td>NaN</td>\n",
       "      <td>-0.005476</td>\n",
       "      <td>video_26248575</td>\n",
       "      <td>мужское женское</td>\n",
       "    </tr>\n",
       "    <tr>\n",
       "      <th>583298</th>\n",
       "      <td>0</td>\n",
       "      <td>3.0</td>\n",
       "      <td>6.0</td>\n",
       "      <td>0.0</td>\n",
       "      <td>0.0</td>\n",
       "      <td>0.0</td>\n",
       "      <td>0.0</td>\n",
       "      <td>0.0</td>\n",
       "      <td>29734.0</td>\n",
       "      <td>0.0</td>\n",
       "      <td>0.0</td>\n",
       "      <td>0.0</td>\n",
       "      <td>0.000000</td>\n",
       "      <td>0.0</td>\n",
       "      <td>0.0</td>\n",
       "      <td>0.0</td>\n",
       "      <td>0.0</td>\n",
       "      <td>0.000000</td>\n",
       "      <td>0.0</td>\n",
       "      <td>0.0</td>\n",
       "      <td>0.0</td>\n",
       "      <td>0.0</td>\n",
       "      <td>0.000000</td>\n",
       "      <td>0.0</td>\n",
       "      <td>0</td>\n",
       "      <td>NaN</td>\n",
       "      <td>-0.004437</td>\n",
       "      <td>video_31836928</td>\n",
       "      <td>мужское женское</td>\n",
       "    </tr>\n",
       "    <tr>\n",
       "      <th>583299</th>\n",
       "      <td>0</td>\n",
       "      <td>0.0</td>\n",
       "      <td>9977.0</td>\n",
       "      <td>1237.0</td>\n",
       "      <td>257.0</td>\n",
       "      <td>56.0</td>\n",
       "      <td>0.0</td>\n",
       "      <td>0.0</td>\n",
       "      <td>98616.0</td>\n",
       "      <td>0.0</td>\n",
       "      <td>0.0</td>\n",
       "      <td>0.0</td>\n",
       "      <td>0.618677</td>\n",
       "      <td>0.0</td>\n",
       "      <td>0.0</td>\n",
       "      <td>0.0</td>\n",
       "      <td>0.0</td>\n",
       "      <td>0.627324</td>\n",
       "      <td>0.0</td>\n",
       "      <td>0.0</td>\n",
       "      <td>0.0</td>\n",
       "      <td>0.0</td>\n",
       "      <td>0.517857</td>\n",
       "      <td>0.0</td>\n",
       "      <td>1</td>\n",
       "      <td>0.527298</td>\n",
       "      <td>0.074538</td>\n",
       "      <td>video_33490134</td>\n",
       "      <td>мужское женское</td>\n",
       "    </tr>\n",
       "    <tr>\n",
       "      <th>...</th>\n",
       "      <td>...</td>\n",
       "      <td>...</td>\n",
       "      <td>...</td>\n",
       "      <td>...</td>\n",
       "      <td>...</td>\n",
       "      <td>...</td>\n",
       "      <td>...</td>\n",
       "      <td>...</td>\n",
       "      <td>...</td>\n",
       "      <td>...</td>\n",
       "      <td>...</td>\n",
       "      <td>...</td>\n",
       "      <td>...</td>\n",
       "      <td>...</td>\n",
       "      <td>...</td>\n",
       "      <td>...</td>\n",
       "      <td>...</td>\n",
       "      <td>...</td>\n",
       "      <td>...</td>\n",
       "      <td>...</td>\n",
       "      <td>...</td>\n",
       "      <td>...</td>\n",
       "      <td>...</td>\n",
       "      <td>...</td>\n",
       "      <td>...</td>\n",
       "      <td>...</td>\n",
       "      <td>...</td>\n",
       "      <td>...</td>\n",
       "      <td>...</td>\n",
       "    </tr>\n",
       "    <tr>\n",
       "      <th>223298</th>\n",
       "      <td>0</td>\n",
       "      <td>NaN</td>\n",
       "      <td>NaN</td>\n",
       "      <td>NaN</td>\n",
       "      <td>NaN</td>\n",
       "      <td>NaN</td>\n",
       "      <td>NaN</td>\n",
       "      <td>NaN</td>\n",
       "      <td>NaN</td>\n",
       "      <td>NaN</td>\n",
       "      <td>NaN</td>\n",
       "      <td>NaN</td>\n",
       "      <td>NaN</td>\n",
       "      <td>NaN</td>\n",
       "      <td>NaN</td>\n",
       "      <td>NaN</td>\n",
       "      <td>NaN</td>\n",
       "      <td>NaN</td>\n",
       "      <td>NaN</td>\n",
       "      <td>NaN</td>\n",
       "      <td>NaN</td>\n",
       "      <td>NaN</td>\n",
       "      <td>NaN</td>\n",
       "      <td>NaN</td>\n",
       "      <td>0</td>\n",
       "      <td>NaN</td>\n",
       "      <td>-0.004262</td>\n",
       "      <td>video_9432054</td>\n",
       "      <td>ёлки 10</td>\n",
       "    </tr>\n",
       "    <tr>\n",
       "      <th>223297</th>\n",
       "      <td>0</td>\n",
       "      <td>NaN</td>\n",
       "      <td>NaN</td>\n",
       "      <td>NaN</td>\n",
       "      <td>NaN</td>\n",
       "      <td>NaN</td>\n",
       "      <td>NaN</td>\n",
       "      <td>NaN</td>\n",
       "      <td>NaN</td>\n",
       "      <td>NaN</td>\n",
       "      <td>NaN</td>\n",
       "      <td>NaN</td>\n",
       "      <td>NaN</td>\n",
       "      <td>NaN</td>\n",
       "      <td>NaN</td>\n",
       "      <td>NaN</td>\n",
       "      <td>NaN</td>\n",
       "      <td>NaN</td>\n",
       "      <td>NaN</td>\n",
       "      <td>NaN</td>\n",
       "      <td>NaN</td>\n",
       "      <td>NaN</td>\n",
       "      <td>NaN</td>\n",
       "      <td>NaN</td>\n",
       "      <td>0</td>\n",
       "      <td>NaN</td>\n",
       "      <td>-0.004262</td>\n",
       "      <td>video_17495802</td>\n",
       "      <td>ёлки 10</td>\n",
       "    </tr>\n",
       "    <tr>\n",
       "      <th>223296</th>\n",
       "      <td>0</td>\n",
       "      <td>NaN</td>\n",
       "      <td>NaN</td>\n",
       "      <td>NaN</td>\n",
       "      <td>NaN</td>\n",
       "      <td>NaN</td>\n",
       "      <td>NaN</td>\n",
       "      <td>NaN</td>\n",
       "      <td>NaN</td>\n",
       "      <td>NaN</td>\n",
       "      <td>NaN</td>\n",
       "      <td>NaN</td>\n",
       "      <td>NaN</td>\n",
       "      <td>NaN</td>\n",
       "      <td>NaN</td>\n",
       "      <td>NaN</td>\n",
       "      <td>NaN</td>\n",
       "      <td>NaN</td>\n",
       "      <td>NaN</td>\n",
       "      <td>NaN</td>\n",
       "      <td>NaN</td>\n",
       "      <td>NaN</td>\n",
       "      <td>NaN</td>\n",
       "      <td>NaN</td>\n",
       "      <td>0</td>\n",
       "      <td>NaN</td>\n",
       "      <td>-0.004262</td>\n",
       "      <td>video_32107639</td>\n",
       "      <td>ёлки 10</td>\n",
       "    </tr>\n",
       "    <tr>\n",
       "      <th>223294</th>\n",
       "      <td>0</td>\n",
       "      <td>NaN</td>\n",
       "      <td>NaN</td>\n",
       "      <td>NaN</td>\n",
       "      <td>NaN</td>\n",
       "      <td>NaN</td>\n",
       "      <td>NaN</td>\n",
       "      <td>NaN</td>\n",
       "      <td>NaN</td>\n",
       "      <td>NaN</td>\n",
       "      <td>NaN</td>\n",
       "      <td>NaN</td>\n",
       "      <td>NaN</td>\n",
       "      <td>NaN</td>\n",
       "      <td>NaN</td>\n",
       "      <td>NaN</td>\n",
       "      <td>NaN</td>\n",
       "      <td>NaN</td>\n",
       "      <td>NaN</td>\n",
       "      <td>NaN</td>\n",
       "      <td>NaN</td>\n",
       "      <td>NaN</td>\n",
       "      <td>NaN</td>\n",
       "      <td>NaN</td>\n",
       "      <td>0</td>\n",
       "      <td>NaN</td>\n",
       "      <td>-0.004262</td>\n",
       "      <td>video_18037553</td>\n",
       "      <td>ёлки 10</td>\n",
       "    </tr>\n",
       "    <tr>\n",
       "      <th>223498</th>\n",
       "      <td>0</td>\n",
       "      <td>0.0</td>\n",
       "      <td>280.0</td>\n",
       "      <td>2.0</td>\n",
       "      <td>2.0</td>\n",
       "      <td>2.0</td>\n",
       "      <td>0.0</td>\n",
       "      <td>0.0</td>\n",
       "      <td>167034.0</td>\n",
       "      <td>0.0</td>\n",
       "      <td>0.0</td>\n",
       "      <td>0.0</td>\n",
       "      <td>0.000000</td>\n",
       "      <td>0.0</td>\n",
       "      <td>0.0</td>\n",
       "      <td>0.0</td>\n",
       "      <td>0.0</td>\n",
       "      <td>0.000000</td>\n",
       "      <td>0.0</td>\n",
       "      <td>0.0</td>\n",
       "      <td>0.0</td>\n",
       "      <td>0.0</td>\n",
       "      <td>0.000000</td>\n",
       "      <td>0.0</td>\n",
       "      <td>0</td>\n",
       "      <td>NaN</td>\n",
       "      <td>-0.003938</td>\n",
       "      <td>video_30185426</td>\n",
       "      <td>ёлки 10</td>\n",
       "    </tr>\n",
       "  </tbody>\n",
       "</table>\n",
       "<p>600000 rows × 29 columns</p>\n",
       "</div>"
      ],
      "text/plain": [
       "        top  total_comments  ...        video_id                query\n",
       "583200    1             0.0  ...   video_9184538      мужское женское\n",
       "583296    0             NaN  ...   video_5080311      мужское женское\n",
       "583297    0             0.0  ...  video_26248575      мужское женское\n",
       "583298    0             3.0  ...  video_31836928      мужское женское\n",
       "583299    0             0.0  ...  video_33490134      мужское женское\n",
       "...     ...             ...  ...             ...                  ...\n",
       "223298    0             NaN  ...   video_9432054              ёлки 10\n",
       "223297    0             NaN  ...  video_17495802              ёлки 10\n",
       "223296    0             NaN  ...  video_32107639              ёлки 10\n",
       "223294    0             NaN  ...  video_18037553              ёлки 10\n",
       "223498    0             0.0  ...  video_30185426              ёлки 10\n",
       "\n",
       "[600000 rows x 29 columns]"
      ]
     },
     "execution_count": 88,
     "metadata": {},
     "output_type": "execute_result"
    }
   ],
   "source": [
    "X_test['pred'] = pred\n",
    "X_test['video_id'] = full_df['video_id']\n",
    "X_test['query'] = full_df['query']\n",
    "X_test"
   ]
  },
  {
   "cell_type": "code",
   "execution_count": 116,
   "metadata": {
    "execution": {
     "iopub.execute_input": "2023-11-25T10:24:30.692731Z",
     "iopub.status.busy": "2023-11-25T10:24:30.691622Z",
     "iopub.status.idle": "2023-11-25T10:24:32.437682Z",
     "shell.execute_reply": "2023-11-25T10:24:32.436509Z",
     "shell.execute_reply.started": "2023-11-25T10:24:30.692670Z"
    },
    "tags": []
   },
   "outputs": [],
   "source": [
    "asd = X_test.groupby([\"query\",\"video_id\"]).max().sort_values('pred',ascending=False)"
   ]
  },
  {
   "cell_type": "code",
   "execution_count": null,
   "metadata": {
    "tags": []
   },
   "outputs": [],
   "source": [
    "qwe = asd."
   ]
  },
  {
   "cell_type": "code",
   "execution_count": 122,
   "metadata": {
    "execution": {
     "iopub.execute_input": "2023-11-25T10:27:56.974935Z",
     "iopub.status.busy": "2023-11-25T10:27:56.973745Z",
     "iopub.status.idle": "2023-11-25T10:27:57.434838Z",
     "shell.execute_reply": "2023-11-25T10:27:57.433628Z",
     "shell.execute_reply.started": "2023-11-25T10:27:56.974884Z"
    },
    "tags": []
   },
   "outputs": [],
   "source": [
    "vv = X_test.sort_values(by='pred', ascending=False).groupby('query').head(5).reset_index(drop=True)"
   ]
  },
  {
   "cell_type": "code",
   "execution_count": 125,
   "metadata": {
    "execution": {
     "iopub.execute_input": "2023-11-25T10:28:47.050469Z",
     "iopub.status.busy": "2023-11-25T10:28:47.049445Z",
     "iopub.status.idle": "2023-11-25T10:28:47.111787Z",
     "shell.execute_reply": "2023-11-25T10:28:47.110483Z",
     "shell.execute_reply.started": "2023-11-25T10:28:47.050421Z"
    },
    "tags": []
   },
   "outputs": [],
   "source": [
    "vv[['query','video_id']].to_csv('res.csv', index=False)"
   ]
  },
  {
   "cell_type": "code",
   "execution_count": 127,
   "metadata": {
    "execution": {
     "iopub.execute_input": "2023-11-25T10:32:24.369442Z",
     "iopub.status.busy": "2023-11-25T10:32:24.368487Z",
     "iopub.status.idle": "2023-11-25T10:32:24.388270Z",
     "shell.execute_reply": "2023-11-25T10:32:24.387143Z",
     "shell.execute_reply.started": "2023-11-25T10:32:24.369402Z"
    }
   },
   "outputs": [],
   "source": [
    "res_df = vv[['query','video_id']]"
   ]
  },
  {
   "cell_type": "code",
   "execution_count": null,
   "metadata": {},
   "outputs": [],
   "source": []
  },
  {
   "cell_type": "code",
   "execution_count": null,
   "metadata": {},
   "outputs": [],
   "source": []
  },
  {
   "cell_type": "code",
   "execution_count": null,
   "metadata": {},
   "outputs": [],
   "source": []
  },
  {
   "cell_type": "code",
   "execution_count": 108,
   "metadata": {
    "execution": {
     "iopub.execute_input": "2023-11-25T06:00:54.402352Z",
     "iopub.status.busy": "2023-11-25T06:00:54.401755Z",
     "iopub.status.idle": "2023-11-25T06:00:54.589742Z",
     "shell.execute_reply": "2023-11-25T06:00:54.589066Z",
     "shell.execute_reply.started": "2023-11-25T06:00:54.402327Z"
    },
    "tags": []
   },
   "outputs": [
    {
     "name": "stdout",
     "output_type": "stream",
     "text": [
      "query\n",
      "музыка                                                   531\n",
      "Матч тв                                                  525\n",
      "Обзоры матчей                                            376\n",
      "Матч                                                     364\n",
      "Экстрасенсы                                              272\n",
      "                                                        ... \n",
      "Ленивый плов в казане.                                     1\n",
      "Ленивый плов в казане                                      1\n",
      "Меч 2 сезон 3 серия                                        1\n",
      "Заправка киберспортивной едой перед серьезной работой      1\n",
      "Скетч-шоу VELLISSIMOO «знать и молчать?»                   1\n",
      "Name: count, Length: 2000, dtype: int64\n"
     ]
    }
   ],
   "source": [
    "from sklearn.metrics import ndcg_score\n",
    "df_grd['target'] = [1] * df_grd.shape[0]\n",
    "df_grd = df_grd[['query', 'video_id', 'target']].drop_duplicates()\n",
    "print(df_grd['query'].value_counts())\n",
    "\n",
    "with_target = df_solution.merge(\n",
    "    df_grd,\n",
    "    how='left',\n",
    "    on=['query', 'video_id'],\n",
    ")\n",
    "\n",
    "with_target['target'] = with_target['target'].fillna(0.0)\n",
    "\n",
    "y_true = np.array(\n",
    "    with_target.groupby('query').agg(list)['target'].values.tolist()\n",
    ")\n",
    "y_score = np.array([[5.0, 4.0, 3.0, 2.0, 1.0] for _ in range(len(y_true))])\n",
    "\n",
    "ndcg = ndcg_score(y_true, y_score)"
   ]
  },
  {
   "cell_type": "code",
   "execution_count": null,
   "metadata": {},
   "outputs": [],
   "source": []
  }
 ],
 "metadata": {
  "accelerator": "GPU",
  "colab": {
   "gpuType": "T4",
   "provenance": []
  },
  "kernelspec": {
   "display_name": "DataSphere Kernel",
   "language": "python",
   "name": "python3"
  },
  "language_info": {
   "codemirror_mode": {
    "name": "ipython",
    "version": 3
   },
   "file_extension": ".py",
   "mimetype": "text/x-python",
   "name": "python",
   "nbconvert_exporter": "python",
   "pygments_lexer": "ipython3",
   "version": "3.7.7"
  },
  "widgets": {
   "application/vnd.jupyter.widget-state+json": {
    "012088fc48b04f688abcded2e2de7458": {
     "model_module": "@jupyter-widgets/controls",
     "model_module_version": "1.5.0",
     "model_name": "HTMLModel",
     "state": {
      "_dom_classes": [],
      "_model_module": "@jupyter-widgets/controls",
      "_model_module_version": "1.5.0",
      "_model_name": "HTMLModel",
      "_view_count": null,
      "_view_module": "@jupyter-widgets/controls",
      "_view_module_version": "1.5.0",
      "_view_name": "HTMLView",
      "description": "",
      "description_tooltip": null,
      "layout": "IPY_MODEL_64336973210b44aa9453a27173d98935",
      "placeholder": "​",
      "style": "IPY_MODEL_e1cea41a593f48a1a69e2fce6d07a0f0",
      "value": "Batches: 100%"
     }
    },
    "01b2071a14054820bf7572ddca99c09b": {
     "model_module": "@jupyter-widgets/base",
     "model_module_version": "1.2.0",
     "model_name": "LayoutModel",
     "state": {
      "_model_module": "@jupyter-widgets/base",
      "_model_module_version": "1.2.0",
      "_model_name": "LayoutModel",
      "_view_count": null,
      "_view_module": "@jupyter-widgets/base",
      "_view_module_version": "1.2.0",
      "_view_name": "LayoutView",
      "align_content": null,
      "align_items": null,
      "align_self": null,
      "border": null,
      "bottom": null,
      "display": null,
      "flex": null,
      "flex_flow": null,
      "grid_area": null,
      "grid_auto_columns": null,
      "grid_auto_flow": null,
      "grid_auto_rows": null,
      "grid_column": null,
      "grid_gap": null,
      "grid_row": null,
      "grid_template_areas": null,
      "grid_template_columns": null,
      "grid_template_rows": null,
      "height": null,
      "justify_content": null,
      "justify_items": null,
      "left": null,
      "margin": null,
      "max_height": null,
      "max_width": null,
      "min_height": null,
      "min_width": null,
      "object_fit": null,
      "object_position": null,
      "order": null,
      "overflow": null,
      "overflow_x": null,
      "overflow_y": null,
      "padding": null,
      "right": null,
      "top": null,
      "visibility": null,
      "width": null
     }
    },
    "06a05c130a044130aceb1c890f21defb": {
     "model_module": "@jupyter-widgets/base",
     "model_module_version": "1.2.0",
     "model_name": "LayoutModel",
     "state": {
      "_model_module": "@jupyter-widgets/base",
      "_model_module_version": "1.2.0",
      "_model_name": "LayoutModel",
      "_view_count": null,
      "_view_module": "@jupyter-widgets/base",
      "_view_module_version": "1.2.0",
      "_view_name": "LayoutView",
      "align_content": null,
      "align_items": null,
      "align_self": null,
      "border": null,
      "bottom": null,
      "display": null,
      "flex": null,
      "flex_flow": null,
      "grid_area": null,
      "grid_auto_columns": null,
      "grid_auto_flow": null,
      "grid_auto_rows": null,
      "grid_column": null,
      "grid_gap": null,
      "grid_row": null,
      "grid_template_areas": null,
      "grid_template_columns": null,
      "grid_template_rows": null,
      "height": null,
      "justify_content": null,
      "justify_items": null,
      "left": null,
      "margin": null,
      "max_height": null,
      "max_width": null,
      "min_height": null,
      "min_width": null,
      "object_fit": null,
      "object_position": null,
      "order": null,
      "overflow": null,
      "overflow_x": null,
      "overflow_y": null,
      "padding": null,
      "right": null,
      "top": null,
      "visibility": null,
      "width": null
     }
    },
    "0886d82a82df41e4859b05ad12b3864c": {
     "model_module": "@jupyter-widgets/base",
     "model_module_version": "1.2.0",
     "model_name": "LayoutModel",
     "state": {
      "_model_module": "@jupyter-widgets/base",
      "_model_module_version": "1.2.0",
      "_model_name": "LayoutModel",
      "_view_count": null,
      "_view_module": "@jupyter-widgets/base",
      "_view_module_version": "1.2.0",
      "_view_name": "LayoutView",
      "align_content": null,
      "align_items": null,
      "align_self": null,
      "border": null,
      "bottom": null,
      "display": null,
      "flex": null,
      "flex_flow": null,
      "grid_area": null,
      "grid_auto_columns": null,
      "grid_auto_flow": null,
      "grid_auto_rows": null,
      "grid_column": null,
      "grid_gap": null,
      "grid_row": null,
      "grid_template_areas": null,
      "grid_template_columns": null,
      "grid_template_rows": null,
      "height": null,
      "justify_content": null,
      "justify_items": null,
      "left": null,
      "margin": null,
      "max_height": null,
      "max_width": null,
      "min_height": null,
      "min_width": null,
      "object_fit": null,
      "object_position": null,
      "order": null,
      "overflow": null,
      "overflow_x": null,
      "overflow_y": null,
      "padding": null,
      "right": null,
      "top": null,
      "visibility": null,
      "width": null
     }
    },
    "0d61bcd2b6aa41ef80990dc37b1b79da": {
     "model_module": "@jupyter-widgets/controls",
     "model_module_version": "1.5.0",
     "model_name": "FloatProgressModel",
     "state": {
      "_dom_classes": [],
      "_model_module": "@jupyter-widgets/controls",
      "_model_module_version": "1.5.0",
      "_model_name": "FloatProgressModel",
      "_view_count": null,
      "_view_module": "@jupyter-widgets/controls",
      "_view_module_version": "1.5.0",
      "_view_name": "ProgressView",
      "bar_style": "success",
      "description": "",
      "description_tooltip": null,
      "layout": "IPY_MODEL_6bec94da828d479d8c2429ba9510f7ba",
      "max": 10,
      "min": 0,
      "orientation": "horizontal",
      "style": "IPY_MODEL_fa9d284d5626439097a433f3fdceb649",
      "value": 10
     }
    },
    "104938142a57420ebc8bfb25cdd6e582": {
     "model_module": "@jupyter-widgets/controls",
     "model_module_version": "1.5.0",
     "model_name": "HBoxModel",
     "state": {
      "_dom_classes": [],
      "_model_module": "@jupyter-widgets/controls",
      "_model_module_version": "1.5.0",
      "_model_name": "HBoxModel",
      "_view_count": null,
      "_view_module": "@jupyter-widgets/controls",
      "_view_module_version": "1.5.0",
      "_view_name": "HBoxView",
      "box_style": "",
      "children": [
       "IPY_MODEL_7bb47bf6f5ae4267ab9762f2b1fdedfe",
       "IPY_MODEL_bca0ca7761e34dbca3eeb531ca1a1638",
       "IPY_MODEL_e9f00e5b300e491e9a8ff52a4bf2a2ca"
      ],
      "layout": "IPY_MODEL_210de7818a9d4d1090fdb3670c0f8210"
     }
    },
    "10ebcc5d193840c8a3f9a00f561d1bd8": {
     "model_module": "@jupyter-widgets/controls",
     "model_module_version": "1.5.0",
     "model_name": "HTMLModel",
     "state": {
      "_dom_classes": [],
      "_model_module": "@jupyter-widgets/controls",
      "_model_module_version": "1.5.0",
      "_model_name": "HTMLModel",
      "_view_count": null,
      "_view_module": "@jupyter-widgets/controls",
      "_view_module_version": "1.5.0",
      "_view_name": "HTMLView",
      "description": "",
      "description_tooltip": null,
      "layout": "IPY_MODEL_828d57c48a7b427da89dde7d1a8b99d7",
      "placeholder": "​",
      "style": "IPY_MODEL_d1b7adfe2ad846e0ad47fd7c3a3f89fe",
      "value": "Batches: 100%"
     }
    },
    "193e8ba6b34e4f5c8417717073781e57": {
     "model_module": "@jupyter-widgets/controls",
     "model_module_version": "1.5.0",
     "model_name": "DescriptionStyleModel",
     "state": {
      "_model_module": "@jupyter-widgets/controls",
      "_model_module_version": "1.5.0",
      "_model_name": "DescriptionStyleModel",
      "_view_count": null,
      "_view_module": "@jupyter-widgets/base",
      "_view_module_version": "1.2.0",
      "_view_name": "StyleView",
      "description_width": ""
     }
    },
    "1c4c43525f7343c29b53e1280fc1ad5a": {
     "model_module": "@jupyter-widgets/controls",
     "model_module_version": "1.5.0",
     "model_name": "FloatProgressModel",
     "state": {
      "_dom_classes": [],
      "_model_module": "@jupyter-widgets/controls",
      "_model_module_version": "1.5.0",
      "_model_name": "FloatProgressModel",
      "_view_count": null,
      "_view_module": "@jupyter-widgets/controls",
      "_view_module_version": "1.5.0",
      "_view_name": "ProgressView",
      "bar_style": "success",
      "description": "",
      "description_tooltip": null,
      "layout": "IPY_MODEL_88d87bd37023416ab28596bb81a801aa",
      "max": 10,
      "min": 0,
      "orientation": "horizontal",
      "style": "IPY_MODEL_43ad6d42b0aa45238247698f8dda58df",
      "value": 10
     }
    },
    "210de7818a9d4d1090fdb3670c0f8210": {
     "model_module": "@jupyter-widgets/base",
     "model_module_version": "1.2.0",
     "model_name": "LayoutModel",
     "state": {
      "_model_module": "@jupyter-widgets/base",
      "_model_module_version": "1.2.0",
      "_model_name": "LayoutModel",
      "_view_count": null,
      "_view_module": "@jupyter-widgets/base",
      "_view_module_version": "1.2.0",
      "_view_name": "LayoutView",
      "align_content": null,
      "align_items": null,
      "align_self": null,
      "border": null,
      "bottom": null,
      "display": null,
      "flex": null,
      "flex_flow": null,
      "grid_area": null,
      "grid_auto_columns": null,
      "grid_auto_flow": null,
      "grid_auto_rows": null,
      "grid_column": null,
      "grid_gap": null,
      "grid_row": null,
      "grid_template_areas": null,
      "grid_template_columns": null,
      "grid_template_rows": null,
      "height": null,
      "justify_content": null,
      "justify_items": null,
      "left": null,
      "margin": null,
      "max_height": null,
      "max_width": null,
      "min_height": null,
      "min_width": null,
      "object_fit": null,
      "object_position": null,
      "order": null,
      "overflow": null,
      "overflow_x": null,
      "overflow_y": null,
      "padding": null,
      "right": null,
      "top": null,
      "visibility": null,
      "width": null
     }
    },
    "2131f3d353c743c18dfb69c2ad20d671": {
     "model_module": "@jupyter-widgets/controls",
     "model_module_version": "1.5.0",
     "model_name": "HBoxModel",
     "state": {
      "_dom_classes": [],
      "_model_module": "@jupyter-widgets/controls",
      "_model_module_version": "1.5.0",
      "_model_name": "HBoxModel",
      "_view_count": null,
      "_view_module": "@jupyter-widgets/controls",
      "_view_module_version": "1.5.0",
      "_view_name": "HBoxView",
      "box_style": "",
      "children": [
       "IPY_MODEL_10ebcc5d193840c8a3f9a00f561d1bd8",
       "IPY_MODEL_9f096b7da413490797da7586d80c0cd6",
       "IPY_MODEL_2383cb3ff853465f914e3a2afd2945e4"
      ],
      "layout": "IPY_MODEL_9e25169352a04090940cea264ab46bad"
     }
    },
    "228eb1be332c4cb898d3de14f5524c30": {
     "model_module": "@jupyter-widgets/base",
     "model_module_version": "1.2.0",
     "model_name": "LayoutModel",
     "state": {
      "_model_module": "@jupyter-widgets/base",
      "_model_module_version": "1.2.0",
      "_model_name": "LayoutModel",
      "_view_count": null,
      "_view_module": "@jupyter-widgets/base",
      "_view_module_version": "1.2.0",
      "_view_name": "LayoutView",
      "align_content": null,
      "align_items": null,
      "align_self": null,
      "border": null,
      "bottom": null,
      "display": null,
      "flex": null,
      "flex_flow": null,
      "grid_area": null,
      "grid_auto_columns": null,
      "grid_auto_flow": null,
      "grid_auto_rows": null,
      "grid_column": null,
      "grid_gap": null,
      "grid_row": null,
      "grid_template_areas": null,
      "grid_template_columns": null,
      "grid_template_rows": null,
      "height": null,
      "justify_content": null,
      "justify_items": null,
      "left": null,
      "margin": null,
      "max_height": null,
      "max_width": null,
      "min_height": null,
      "min_width": null,
      "object_fit": null,
      "object_position": null,
      "order": null,
      "overflow": null,
      "overflow_x": null,
      "overflow_y": null,
      "padding": null,
      "right": null,
      "top": null,
      "visibility": null,
      "width": null
     }
    },
    "2383cb3ff853465f914e3a2afd2945e4": {
     "model_module": "@jupyter-widgets/controls",
     "model_module_version": "1.5.0",
     "model_name": "HTMLModel",
     "state": {
      "_dom_classes": [],
      "_model_module": "@jupyter-widgets/controls",
      "_model_module_version": "1.5.0",
      "_model_name": "HTMLModel",
      "_view_count": null,
      "_view_module": "@jupyter-widgets/controls",
      "_view_module_version": "1.5.0",
      "_view_name": "HTMLView",
      "description": "",
      "description_tooltip": null,
      "layout": "IPY_MODEL_81b868ae67a84d3bb81675086251ff8b",
      "placeholder": "​",
      "style": "IPY_MODEL_ff199bfd4d7d44c789192ab6ed13c873",
      "value": " 10/10 [00:00&lt;00:00, 22.77it/s]"
     }
    },
    "23ef131b5c544b1e9fed237cdcb7ae80": {
     "model_module": "@jupyter-widgets/controls",
     "model_module_version": "1.5.0",
     "model_name": "HTMLModel",
     "state": {
      "_dom_classes": [],
      "_model_module": "@jupyter-widgets/controls",
      "_model_module_version": "1.5.0",
      "_model_name": "HTMLModel",
      "_view_count": null,
      "_view_module": "@jupyter-widgets/controls",
      "_view_module_version": "1.5.0",
      "_view_name": "HTMLView",
      "description": "",
      "description_tooltip": null,
      "layout": "IPY_MODEL_72f96fa77f2d4b5ab04bf22815cf95ed",
      "placeholder": "​",
      "style": "IPY_MODEL_c250ad0798ad433280fdfb59658b8994",
      "value": " 10/10 [00:00&lt;00:00, 14.42it/s]"
     }
    },
    "252d0fa420f441e193e3ee9988f0ee44": {
     "model_module": "@jupyter-widgets/base",
     "model_module_version": "1.2.0",
     "model_name": "LayoutModel",
     "state": {
      "_model_module": "@jupyter-widgets/base",
      "_model_module_version": "1.2.0",
      "_model_name": "LayoutModel",
      "_view_count": null,
      "_view_module": "@jupyter-widgets/base",
      "_view_module_version": "1.2.0",
      "_view_name": "LayoutView",
      "align_content": null,
      "align_items": null,
      "align_self": null,
      "border": null,
      "bottom": null,
      "display": null,
      "flex": null,
      "flex_flow": null,
      "grid_area": null,
      "grid_auto_columns": null,
      "grid_auto_flow": null,
      "grid_auto_rows": null,
      "grid_column": null,
      "grid_gap": null,
      "grid_row": null,
      "grid_template_areas": null,
      "grid_template_columns": null,
      "grid_template_rows": null,
      "height": null,
      "justify_content": null,
      "justify_items": null,
      "left": null,
      "margin": null,
      "max_height": null,
      "max_width": null,
      "min_height": null,
      "min_width": null,
      "object_fit": null,
      "object_position": null,
      "order": null,
      "overflow": null,
      "overflow_x": null,
      "overflow_y": null,
      "padding": null,
      "right": null,
      "top": null,
      "visibility": null,
      "width": null
     }
    },
    "25a495b325124b33bd066f36219799ba": {
     "model_module": "@jupyter-widgets/controls",
     "model_module_version": "1.5.0",
     "model_name": "DescriptionStyleModel",
     "state": {
      "_model_module": "@jupyter-widgets/controls",
      "_model_module_version": "1.5.0",
      "_model_name": "DescriptionStyleModel",
      "_view_count": null,
      "_view_module": "@jupyter-widgets/base",
      "_view_module_version": "1.2.0",
      "_view_name": "StyleView",
      "description_width": ""
     }
    },
    "2aa78854b99b4cfbb2ba1b4d48154719": {
     "model_module": "@jupyter-widgets/controls",
     "model_module_version": "1.5.0",
     "model_name": "ProgressStyleModel",
     "state": {
      "_model_module": "@jupyter-widgets/controls",
      "_model_module_version": "1.5.0",
      "_model_name": "ProgressStyleModel",
      "_view_count": null,
      "_view_module": "@jupyter-widgets/base",
      "_view_module_version": "1.2.0",
      "_view_name": "StyleView",
      "bar_color": null,
      "description_width": ""
     }
    },
    "2bfa3400c46c4872b8330def045b5cb7": {
     "model_module": "@jupyter-widgets/controls",
     "model_module_version": "1.5.0",
     "model_name": "HTMLModel",
     "state": {
      "_dom_classes": [],
      "_model_module": "@jupyter-widgets/controls",
      "_model_module_version": "1.5.0",
      "_model_name": "HTMLModel",
      "_view_count": null,
      "_view_module": "@jupyter-widgets/controls",
      "_view_module_version": "1.5.0",
      "_view_name": "HTMLView",
      "description": "",
      "description_tooltip": null,
      "layout": "IPY_MODEL_44fbfa43efbe4386be1b2cd7722e39d4",
      "placeholder": "​",
      "style": "IPY_MODEL_faba96e4026a4e84ad2cb8c30527bad6",
      "value": "Batches: 100%"
     }
    },
    "2f0ff2ec2d4a48078073a708e0b7f14a": {
     "model_module": "@jupyter-widgets/base",
     "model_module_version": "1.2.0",
     "model_name": "LayoutModel",
     "state": {
      "_model_module": "@jupyter-widgets/base",
      "_model_module_version": "1.2.0",
      "_model_name": "LayoutModel",
      "_view_count": null,
      "_view_module": "@jupyter-widgets/base",
      "_view_module_version": "1.2.0",
      "_view_name": "LayoutView",
      "align_content": null,
      "align_items": null,
      "align_self": null,
      "border": null,
      "bottom": null,
      "display": null,
      "flex": null,
      "flex_flow": null,
      "grid_area": null,
      "grid_auto_columns": null,
      "grid_auto_flow": null,
      "grid_auto_rows": null,
      "grid_column": null,
      "grid_gap": null,
      "grid_row": null,
      "grid_template_areas": null,
      "grid_template_columns": null,
      "grid_template_rows": null,
      "height": null,
      "justify_content": null,
      "justify_items": null,
      "left": null,
      "margin": null,
      "max_height": null,
      "max_width": null,
      "min_height": null,
      "min_width": null,
      "object_fit": null,
      "object_position": null,
      "order": null,
      "overflow": null,
      "overflow_x": null,
      "overflow_y": null,
      "padding": null,
      "right": null,
      "top": null,
      "visibility": null,
      "width": null
     }
    },
    "3cfefe64dcee440eafa7fba157d93dd8": {
     "model_module": "@jupyter-widgets/base",
     "model_module_version": "1.2.0",
     "model_name": "LayoutModel",
     "state": {
      "_model_module": "@jupyter-widgets/base",
      "_model_module_version": "1.2.0",
      "_model_name": "LayoutModel",
      "_view_count": null,
      "_view_module": "@jupyter-widgets/base",
      "_view_module_version": "1.2.0",
      "_view_name": "LayoutView",
      "align_content": null,
      "align_items": null,
      "align_self": null,
      "border": null,
      "bottom": null,
      "display": null,
      "flex": null,
      "flex_flow": null,
      "grid_area": null,
      "grid_auto_columns": null,
      "grid_auto_flow": null,
      "grid_auto_rows": null,
      "grid_column": null,
      "grid_gap": null,
      "grid_row": null,
      "grid_template_areas": null,
      "grid_template_columns": null,
      "grid_template_rows": null,
      "height": null,
      "justify_content": null,
      "justify_items": null,
      "left": null,
      "margin": null,
      "max_height": null,
      "max_width": null,
      "min_height": null,
      "min_width": null,
      "object_fit": null,
      "object_position": null,
      "order": null,
      "overflow": null,
      "overflow_x": null,
      "overflow_y": null,
      "padding": null,
      "right": null,
      "top": null,
      "visibility": null,
      "width": null
     }
    },
    "3fd652f90ff84f779ba51d7e6b5825e7": {
     "model_module": "@jupyter-widgets/controls",
     "model_module_version": "1.5.0",
     "model_name": "DescriptionStyleModel",
     "state": {
      "_model_module": "@jupyter-widgets/controls",
      "_model_module_version": "1.5.0",
      "_model_name": "DescriptionStyleModel",
      "_view_count": null,
      "_view_module": "@jupyter-widgets/base",
      "_view_module_version": "1.2.0",
      "_view_name": "StyleView",
      "description_width": ""
     }
    },
    "41830d2435b84fdab4396c2249ff82e7": {
     "model_module": "@jupyter-widgets/base",
     "model_module_version": "1.2.0",
     "model_name": "LayoutModel",
     "state": {
      "_model_module": "@jupyter-widgets/base",
      "_model_module_version": "1.2.0",
      "_model_name": "LayoutModel",
      "_view_count": null,
      "_view_module": "@jupyter-widgets/base",
      "_view_module_version": "1.2.0",
      "_view_name": "LayoutView",
      "align_content": null,
      "align_items": null,
      "align_self": null,
      "border": null,
      "bottom": null,
      "display": null,
      "flex": null,
      "flex_flow": null,
      "grid_area": null,
      "grid_auto_columns": null,
      "grid_auto_flow": null,
      "grid_auto_rows": null,
      "grid_column": null,
      "grid_gap": null,
      "grid_row": null,
      "grid_template_areas": null,
      "grid_template_columns": null,
      "grid_template_rows": null,
      "height": null,
      "justify_content": null,
      "justify_items": null,
      "left": null,
      "margin": null,
      "max_height": null,
      "max_width": null,
      "min_height": null,
      "min_width": null,
      "object_fit": null,
      "object_position": null,
      "order": null,
      "overflow": null,
      "overflow_x": null,
      "overflow_y": null,
      "padding": null,
      "right": null,
      "top": null,
      "visibility": null,
      "width": null
     }
    },
    "423682ad816b4901b606d3fd26624a19": {
     "model_module": "@jupyter-widgets/base",
     "model_module_version": "1.2.0",
     "model_name": "LayoutModel",
     "state": {
      "_model_module": "@jupyter-widgets/base",
      "_model_module_version": "1.2.0",
      "_model_name": "LayoutModel",
      "_view_count": null,
      "_view_module": "@jupyter-widgets/base",
      "_view_module_version": "1.2.0",
      "_view_name": "LayoutView",
      "align_content": null,
      "align_items": null,
      "align_self": null,
      "border": null,
      "bottom": null,
      "display": null,
      "flex": null,
      "flex_flow": null,
      "grid_area": null,
      "grid_auto_columns": null,
      "grid_auto_flow": null,
      "grid_auto_rows": null,
      "grid_column": null,
      "grid_gap": null,
      "grid_row": null,
      "grid_template_areas": null,
      "grid_template_columns": null,
      "grid_template_rows": null,
      "height": null,
      "justify_content": null,
      "justify_items": null,
      "left": null,
      "margin": null,
      "max_height": null,
      "max_width": null,
      "min_height": null,
      "min_width": null,
      "object_fit": null,
      "object_position": null,
      "order": null,
      "overflow": null,
      "overflow_x": null,
      "overflow_y": null,
      "padding": null,
      "right": null,
      "top": null,
      "visibility": null,
      "width": null
     }
    },
    "43915c773aaa4ae3a41b9847b6bdfdae": {
     "model_module": "@jupyter-widgets/controls",
     "model_module_version": "1.5.0",
     "model_name": "DescriptionStyleModel",
     "state": {
      "_model_module": "@jupyter-widgets/controls",
      "_model_module_version": "1.5.0",
      "_model_name": "DescriptionStyleModel",
      "_view_count": null,
      "_view_module": "@jupyter-widgets/base",
      "_view_module_version": "1.2.0",
      "_view_name": "StyleView",
      "description_width": ""
     }
    },
    "43ad6d42b0aa45238247698f8dda58df": {
     "model_module": "@jupyter-widgets/controls",
     "model_module_version": "1.5.0",
     "model_name": "ProgressStyleModel",
     "state": {
      "_model_module": "@jupyter-widgets/controls",
      "_model_module_version": "1.5.0",
      "_model_name": "ProgressStyleModel",
      "_view_count": null,
      "_view_module": "@jupyter-widgets/base",
      "_view_module_version": "1.2.0",
      "_view_name": "StyleView",
      "bar_color": null,
      "description_width": ""
     }
    },
    "44f9c52ab74b45388dd5ffacbd635362": {
     "model_module": "@jupyter-widgets/base",
     "model_module_version": "1.2.0",
     "model_name": "LayoutModel",
     "state": {
      "_model_module": "@jupyter-widgets/base",
      "_model_module_version": "1.2.0",
      "_model_name": "LayoutModel",
      "_view_count": null,
      "_view_module": "@jupyter-widgets/base",
      "_view_module_version": "1.2.0",
      "_view_name": "LayoutView",
      "align_content": null,
      "align_items": null,
      "align_self": null,
      "border": null,
      "bottom": null,
      "display": null,
      "flex": null,
      "flex_flow": null,
      "grid_area": null,
      "grid_auto_columns": null,
      "grid_auto_flow": null,
      "grid_auto_rows": null,
      "grid_column": null,
      "grid_gap": null,
      "grid_row": null,
      "grid_template_areas": null,
      "grid_template_columns": null,
      "grid_template_rows": null,
      "height": null,
      "justify_content": null,
      "justify_items": null,
      "left": null,
      "margin": null,
      "max_height": null,
      "max_width": null,
      "min_height": null,
      "min_width": null,
      "object_fit": null,
      "object_position": null,
      "order": null,
      "overflow": null,
      "overflow_x": null,
      "overflow_y": null,
      "padding": null,
      "right": null,
      "top": null,
      "visibility": null,
      "width": null
     }
    },
    "44fbfa43efbe4386be1b2cd7722e39d4": {
     "model_module": "@jupyter-widgets/base",
     "model_module_version": "1.2.0",
     "model_name": "LayoutModel",
     "state": {
      "_model_module": "@jupyter-widgets/base",
      "_model_module_version": "1.2.0",
      "_model_name": "LayoutModel",
      "_view_count": null,
      "_view_module": "@jupyter-widgets/base",
      "_view_module_version": "1.2.0",
      "_view_name": "LayoutView",
      "align_content": null,
      "align_items": null,
      "align_self": null,
      "border": null,
      "bottom": null,
      "display": null,
      "flex": null,
      "flex_flow": null,
      "grid_area": null,
      "grid_auto_columns": null,
      "grid_auto_flow": null,
      "grid_auto_rows": null,
      "grid_column": null,
      "grid_gap": null,
      "grid_row": null,
      "grid_template_areas": null,
      "grid_template_columns": null,
      "grid_template_rows": null,
      "height": null,
      "justify_content": null,
      "justify_items": null,
      "left": null,
      "margin": null,
      "max_height": null,
      "max_width": null,
      "min_height": null,
      "min_width": null,
      "object_fit": null,
      "object_position": null,
      "order": null,
      "overflow": null,
      "overflow_x": null,
      "overflow_y": null,
      "padding": null,
      "right": null,
      "top": null,
      "visibility": null,
      "width": null
     }
    },
    "4a592023d76544dd81b67300486e0304": {
     "model_module": "@jupyter-widgets/controls",
     "model_module_version": "1.5.0",
     "model_name": "FloatProgressModel",
     "state": {
      "_dom_classes": [],
      "_model_module": "@jupyter-widgets/controls",
      "_model_module_version": "1.5.0",
      "_model_name": "FloatProgressModel",
      "_view_count": null,
      "_view_module": "@jupyter-widgets/controls",
      "_view_module_version": "1.5.0",
      "_view_name": "ProgressView",
      "bar_style": "success",
      "description": "",
      "description_tooltip": null,
      "layout": "IPY_MODEL_5973452c60364bf2aca05f84e1f36e61",
      "max": 10,
      "min": 0,
      "orientation": "horizontal",
      "style": "IPY_MODEL_a39f26d0ac6a4eaa8a31d708d7f8056f",
      "value": 10
     }
    },
    "4b38530d54034c5192ea4f1f452bbd26": {
     "model_module": "@jupyter-widgets/controls",
     "model_module_version": "1.5.0",
     "model_name": "HTMLModel",
     "state": {
      "_dom_classes": [],
      "_model_module": "@jupyter-widgets/controls",
      "_model_module_version": "1.5.0",
      "_model_name": "HTMLModel",
      "_view_count": null,
      "_view_module": "@jupyter-widgets/controls",
      "_view_module_version": "1.5.0",
      "_view_name": "HTMLView",
      "description": "",
      "description_tooltip": null,
      "layout": "IPY_MODEL_06a05c130a044130aceb1c890f21defb",
      "placeholder": "​",
      "style": "IPY_MODEL_193e8ba6b34e4f5c8417717073781e57",
      "value": " 10/10 [00:00&lt;00:00, 20.52it/s]"
     }
    },
    "4b8bca1ca33743678221d7ed338a2729": {
     "model_module": "@jupyter-widgets/base",
     "model_module_version": "1.2.0",
     "model_name": "LayoutModel",
     "state": {
      "_model_module": "@jupyter-widgets/base",
      "_model_module_version": "1.2.0",
      "_model_name": "LayoutModel",
      "_view_count": null,
      "_view_module": "@jupyter-widgets/base",
      "_view_module_version": "1.2.0",
      "_view_name": "LayoutView",
      "align_content": null,
      "align_items": null,
      "align_self": null,
      "border": null,
      "bottom": null,
      "display": null,
      "flex": null,
      "flex_flow": null,
      "grid_area": null,
      "grid_auto_columns": null,
      "grid_auto_flow": null,
      "grid_auto_rows": null,
      "grid_column": null,
      "grid_gap": null,
      "grid_row": null,
      "grid_template_areas": null,
      "grid_template_columns": null,
      "grid_template_rows": null,
      "height": null,
      "justify_content": null,
      "justify_items": null,
      "left": null,
      "margin": null,
      "max_height": null,
      "max_width": null,
      "min_height": null,
      "min_width": null,
      "object_fit": null,
      "object_position": null,
      "order": null,
      "overflow": null,
      "overflow_x": null,
      "overflow_y": null,
      "padding": null,
      "right": null,
      "top": null,
      "visibility": null,
      "width": null
     }
    },
    "4ed59a92f4c646a6841383acc31e063c": {
     "model_module": "@jupyter-widgets/controls",
     "model_module_version": "1.5.0",
     "model_name": "ProgressStyleModel",
     "state": {
      "_model_module": "@jupyter-widgets/controls",
      "_model_module_version": "1.5.0",
      "_model_name": "ProgressStyleModel",
      "_view_count": null,
      "_view_module": "@jupyter-widgets/base",
      "_view_module_version": "1.2.0",
      "_view_name": "StyleView",
      "bar_color": null,
      "description_width": ""
     }
    },
    "4f50b918a61649ee8a48411b966c3e3c": {
     "model_module": "@jupyter-widgets/controls",
     "model_module_version": "1.5.0",
     "model_name": "HBoxModel",
     "state": {
      "_dom_classes": [],
      "_model_module": "@jupyter-widgets/controls",
      "_model_module_version": "1.5.0",
      "_model_name": "HBoxModel",
      "_view_count": null,
      "_view_module": "@jupyter-widgets/controls",
      "_view_module_version": "1.5.0",
      "_view_name": "HBoxView",
      "box_style": "",
      "children": [
       "IPY_MODEL_d01d62d3453a41ae8cb2a0ee0c9e435d",
       "IPY_MODEL_deac8930d92e44028acd82dfba7191a2",
       "IPY_MODEL_c74e2809efe54c4bbfb4add920c26322"
      ],
      "layout": "IPY_MODEL_cc5010206a5b41e98b12779218265f9e"
     }
    },
    "51205de2b44540ef87d5b563556f6c42": {
     "model_module": "@jupyter-widgets/base",
     "model_module_version": "1.2.0",
     "model_name": "LayoutModel",
     "state": {
      "_model_module": "@jupyter-widgets/base",
      "_model_module_version": "1.2.0",
      "_model_name": "LayoutModel",
      "_view_count": null,
      "_view_module": "@jupyter-widgets/base",
      "_view_module_version": "1.2.0",
      "_view_name": "LayoutView",
      "align_content": null,
      "align_items": null,
      "align_self": null,
      "border": null,
      "bottom": null,
      "display": null,
      "flex": null,
      "flex_flow": null,
      "grid_area": null,
      "grid_auto_columns": null,
      "grid_auto_flow": null,
      "grid_auto_rows": null,
      "grid_column": null,
      "grid_gap": null,
      "grid_row": null,
      "grid_template_areas": null,
      "grid_template_columns": null,
      "grid_template_rows": null,
      "height": null,
      "justify_content": null,
      "justify_items": null,
      "left": null,
      "margin": null,
      "max_height": null,
      "max_width": null,
      "min_height": null,
      "min_width": null,
      "object_fit": null,
      "object_position": null,
      "order": null,
      "overflow": null,
      "overflow_x": null,
      "overflow_y": null,
      "padding": null,
      "right": null,
      "top": null,
      "visibility": null,
      "width": null
     }
    },
    "515aefed55dc437b8193c4995553c25f": {
     "model_module": "@jupyter-widgets/base",
     "model_module_version": "1.2.0",
     "model_name": "LayoutModel",
     "state": {
      "_model_module": "@jupyter-widgets/base",
      "_model_module_version": "1.2.0",
      "_model_name": "LayoutModel",
      "_view_count": null,
      "_view_module": "@jupyter-widgets/base",
      "_view_module_version": "1.2.0",
      "_view_name": "LayoutView",
      "align_content": null,
      "align_items": null,
      "align_self": null,
      "border": null,
      "bottom": null,
      "display": null,
      "flex": null,
      "flex_flow": null,
      "grid_area": null,
      "grid_auto_columns": null,
      "grid_auto_flow": null,
      "grid_auto_rows": null,
      "grid_column": null,
      "grid_gap": null,
      "grid_row": null,
      "grid_template_areas": null,
      "grid_template_columns": null,
      "grid_template_rows": null,
      "height": null,
      "justify_content": null,
      "justify_items": null,
      "left": null,
      "margin": null,
      "max_height": null,
      "max_width": null,
      "min_height": null,
      "min_width": null,
      "object_fit": null,
      "object_position": null,
      "order": null,
      "overflow": null,
      "overflow_x": null,
      "overflow_y": null,
      "padding": null,
      "right": null,
      "top": null,
      "visibility": null,
      "width": null
     }
    },
    "55a2033117a744959fd02dc7e4179c42": {
     "model_module": "@jupyter-widgets/controls",
     "model_module_version": "1.5.0",
     "model_name": "FloatProgressModel",
     "state": {
      "_dom_classes": [],
      "_model_module": "@jupyter-widgets/controls",
      "_model_module_version": "1.5.0",
      "_model_name": "FloatProgressModel",
      "_view_count": null,
      "_view_module": "@jupyter-widgets/controls",
      "_view_module_version": "1.5.0",
      "_view_name": "ProgressView",
      "bar_style": "success",
      "description": "",
      "description_tooltip": null,
      "layout": "IPY_MODEL_41830d2435b84fdab4396c2249ff82e7",
      "max": 10,
      "min": 0,
      "orientation": "horizontal",
      "style": "IPY_MODEL_61509d88f5e24c1f8c3480b0b92d579d",
      "value": 10
     }
    },
    "5813be26a276456db31271618f3a58c5": {
     "model_module": "@jupyter-widgets/base",
     "model_module_version": "1.2.0",
     "model_name": "LayoutModel",
     "state": {
      "_model_module": "@jupyter-widgets/base",
      "_model_module_version": "1.2.0",
      "_model_name": "LayoutModel",
      "_view_count": null,
      "_view_module": "@jupyter-widgets/base",
      "_view_module_version": "1.2.0",
      "_view_name": "LayoutView",
      "align_content": null,
      "align_items": null,
      "align_self": null,
      "border": null,
      "bottom": null,
      "display": null,
      "flex": null,
      "flex_flow": null,
      "grid_area": null,
      "grid_auto_columns": null,
      "grid_auto_flow": null,
      "grid_auto_rows": null,
      "grid_column": null,
      "grid_gap": null,
      "grid_row": null,
      "grid_template_areas": null,
      "grid_template_columns": null,
      "grid_template_rows": null,
      "height": null,
      "justify_content": null,
      "justify_items": null,
      "left": null,
      "margin": null,
      "max_height": null,
      "max_width": null,
      "min_height": null,
      "min_width": null,
      "object_fit": null,
      "object_position": null,
      "order": null,
      "overflow": null,
      "overflow_x": null,
      "overflow_y": null,
      "padding": null,
      "right": null,
      "top": null,
      "visibility": null,
      "width": null
     }
    },
    "5973452c60364bf2aca05f84e1f36e61": {
     "model_module": "@jupyter-widgets/base",
     "model_module_version": "1.2.0",
     "model_name": "LayoutModel",
     "state": {
      "_model_module": "@jupyter-widgets/base",
      "_model_module_version": "1.2.0",
      "_model_name": "LayoutModel",
      "_view_count": null,
      "_view_module": "@jupyter-widgets/base",
      "_view_module_version": "1.2.0",
      "_view_name": "LayoutView",
      "align_content": null,
      "align_items": null,
      "align_self": null,
      "border": null,
      "bottom": null,
      "display": null,
      "flex": null,
      "flex_flow": null,
      "grid_area": null,
      "grid_auto_columns": null,
      "grid_auto_flow": null,
      "grid_auto_rows": null,
      "grid_column": null,
      "grid_gap": null,
      "grid_row": null,
      "grid_template_areas": null,
      "grid_template_columns": null,
      "grid_template_rows": null,
      "height": null,
      "justify_content": null,
      "justify_items": null,
      "left": null,
      "margin": null,
      "max_height": null,
      "max_width": null,
      "min_height": null,
      "min_width": null,
      "object_fit": null,
      "object_position": null,
      "order": null,
      "overflow": null,
      "overflow_x": null,
      "overflow_y": null,
      "padding": null,
      "right": null,
      "top": null,
      "visibility": null,
      "width": null
     }
    },
    "5a0bef46a47940d7a1bab6f644765fc9": {
     "model_module": "@jupyter-widgets/controls",
     "model_module_version": "1.5.0",
     "model_name": "HBoxModel",
     "state": {
      "_dom_classes": [],
      "_model_module": "@jupyter-widgets/controls",
      "_model_module_version": "1.5.0",
      "_model_name": "HBoxModel",
      "_view_count": null,
      "_view_module": "@jupyter-widgets/controls",
      "_view_module_version": "1.5.0",
      "_view_name": "HBoxView",
      "box_style": "",
      "children": [
       "IPY_MODEL_012088fc48b04f688abcded2e2de7458",
       "IPY_MODEL_b69f577dca724144a2774a1f06c77b22",
       "IPY_MODEL_23ef131b5c544b1e9fed237cdcb7ae80"
      ],
      "layout": "IPY_MODEL_3cfefe64dcee440eafa7fba157d93dd8"
     }
    },
    "5b3565846eb74fe9bb1f966a327102fb": {
     "model_module": "@jupyter-widgets/controls",
     "model_module_version": "1.5.0",
     "model_name": "HTMLModel",
     "state": {
      "_dom_classes": [],
      "_model_module": "@jupyter-widgets/controls",
      "_model_module_version": "1.5.0",
      "_model_name": "HTMLModel",
      "_view_count": null,
      "_view_module": "@jupyter-widgets/controls",
      "_view_module_version": "1.5.0",
      "_view_name": "HTMLView",
      "description": "",
      "description_tooltip": null,
      "layout": "IPY_MODEL_65f51c3e05bb4197ac351b01387d02fb",
      "placeholder": "​",
      "style": "IPY_MODEL_d6a6b06840644eb999c19e39c234a2f2",
      "value": "Batches: 100%"
     }
    },
    "5baf31d963ad4566afb7ce930b8202ec": {
     "model_module": "@jupyter-widgets/controls",
     "model_module_version": "1.5.0",
     "model_name": "HBoxModel",
     "state": {
      "_dom_classes": [],
      "_model_module": "@jupyter-widgets/controls",
      "_model_module_version": "1.5.0",
      "_model_name": "HBoxModel",
      "_view_count": null,
      "_view_module": "@jupyter-widgets/controls",
      "_view_module_version": "1.5.0",
      "_view_name": "HBoxView",
      "box_style": "",
      "children": [
       "IPY_MODEL_c9289e174fae4e4ea622cee1876701b6",
       "IPY_MODEL_0d61bcd2b6aa41ef80990dc37b1b79da",
       "IPY_MODEL_ba171ff28c1e4404a668dc5b3c99cbcb"
      ],
      "layout": "IPY_MODEL_0886d82a82df41e4859b05ad12b3864c"
     }
    },
    "5d67471453ac431fb1a5e6569585f5f9": {
     "model_module": "@jupyter-widgets/base",
     "model_module_version": "1.2.0",
     "model_name": "LayoutModel",
     "state": {
      "_model_module": "@jupyter-widgets/base",
      "_model_module_version": "1.2.0",
      "_model_name": "LayoutModel",
      "_view_count": null,
      "_view_module": "@jupyter-widgets/base",
      "_view_module_version": "1.2.0",
      "_view_name": "LayoutView",
      "align_content": null,
      "align_items": null,
      "align_self": null,
      "border": null,
      "bottom": null,
      "display": null,
      "flex": null,
      "flex_flow": null,
      "grid_area": null,
      "grid_auto_columns": null,
      "grid_auto_flow": null,
      "grid_auto_rows": null,
      "grid_column": null,
      "grid_gap": null,
      "grid_row": null,
      "grid_template_areas": null,
      "grid_template_columns": null,
      "grid_template_rows": null,
      "height": null,
      "justify_content": null,
      "justify_items": null,
      "left": null,
      "margin": null,
      "max_height": null,
      "max_width": null,
      "min_height": null,
      "min_width": null,
      "object_fit": null,
      "object_position": null,
      "order": null,
      "overflow": null,
      "overflow_x": null,
      "overflow_y": null,
      "padding": null,
      "right": null,
      "top": null,
      "visibility": null,
      "width": null
     }
    },
    "61509d88f5e24c1f8c3480b0b92d579d": {
     "model_module": "@jupyter-widgets/controls",
     "model_module_version": "1.5.0",
     "model_name": "ProgressStyleModel",
     "state": {
      "_model_module": "@jupyter-widgets/controls",
      "_model_module_version": "1.5.0",
      "_model_name": "ProgressStyleModel",
      "_view_count": null,
      "_view_module": "@jupyter-widgets/base",
      "_view_module_version": "1.2.0",
      "_view_name": "StyleView",
      "bar_color": null,
      "description_width": ""
     }
    },
    "629ad50c45054111b73e5537cdabc1d3": {
     "model_module": "@jupyter-widgets/controls",
     "model_module_version": "1.5.0",
     "model_name": "DescriptionStyleModel",
     "state": {
      "_model_module": "@jupyter-widgets/controls",
      "_model_module_version": "1.5.0",
      "_model_name": "DescriptionStyleModel",
      "_view_count": null,
      "_view_module": "@jupyter-widgets/base",
      "_view_module_version": "1.2.0",
      "_view_name": "StyleView",
      "description_width": ""
     }
    },
    "64336973210b44aa9453a27173d98935": {
     "model_module": "@jupyter-widgets/base",
     "model_module_version": "1.2.0",
     "model_name": "LayoutModel",
     "state": {
      "_model_module": "@jupyter-widgets/base",
      "_model_module_version": "1.2.0",
      "_model_name": "LayoutModel",
      "_view_count": null,
      "_view_module": "@jupyter-widgets/base",
      "_view_module_version": "1.2.0",
      "_view_name": "LayoutView",
      "align_content": null,
      "align_items": null,
      "align_self": null,
      "border": null,
      "bottom": null,
      "display": null,
      "flex": null,
      "flex_flow": null,
      "grid_area": null,
      "grid_auto_columns": null,
      "grid_auto_flow": null,
      "grid_auto_rows": null,
      "grid_column": null,
      "grid_gap": null,
      "grid_row": null,
      "grid_template_areas": null,
      "grid_template_columns": null,
      "grid_template_rows": null,
      "height": null,
      "justify_content": null,
      "justify_items": null,
      "left": null,
      "margin": null,
      "max_height": null,
      "max_width": null,
      "min_height": null,
      "min_width": null,
      "object_fit": null,
      "object_position": null,
      "order": null,
      "overflow": null,
      "overflow_x": null,
      "overflow_y": null,
      "padding": null,
      "right": null,
      "top": null,
      "visibility": null,
      "width": null
     }
    },
    "65f51c3e05bb4197ac351b01387d02fb": {
     "model_module": "@jupyter-widgets/base",
     "model_module_version": "1.2.0",
     "model_name": "LayoutModel",
     "state": {
      "_model_module": "@jupyter-widgets/base",
      "_model_module_version": "1.2.0",
      "_model_name": "LayoutModel",
      "_view_count": null,
      "_view_module": "@jupyter-widgets/base",
      "_view_module_version": "1.2.0",
      "_view_name": "LayoutView",
      "align_content": null,
      "align_items": null,
      "align_self": null,
      "border": null,
      "bottom": null,
      "display": null,
      "flex": null,
      "flex_flow": null,
      "grid_area": null,
      "grid_auto_columns": null,
      "grid_auto_flow": null,
      "grid_auto_rows": null,
      "grid_column": null,
      "grid_gap": null,
      "grid_row": null,
      "grid_template_areas": null,
      "grid_template_columns": null,
      "grid_template_rows": null,
      "height": null,
      "justify_content": null,
      "justify_items": null,
      "left": null,
      "margin": null,
      "max_height": null,
      "max_width": null,
      "min_height": null,
      "min_width": null,
      "object_fit": null,
      "object_position": null,
      "order": null,
      "overflow": null,
      "overflow_x": null,
      "overflow_y": null,
      "padding": null,
      "right": null,
      "top": null,
      "visibility": null,
      "width": null
     }
    },
    "67728351b46a4c5b85c30efb514a3387": {
     "model_module": "@jupyter-widgets/controls",
     "model_module_version": "1.5.0",
     "model_name": "DescriptionStyleModel",
     "state": {
      "_model_module": "@jupyter-widgets/controls",
      "_model_module_version": "1.5.0",
      "_model_name": "DescriptionStyleModel",
      "_view_count": null,
      "_view_module": "@jupyter-widgets/base",
      "_view_module_version": "1.2.0",
      "_view_name": "StyleView",
      "description_width": ""
     }
    },
    "6b3749469888449d8a2fcd2b352022d7": {
     "model_module": "@jupyter-widgets/controls",
     "model_module_version": "1.5.0",
     "model_name": "HTMLModel",
     "state": {
      "_dom_classes": [],
      "_model_module": "@jupyter-widgets/controls",
      "_model_module_version": "1.5.0",
      "_model_name": "HTMLModel",
      "_view_count": null,
      "_view_module": "@jupyter-widgets/controls",
      "_view_module_version": "1.5.0",
      "_view_name": "HTMLView",
      "description": "",
      "description_tooltip": null,
      "layout": "IPY_MODEL_f095fa8279984f098d58ef7fa36c1fc9",
      "placeholder": "​",
      "style": "IPY_MODEL_67728351b46a4c5b85c30efb514a3387",
      "value": " 10/10 [00:00&lt;00:00, 22.71it/s]"
     }
    },
    "6ba4882ad8a0414ca8e35e3781b6db92": {
     "model_module": "@jupyter-widgets/base",
     "model_module_version": "1.2.0",
     "model_name": "LayoutModel",
     "state": {
      "_model_module": "@jupyter-widgets/base",
      "_model_module_version": "1.2.0",
      "_model_name": "LayoutModel",
      "_view_count": null,
      "_view_module": "@jupyter-widgets/base",
      "_view_module_version": "1.2.0",
      "_view_name": "LayoutView",
      "align_content": null,
      "align_items": null,
      "align_self": null,
      "border": null,
      "bottom": null,
      "display": null,
      "flex": null,
      "flex_flow": null,
      "grid_area": null,
      "grid_auto_columns": null,
      "grid_auto_flow": null,
      "grid_auto_rows": null,
      "grid_column": null,
      "grid_gap": null,
      "grid_row": null,
      "grid_template_areas": null,
      "grid_template_columns": null,
      "grid_template_rows": null,
      "height": null,
      "justify_content": null,
      "justify_items": null,
      "left": null,
      "margin": null,
      "max_height": null,
      "max_width": null,
      "min_height": null,
      "min_width": null,
      "object_fit": null,
      "object_position": null,
      "order": null,
      "overflow": null,
      "overflow_x": null,
      "overflow_y": null,
      "padding": null,
      "right": null,
      "top": null,
      "visibility": null,
      "width": null
     }
    },
    "6bec94da828d479d8c2429ba9510f7ba": {
     "model_module": "@jupyter-widgets/base",
     "model_module_version": "1.2.0",
     "model_name": "LayoutModel",
     "state": {
      "_model_module": "@jupyter-widgets/base",
      "_model_module_version": "1.2.0",
      "_model_name": "LayoutModel",
      "_view_count": null,
      "_view_module": "@jupyter-widgets/base",
      "_view_module_version": "1.2.0",
      "_view_name": "LayoutView",
      "align_content": null,
      "align_items": null,
      "align_self": null,
      "border": null,
      "bottom": null,
      "display": null,
      "flex": null,
      "flex_flow": null,
      "grid_area": null,
      "grid_auto_columns": null,
      "grid_auto_flow": null,
      "grid_auto_rows": null,
      "grid_column": null,
      "grid_gap": null,
      "grid_row": null,
      "grid_template_areas": null,
      "grid_template_columns": null,
      "grid_template_rows": null,
      "height": null,
      "justify_content": null,
      "justify_items": null,
      "left": null,
      "margin": null,
      "max_height": null,
      "max_width": null,
      "min_height": null,
      "min_width": null,
      "object_fit": null,
      "object_position": null,
      "order": null,
      "overflow": null,
      "overflow_x": null,
      "overflow_y": null,
      "padding": null,
      "right": null,
      "top": null,
      "visibility": null,
      "width": null
     }
    },
    "72f96fa77f2d4b5ab04bf22815cf95ed": {
     "model_module": "@jupyter-widgets/base",
     "model_module_version": "1.2.0",
     "model_name": "LayoutModel",
     "state": {
      "_model_module": "@jupyter-widgets/base",
      "_model_module_version": "1.2.0",
      "_model_name": "LayoutModel",
      "_view_count": null,
      "_view_module": "@jupyter-widgets/base",
      "_view_module_version": "1.2.0",
      "_view_name": "LayoutView",
      "align_content": null,
      "align_items": null,
      "align_self": null,
      "border": null,
      "bottom": null,
      "display": null,
      "flex": null,
      "flex_flow": null,
      "grid_area": null,
      "grid_auto_columns": null,
      "grid_auto_flow": null,
      "grid_auto_rows": null,
      "grid_column": null,
      "grid_gap": null,
      "grid_row": null,
      "grid_template_areas": null,
      "grid_template_columns": null,
      "grid_template_rows": null,
      "height": null,
      "justify_content": null,
      "justify_items": null,
      "left": null,
      "margin": null,
      "max_height": null,
      "max_width": null,
      "min_height": null,
      "min_width": null,
      "object_fit": null,
      "object_position": null,
      "order": null,
      "overflow": null,
      "overflow_x": null,
      "overflow_y": null,
      "padding": null,
      "right": null,
      "top": null,
      "visibility": null,
      "width": null
     }
    },
    "7889de6e5d284cc1b5a69315b95f8afa": {
     "model_module": "@jupyter-widgets/controls",
     "model_module_version": "1.5.0",
     "model_name": "FloatProgressModel",
     "state": {
      "_dom_classes": [],
      "_model_module": "@jupyter-widgets/controls",
      "_model_module_version": "1.5.0",
      "_model_name": "FloatProgressModel",
      "_view_count": null,
      "_view_module": "@jupyter-widgets/controls",
      "_view_module_version": "1.5.0",
      "_view_name": "ProgressView",
      "bar_style": "success",
      "description": "",
      "description_tooltip": null,
      "layout": "IPY_MODEL_252d0fa420f441e193e3ee9988f0ee44",
      "max": 10,
      "min": 0,
      "orientation": "horizontal",
      "style": "IPY_MODEL_a7a196d580e34341bb6677047521db2b",
      "value": 10
     }
    },
    "7aa3ea07646f462487b505945d98a0c2": {
     "model_module": "@jupyter-widgets/controls",
     "model_module_version": "1.5.0",
     "model_name": "DescriptionStyleModel",
     "state": {
      "_model_module": "@jupyter-widgets/controls",
      "_model_module_version": "1.5.0",
      "_model_name": "DescriptionStyleModel",
      "_view_count": null,
      "_view_module": "@jupyter-widgets/base",
      "_view_module_version": "1.2.0",
      "_view_name": "StyleView",
      "description_width": ""
     }
    },
    "7af0fae86d3a4af8b01bdad9425dc633": {
     "model_module": "@jupyter-widgets/controls",
     "model_module_version": "1.5.0",
     "model_name": "DescriptionStyleModel",
     "state": {
      "_model_module": "@jupyter-widgets/controls",
      "_model_module_version": "1.5.0",
      "_model_name": "DescriptionStyleModel",
      "_view_count": null,
      "_view_module": "@jupyter-widgets/base",
      "_view_module_version": "1.2.0",
      "_view_name": "StyleView",
      "description_width": ""
     }
    },
    "7bb47bf6f5ae4267ab9762f2b1fdedfe": {
     "model_module": "@jupyter-widgets/controls",
     "model_module_version": "1.5.0",
     "model_name": "HTMLModel",
     "state": {
      "_dom_classes": [],
      "_model_module": "@jupyter-widgets/controls",
      "_model_module_version": "1.5.0",
      "_model_name": "HTMLModel",
      "_view_count": null,
      "_view_module": "@jupyter-widgets/controls",
      "_view_module_version": "1.5.0",
      "_view_name": "HTMLView",
      "description": "",
      "description_tooltip": null,
      "layout": "IPY_MODEL_db6a4a698a2344ceab63460f487ec1b7",
      "placeholder": "​",
      "style": "IPY_MODEL_629ad50c45054111b73e5537cdabc1d3",
      "value": "Batches: 100%"
     }
    },
    "7cd615938e844a359b7859728a740091": {
     "model_module": "@jupyter-widgets/controls",
     "model_module_version": "1.5.0",
     "model_name": "DescriptionStyleModel",
     "state": {
      "_model_module": "@jupyter-widgets/controls",
      "_model_module_version": "1.5.0",
      "_model_name": "DescriptionStyleModel",
      "_view_count": null,
      "_view_module": "@jupyter-widgets/base",
      "_view_module_version": "1.2.0",
      "_view_name": "StyleView",
      "description_width": ""
     }
    },
    "804bef47421846a6bb5f79ed3dfc1666": {
     "model_module": "@jupyter-widgets/controls",
     "model_module_version": "1.5.0",
     "model_name": "HTMLModel",
     "state": {
      "_dom_classes": [],
      "_model_module": "@jupyter-widgets/controls",
      "_model_module_version": "1.5.0",
      "_model_name": "HTMLModel",
      "_view_count": null,
      "_view_module": "@jupyter-widgets/controls",
      "_view_module_version": "1.5.0",
      "_view_name": "HTMLView",
      "description": "",
      "description_tooltip": null,
      "layout": "IPY_MODEL_5d67471453ac431fb1a5e6569585f5f9",
      "placeholder": "​",
      "style": "IPY_MODEL_7af0fae86d3a4af8b01bdad9425dc633",
      "value": " 10/10 [00:00&lt;00:00, 17.63it/s]"
     }
    },
    "805d7cd5e5dc4c85ae8af7e565698f68": {
     "model_module": "@jupyter-widgets/controls",
     "model_module_version": "1.5.0",
     "model_name": "DescriptionStyleModel",
     "state": {
      "_model_module": "@jupyter-widgets/controls",
      "_model_module_version": "1.5.0",
      "_model_name": "DescriptionStyleModel",
      "_view_count": null,
      "_view_module": "@jupyter-widgets/base",
      "_view_module_version": "1.2.0",
      "_view_name": "StyleView",
      "description_width": ""
     }
    },
    "81b868ae67a84d3bb81675086251ff8b": {
     "model_module": "@jupyter-widgets/base",
     "model_module_version": "1.2.0",
     "model_name": "LayoutModel",
     "state": {
      "_model_module": "@jupyter-widgets/base",
      "_model_module_version": "1.2.0",
      "_model_name": "LayoutModel",
      "_view_count": null,
      "_view_module": "@jupyter-widgets/base",
      "_view_module_version": "1.2.0",
      "_view_name": "LayoutView",
      "align_content": null,
      "align_items": null,
      "align_self": null,
      "border": null,
      "bottom": null,
      "display": null,
      "flex": null,
      "flex_flow": null,
      "grid_area": null,
      "grid_auto_columns": null,
      "grid_auto_flow": null,
      "grid_auto_rows": null,
      "grid_column": null,
      "grid_gap": null,
      "grid_row": null,
      "grid_template_areas": null,
      "grid_template_columns": null,
      "grid_template_rows": null,
      "height": null,
      "justify_content": null,
      "justify_items": null,
      "left": null,
      "margin": null,
      "max_height": null,
      "max_width": null,
      "min_height": null,
      "min_width": null,
      "object_fit": null,
      "object_position": null,
      "order": null,
      "overflow": null,
      "overflow_x": null,
      "overflow_y": null,
      "padding": null,
      "right": null,
      "top": null,
      "visibility": null,
      "width": null
     }
    },
    "828d57c48a7b427da89dde7d1a8b99d7": {
     "model_module": "@jupyter-widgets/base",
     "model_module_version": "1.2.0",
     "model_name": "LayoutModel",
     "state": {
      "_model_module": "@jupyter-widgets/base",
      "_model_module_version": "1.2.0",
      "_model_name": "LayoutModel",
      "_view_count": null,
      "_view_module": "@jupyter-widgets/base",
      "_view_module_version": "1.2.0",
      "_view_name": "LayoutView",
      "align_content": null,
      "align_items": null,
      "align_self": null,
      "border": null,
      "bottom": null,
      "display": null,
      "flex": null,
      "flex_flow": null,
      "grid_area": null,
      "grid_auto_columns": null,
      "grid_auto_flow": null,
      "grid_auto_rows": null,
      "grid_column": null,
      "grid_gap": null,
      "grid_row": null,
      "grid_template_areas": null,
      "grid_template_columns": null,
      "grid_template_rows": null,
      "height": null,
      "justify_content": null,
      "justify_items": null,
      "left": null,
      "margin": null,
      "max_height": null,
      "max_width": null,
      "min_height": null,
      "min_width": null,
      "object_fit": null,
      "object_position": null,
      "order": null,
      "overflow": null,
      "overflow_x": null,
      "overflow_y": null,
      "padding": null,
      "right": null,
      "top": null,
      "visibility": null,
      "width": null
     }
    },
    "83683df834df47ae87b2c1c7e80600e6": {
     "model_module": "@jupyter-widgets/controls",
     "model_module_version": "1.5.0",
     "model_name": "HBoxModel",
     "state": {
      "_dom_classes": [],
      "_model_module": "@jupyter-widgets/controls",
      "_model_module_version": "1.5.0",
      "_model_name": "HBoxModel",
      "_view_count": null,
      "_view_module": "@jupyter-widgets/controls",
      "_view_module_version": "1.5.0",
      "_view_name": "HBoxView",
      "box_style": "",
      "children": [
       "IPY_MODEL_5b3565846eb74fe9bb1f966a327102fb",
       "IPY_MODEL_4a592023d76544dd81b67300486e0304",
       "IPY_MODEL_857fa1ee22914be08d64153de668361b"
      ],
      "layout": "IPY_MODEL_423682ad816b4901b606d3fd26624a19"
     }
    },
    "84826e2194b3424d89b6fe70c6d7320a": {
     "model_module": "@jupyter-widgets/controls",
     "model_module_version": "1.5.0",
     "model_name": "DescriptionStyleModel",
     "state": {
      "_model_module": "@jupyter-widgets/controls",
      "_model_module_version": "1.5.0",
      "_model_name": "DescriptionStyleModel",
      "_view_count": null,
      "_view_module": "@jupyter-widgets/base",
      "_view_module_version": "1.2.0",
      "_view_name": "StyleView",
      "description_width": ""
     }
    },
    "84f089ded19045baa7e446977adbf5ab": {
     "model_module": "@jupyter-widgets/controls",
     "model_module_version": "1.5.0",
     "model_name": "HTMLModel",
     "state": {
      "_dom_classes": [],
      "_model_module": "@jupyter-widgets/controls",
      "_model_module_version": "1.5.0",
      "_model_name": "HTMLModel",
      "_view_count": null,
      "_view_module": "@jupyter-widgets/controls",
      "_view_module_version": "1.5.0",
      "_view_name": "HTMLView",
      "description": "",
      "description_tooltip": null,
      "layout": "IPY_MODEL_e4274cc1d42247b89f8ff9de990eb3fa",
      "placeholder": "​",
      "style": "IPY_MODEL_7cd615938e844a359b7859728a740091",
      "value": " 10/10 [00:00&lt;00:00, 14.40it/s]"
     }
    },
    "857fa1ee22914be08d64153de668361b": {
     "model_module": "@jupyter-widgets/controls",
     "model_module_version": "1.5.0",
     "model_name": "HTMLModel",
     "state": {
      "_dom_classes": [],
      "_model_module": "@jupyter-widgets/controls",
      "_model_module_version": "1.5.0",
      "_model_name": "HTMLModel",
      "_view_count": null,
      "_view_module": "@jupyter-widgets/controls",
      "_view_module_version": "1.5.0",
      "_view_name": "HTMLView",
      "description": "",
      "description_tooltip": null,
      "layout": "IPY_MODEL_ff1583c20665428da4da2d83edd48ab6",
      "placeholder": "​",
      "style": "IPY_MODEL_84826e2194b3424d89b6fe70c6d7320a",
      "value": " 10/10 [00:00&lt;00:00, 20.62it/s]"
     }
    },
    "880bd99cc27344e3b9d3c818b5513491": {
     "model_module": "@jupyter-widgets/controls",
     "model_module_version": "1.5.0",
     "model_name": "DescriptionStyleModel",
     "state": {
      "_model_module": "@jupyter-widgets/controls",
      "_model_module_version": "1.5.0",
      "_model_name": "DescriptionStyleModel",
      "_view_count": null,
      "_view_module": "@jupyter-widgets/base",
      "_view_module_version": "1.2.0",
      "_view_name": "StyleView",
      "description_width": ""
     }
    },
    "88d87bd37023416ab28596bb81a801aa": {
     "model_module": "@jupyter-widgets/base",
     "model_module_version": "1.2.0",
     "model_name": "LayoutModel",
     "state": {
      "_model_module": "@jupyter-widgets/base",
      "_model_module_version": "1.2.0",
      "_model_name": "LayoutModel",
      "_view_count": null,
      "_view_module": "@jupyter-widgets/base",
      "_view_module_version": "1.2.0",
      "_view_name": "LayoutView",
      "align_content": null,
      "align_items": null,
      "align_self": null,
      "border": null,
      "bottom": null,
      "display": null,
      "flex": null,
      "flex_flow": null,
      "grid_area": null,
      "grid_auto_columns": null,
      "grid_auto_flow": null,
      "grid_auto_rows": null,
      "grid_column": null,
      "grid_gap": null,
      "grid_row": null,
      "grid_template_areas": null,
      "grid_template_columns": null,
      "grid_template_rows": null,
      "height": null,
      "justify_content": null,
      "justify_items": null,
      "left": null,
      "margin": null,
      "max_height": null,
      "max_width": null,
      "min_height": null,
      "min_width": null,
      "object_fit": null,
      "object_position": null,
      "order": null,
      "overflow": null,
      "overflow_x": null,
      "overflow_y": null,
      "padding": null,
      "right": null,
      "top": null,
      "visibility": null,
      "width": null
     }
    },
    "8f17eddf421d44088fdb03211d89d12a": {
     "model_module": "@jupyter-widgets/controls",
     "model_module_version": "1.5.0",
     "model_name": "HBoxModel",
     "state": {
      "_dom_classes": [],
      "_model_module": "@jupyter-widgets/controls",
      "_model_module_version": "1.5.0",
      "_model_name": "HBoxModel",
      "_view_count": null,
      "_view_module": "@jupyter-widgets/controls",
      "_view_module_version": "1.5.0",
      "_view_name": "HBoxView",
      "box_style": "",
      "children": [
       "IPY_MODEL_cd7fc47891c24e5c8b137b962821377c",
       "IPY_MODEL_55a2033117a744959fd02dc7e4179c42",
       "IPY_MODEL_84f089ded19045baa7e446977adbf5ab"
      ],
      "layout": "IPY_MODEL_b002aa1e94c645faa648ff9889780b75"
     }
    },
    "9e25169352a04090940cea264ab46bad": {
     "model_module": "@jupyter-widgets/base",
     "model_module_version": "1.2.0",
     "model_name": "LayoutModel",
     "state": {
      "_model_module": "@jupyter-widgets/base",
      "_model_module_version": "1.2.0",
      "_model_name": "LayoutModel",
      "_view_count": null,
      "_view_module": "@jupyter-widgets/base",
      "_view_module_version": "1.2.0",
      "_view_name": "LayoutView",
      "align_content": null,
      "align_items": null,
      "align_self": null,
      "border": null,
      "bottom": null,
      "display": null,
      "flex": null,
      "flex_flow": null,
      "grid_area": null,
      "grid_auto_columns": null,
      "grid_auto_flow": null,
      "grid_auto_rows": null,
      "grid_column": null,
      "grid_gap": null,
      "grid_row": null,
      "grid_template_areas": null,
      "grid_template_columns": null,
      "grid_template_rows": null,
      "height": null,
      "justify_content": null,
      "justify_items": null,
      "left": null,
      "margin": null,
      "max_height": null,
      "max_width": null,
      "min_height": null,
      "min_width": null,
      "object_fit": null,
      "object_position": null,
      "order": null,
      "overflow": null,
      "overflow_x": null,
      "overflow_y": null,
      "padding": null,
      "right": null,
      "top": null,
      "visibility": null,
      "width": null
     }
    },
    "9f096b7da413490797da7586d80c0cd6": {
     "model_module": "@jupyter-widgets/controls",
     "model_module_version": "1.5.0",
     "model_name": "FloatProgressModel",
     "state": {
      "_dom_classes": [],
      "_model_module": "@jupyter-widgets/controls",
      "_model_module_version": "1.5.0",
      "_model_name": "FloatProgressModel",
      "_view_count": null,
      "_view_module": "@jupyter-widgets/controls",
      "_view_module_version": "1.5.0",
      "_view_name": "ProgressView",
      "bar_style": "success",
      "description": "",
      "description_tooltip": null,
      "layout": "IPY_MODEL_f7d1383a916a4520bc7b26dff61c0e9a",
      "max": 10,
      "min": 0,
      "orientation": "horizontal",
      "style": "IPY_MODEL_2aa78854b99b4cfbb2ba1b4d48154719",
      "value": 10
     }
    },
    "a0c476d153a048228e80c6cbfcd712ce": {
     "model_module": "@jupyter-widgets/controls",
     "model_module_version": "1.5.0",
     "model_name": "ProgressStyleModel",
     "state": {
      "_model_module": "@jupyter-widgets/controls",
      "_model_module_version": "1.5.0",
      "_model_name": "ProgressStyleModel",
      "_view_count": null,
      "_view_module": "@jupyter-widgets/base",
      "_view_module_version": "1.2.0",
      "_view_name": "StyleView",
      "bar_color": null,
      "description_width": ""
     }
    },
    "a225da241e65492c88ee69cc246f1bca": {
     "model_module": "@jupyter-widgets/controls",
     "model_module_version": "1.5.0",
     "model_name": "DescriptionStyleModel",
     "state": {
      "_model_module": "@jupyter-widgets/controls",
      "_model_module_version": "1.5.0",
      "_model_name": "DescriptionStyleModel",
      "_view_count": null,
      "_view_module": "@jupyter-widgets/base",
      "_view_module_version": "1.2.0",
      "_view_name": "StyleView",
      "description_width": ""
     }
    },
    "a39f26d0ac6a4eaa8a31d708d7f8056f": {
     "model_module": "@jupyter-widgets/controls",
     "model_module_version": "1.5.0",
     "model_name": "ProgressStyleModel",
     "state": {
      "_model_module": "@jupyter-widgets/controls",
      "_model_module_version": "1.5.0",
      "_model_name": "ProgressStyleModel",
      "_view_count": null,
      "_view_module": "@jupyter-widgets/base",
      "_view_module_version": "1.2.0",
      "_view_name": "StyleView",
      "bar_color": null,
      "description_width": ""
     }
    },
    "a651e4b39e06481fa438fc1af4a5b6ba": {
     "model_module": "@jupyter-widgets/controls",
     "model_module_version": "1.5.0",
     "model_name": "DescriptionStyleModel",
     "state": {
      "_model_module": "@jupyter-widgets/controls",
      "_model_module_version": "1.5.0",
      "_model_name": "DescriptionStyleModel",
      "_view_count": null,
      "_view_module": "@jupyter-widgets/base",
      "_view_module_version": "1.2.0",
      "_view_name": "StyleView",
      "description_width": ""
     }
    },
    "a679eeca3dde4f36a0bce31b30810a81": {
     "model_module": "@jupyter-widgets/base",
     "model_module_version": "1.2.0",
     "model_name": "LayoutModel",
     "state": {
      "_model_module": "@jupyter-widgets/base",
      "_model_module_version": "1.2.0",
      "_model_name": "LayoutModel",
      "_view_count": null,
      "_view_module": "@jupyter-widgets/base",
      "_view_module_version": "1.2.0",
      "_view_name": "LayoutView",
      "align_content": null,
      "align_items": null,
      "align_self": null,
      "border": null,
      "bottom": null,
      "display": null,
      "flex": null,
      "flex_flow": null,
      "grid_area": null,
      "grid_auto_columns": null,
      "grid_auto_flow": null,
      "grid_auto_rows": null,
      "grid_column": null,
      "grid_gap": null,
      "grid_row": null,
      "grid_template_areas": null,
      "grid_template_columns": null,
      "grid_template_rows": null,
      "height": null,
      "justify_content": null,
      "justify_items": null,
      "left": null,
      "margin": null,
      "max_height": null,
      "max_width": null,
      "min_height": null,
      "min_width": null,
      "object_fit": null,
      "object_position": null,
      "order": null,
      "overflow": null,
      "overflow_x": null,
      "overflow_y": null,
      "padding": null,
      "right": null,
      "top": null,
      "visibility": null,
      "width": null
     }
    },
    "a7a196d580e34341bb6677047521db2b": {
     "model_module": "@jupyter-widgets/controls",
     "model_module_version": "1.5.0",
     "model_name": "ProgressStyleModel",
     "state": {
      "_model_module": "@jupyter-widgets/controls",
      "_model_module_version": "1.5.0",
      "_model_name": "ProgressStyleModel",
      "_view_count": null,
      "_view_module": "@jupyter-widgets/base",
      "_view_module_version": "1.2.0",
      "_view_name": "StyleView",
      "bar_color": null,
      "description_width": ""
     }
    },
    "a9c54fbe365f480f9408752fb0bb9b9b": {
     "model_module": "@jupyter-widgets/controls",
     "model_module_version": "1.5.0",
     "model_name": "HTMLModel",
     "state": {
      "_dom_classes": [],
      "_model_module": "@jupyter-widgets/controls",
      "_model_module_version": "1.5.0",
      "_model_name": "HTMLModel",
      "_view_count": null,
      "_view_module": "@jupyter-widgets/controls",
      "_view_module_version": "1.5.0",
      "_view_name": "HTMLView",
      "description": "",
      "description_tooltip": null,
      "layout": "IPY_MODEL_aa9ca2a4d44c4d698f5143a46bc29218",
      "placeholder": "​",
      "style": "IPY_MODEL_43915c773aaa4ae3a41b9847b6bdfdae",
      "value": "Batches: 100%"
     }
    },
    "aa9ca2a4d44c4d698f5143a46bc29218": {
     "model_module": "@jupyter-widgets/base",
     "model_module_version": "1.2.0",
     "model_name": "LayoutModel",
     "state": {
      "_model_module": "@jupyter-widgets/base",
      "_model_module_version": "1.2.0",
      "_model_name": "LayoutModel",
      "_view_count": null,
      "_view_module": "@jupyter-widgets/base",
      "_view_module_version": "1.2.0",
      "_view_name": "LayoutView",
      "align_content": null,
      "align_items": null,
      "align_self": null,
      "border": null,
      "bottom": null,
      "display": null,
      "flex": null,
      "flex_flow": null,
      "grid_area": null,
      "grid_auto_columns": null,
      "grid_auto_flow": null,
      "grid_auto_rows": null,
      "grid_column": null,
      "grid_gap": null,
      "grid_row": null,
      "grid_template_areas": null,
      "grid_template_columns": null,
      "grid_template_rows": null,
      "height": null,
      "justify_content": null,
      "justify_items": null,
      "left": null,
      "margin": null,
      "max_height": null,
      "max_width": null,
      "min_height": null,
      "min_width": null,
      "object_fit": null,
      "object_position": null,
      "order": null,
      "overflow": null,
      "overflow_x": null,
      "overflow_y": null,
      "padding": null,
      "right": null,
      "top": null,
      "visibility": null,
      "width": null
     }
    },
    "acf5c3cf2f55423fbb2624f850f49db5": {
     "model_module": "@jupyter-widgets/controls",
     "model_module_version": "1.5.0",
     "model_name": "HBoxModel",
     "state": {
      "_dom_classes": [],
      "_model_module": "@jupyter-widgets/controls",
      "_model_module_version": "1.5.0",
      "_model_name": "HBoxModel",
      "_view_count": null,
      "_view_module": "@jupyter-widgets/controls",
      "_view_module_version": "1.5.0",
      "_view_name": "HBoxView",
      "box_style": "",
      "children": [
       "IPY_MODEL_a9c54fbe365f480f9408752fb0bb9b9b",
       "IPY_MODEL_ae8681bf3bbc4a0da1538b580f0ebbea",
       "IPY_MODEL_4b38530d54034c5192ea4f1f452bbd26"
      ],
      "layout": "IPY_MODEL_5813be26a276456db31271618f3a58c5"
     }
    },
    "ae8681bf3bbc4a0da1538b580f0ebbea": {
     "model_module": "@jupyter-widgets/controls",
     "model_module_version": "1.5.0",
     "model_name": "FloatProgressModel",
     "state": {
      "_dom_classes": [],
      "_model_module": "@jupyter-widgets/controls",
      "_model_module_version": "1.5.0",
      "_model_name": "FloatProgressModel",
      "_view_count": null,
      "_view_module": "@jupyter-widgets/controls",
      "_view_module_version": "1.5.0",
      "_view_name": "ProgressView",
      "bar_style": "success",
      "description": "",
      "description_tooltip": null,
      "layout": "IPY_MODEL_01b2071a14054820bf7572ddca99c09b",
      "max": 10,
      "min": 0,
      "orientation": "horizontal",
      "style": "IPY_MODEL_a0c476d153a048228e80c6cbfcd712ce",
      "value": 10
     }
    },
    "af559685733b4f4d93267e2cc481acbf": {
     "model_module": "@jupyter-widgets/controls",
     "model_module_version": "1.5.0",
     "model_name": "ProgressStyleModel",
     "state": {
      "_model_module": "@jupyter-widgets/controls",
      "_model_module_version": "1.5.0",
      "_model_name": "ProgressStyleModel",
      "_view_count": null,
      "_view_module": "@jupyter-widgets/base",
      "_view_module_version": "1.2.0",
      "_view_name": "StyleView",
      "bar_color": null,
      "description_width": ""
     }
    },
    "b002aa1e94c645faa648ff9889780b75": {
     "model_module": "@jupyter-widgets/base",
     "model_module_version": "1.2.0",
     "model_name": "LayoutModel",
     "state": {
      "_model_module": "@jupyter-widgets/base",
      "_model_module_version": "1.2.0",
      "_model_name": "LayoutModel",
      "_view_count": null,
      "_view_module": "@jupyter-widgets/base",
      "_view_module_version": "1.2.0",
      "_view_name": "LayoutView",
      "align_content": null,
      "align_items": null,
      "align_self": null,
      "border": null,
      "bottom": null,
      "display": null,
      "flex": null,
      "flex_flow": null,
      "grid_area": null,
      "grid_auto_columns": null,
      "grid_auto_flow": null,
      "grid_auto_rows": null,
      "grid_column": null,
      "grid_gap": null,
      "grid_row": null,
      "grid_template_areas": null,
      "grid_template_columns": null,
      "grid_template_rows": null,
      "height": null,
      "justify_content": null,
      "justify_items": null,
      "left": null,
      "margin": null,
      "max_height": null,
      "max_width": null,
      "min_height": null,
      "min_width": null,
      "object_fit": null,
      "object_position": null,
      "order": null,
      "overflow": null,
      "overflow_x": null,
      "overflow_y": null,
      "padding": null,
      "right": null,
      "top": null,
      "visibility": null,
      "width": null
     }
    },
    "b69f577dca724144a2774a1f06c77b22": {
     "model_module": "@jupyter-widgets/controls",
     "model_module_version": "1.5.0",
     "model_name": "FloatProgressModel",
     "state": {
      "_dom_classes": [],
      "_model_module": "@jupyter-widgets/controls",
      "_model_module_version": "1.5.0",
      "_model_name": "FloatProgressModel",
      "_view_count": null,
      "_view_module": "@jupyter-widgets/controls",
      "_view_module_version": "1.5.0",
      "_view_name": "ProgressView",
      "bar_style": "success",
      "description": "",
      "description_tooltip": null,
      "layout": "IPY_MODEL_dfd275fee85c4d6a998781797ffdcb31",
      "max": 10,
      "min": 0,
      "orientation": "horizontal",
      "style": "IPY_MODEL_4ed59a92f4c646a6841383acc31e063c",
      "value": 10
     }
    },
    "ba171ff28c1e4404a668dc5b3c99cbcb": {
     "model_module": "@jupyter-widgets/controls",
     "model_module_version": "1.5.0",
     "model_name": "HTMLModel",
     "state": {
      "_dom_classes": [],
      "_model_module": "@jupyter-widgets/controls",
      "_model_module_version": "1.5.0",
      "_model_name": "HTMLModel",
      "_view_count": null,
      "_view_module": "@jupyter-widgets/controls",
      "_view_module_version": "1.5.0",
      "_view_name": "HTMLView",
      "description": "",
      "description_tooltip": null,
      "layout": "IPY_MODEL_228eb1be332c4cb898d3de14f5524c30",
      "placeholder": "​",
      "style": "IPY_MODEL_25a495b325124b33bd066f36219799ba",
      "value": " 10/10 [00:00&lt;00:00, 11.89it/s]"
     }
    },
    "bc7aefce8ae64f28a7f0647325b769bd": {
     "model_module": "@jupyter-widgets/base",
     "model_module_version": "1.2.0",
     "model_name": "LayoutModel",
     "state": {
      "_model_module": "@jupyter-widgets/base",
      "_model_module_version": "1.2.0",
      "_model_name": "LayoutModel",
      "_view_count": null,
      "_view_module": "@jupyter-widgets/base",
      "_view_module_version": "1.2.0",
      "_view_name": "LayoutView",
      "align_content": null,
      "align_items": null,
      "align_self": null,
      "border": null,
      "bottom": null,
      "display": null,
      "flex": null,
      "flex_flow": null,
      "grid_area": null,
      "grid_auto_columns": null,
      "grid_auto_flow": null,
      "grid_auto_rows": null,
      "grid_column": null,
      "grid_gap": null,
      "grid_row": null,
      "grid_template_areas": null,
      "grid_template_columns": null,
      "grid_template_rows": null,
      "height": null,
      "justify_content": null,
      "justify_items": null,
      "left": null,
      "margin": null,
      "max_height": null,
      "max_width": null,
      "min_height": null,
      "min_width": null,
      "object_fit": null,
      "object_position": null,
      "order": null,
      "overflow": null,
      "overflow_x": null,
      "overflow_y": null,
      "padding": null,
      "right": null,
      "top": null,
      "visibility": null,
      "width": null
     }
    },
    "bca0ca7761e34dbca3eeb531ca1a1638": {
     "model_module": "@jupyter-widgets/controls",
     "model_module_version": "1.5.0",
     "model_name": "FloatProgressModel",
     "state": {
      "_dom_classes": [],
      "_model_module": "@jupyter-widgets/controls",
      "_model_module_version": "1.5.0",
      "_model_name": "FloatProgressModel",
      "_view_count": null,
      "_view_module": "@jupyter-widgets/controls",
      "_view_module_version": "1.5.0",
      "_view_name": "ProgressView",
      "bar_style": "success",
      "description": "",
      "description_tooltip": null,
      "layout": "IPY_MODEL_44f9c52ab74b45388dd5ffacbd635362",
      "max": 10,
      "min": 0,
      "orientation": "horizontal",
      "style": "IPY_MODEL_fd5f5ab9289740b6b195ea2ae2882f49",
      "value": 10
     }
    },
    "c250ad0798ad433280fdfb59658b8994": {
     "model_module": "@jupyter-widgets/controls",
     "model_module_version": "1.5.0",
     "model_name": "DescriptionStyleModel",
     "state": {
      "_model_module": "@jupyter-widgets/controls",
      "_model_module_version": "1.5.0",
      "_model_name": "DescriptionStyleModel",
      "_view_count": null,
      "_view_module": "@jupyter-widgets/base",
      "_view_module_version": "1.2.0",
      "_view_name": "StyleView",
      "description_width": ""
     }
    },
    "c74e2809efe54c4bbfb4add920c26322": {
     "model_module": "@jupyter-widgets/controls",
     "model_module_version": "1.5.0",
     "model_name": "HTMLModel",
     "state": {
      "_dom_classes": [],
      "_model_module": "@jupyter-widgets/controls",
      "_model_module_version": "1.5.0",
      "_model_name": "HTMLModel",
      "_view_count": null,
      "_view_module": "@jupyter-widgets/controls",
      "_view_module_version": "1.5.0",
      "_view_name": "HTMLView",
      "description": "",
      "description_tooltip": null,
      "layout": "IPY_MODEL_515aefed55dc437b8193c4995553c25f",
      "placeholder": "​",
      "style": "IPY_MODEL_a225da241e65492c88ee69cc246f1bca",
      "value": " 10/10 [00:00&lt;00:00, 16.14it/s]"
     }
    },
    "c769fc72dad14565a45de4e9c18ce104": {
     "model_module": "@jupyter-widgets/controls",
     "model_module_version": "1.5.0",
     "model_name": "HTMLModel",
     "state": {
      "_dom_classes": [],
      "_model_module": "@jupyter-widgets/controls",
      "_model_module_version": "1.5.0",
      "_model_name": "HTMLModel",
      "_view_count": null,
      "_view_module": "@jupyter-widgets/controls",
      "_view_module_version": "1.5.0",
      "_view_name": "HTMLView",
      "description": "",
      "description_tooltip": null,
      "layout": "IPY_MODEL_2f0ff2ec2d4a48078073a708e0b7f14a",
      "placeholder": "​",
      "style": "IPY_MODEL_805d7cd5e5dc4c85ae8af7e565698f68",
      "value": "Batches: 100%"
     }
    },
    "c7708eb3650047fa84418296858f6d5d": {
     "model_module": "@jupyter-widgets/controls",
     "model_module_version": "1.5.0",
     "model_name": "HBoxModel",
     "state": {
      "_dom_classes": [],
      "_model_module": "@jupyter-widgets/controls",
      "_model_module_version": "1.5.0",
      "_model_name": "HBoxModel",
      "_view_count": null,
      "_view_module": "@jupyter-widgets/controls",
      "_view_module_version": "1.5.0",
      "_view_name": "HBoxView",
      "box_style": "",
      "children": [
       "IPY_MODEL_2bfa3400c46c4872b8330def045b5cb7",
       "IPY_MODEL_7889de6e5d284cc1b5a69315b95f8afa",
       "IPY_MODEL_6b3749469888449d8a2fcd2b352022d7"
      ],
      "layout": "IPY_MODEL_51205de2b44540ef87d5b563556f6c42"
     }
    },
    "c9289e174fae4e4ea622cee1876701b6": {
     "model_module": "@jupyter-widgets/controls",
     "model_module_version": "1.5.0",
     "model_name": "HTMLModel",
     "state": {
      "_dom_classes": [],
      "_model_module": "@jupyter-widgets/controls",
      "_model_module_version": "1.5.0",
      "_model_name": "HTMLModel",
      "_view_count": null,
      "_view_module": "@jupyter-widgets/controls",
      "_view_module_version": "1.5.0",
      "_view_name": "HTMLView",
      "description": "",
      "description_tooltip": null,
      "layout": "IPY_MODEL_bc7aefce8ae64f28a7f0647325b769bd",
      "placeholder": "​",
      "style": "IPY_MODEL_a651e4b39e06481fa438fc1af4a5b6ba",
      "value": "Batches: 100%"
     }
    },
    "cc5010206a5b41e98b12779218265f9e": {
     "model_module": "@jupyter-widgets/base",
     "model_module_version": "1.2.0",
     "model_name": "LayoutModel",
     "state": {
      "_model_module": "@jupyter-widgets/base",
      "_model_module_version": "1.2.0",
      "_model_name": "LayoutModel",
      "_view_count": null,
      "_view_module": "@jupyter-widgets/base",
      "_view_module_version": "1.2.0",
      "_view_name": "LayoutView",
      "align_content": null,
      "align_items": null,
      "align_self": null,
      "border": null,
      "bottom": null,
      "display": null,
      "flex": null,
      "flex_flow": null,
      "grid_area": null,
      "grid_auto_columns": null,
      "grid_auto_flow": null,
      "grid_auto_rows": null,
      "grid_column": null,
      "grid_gap": null,
      "grid_row": null,
      "grid_template_areas": null,
      "grid_template_columns": null,
      "grid_template_rows": null,
      "height": null,
      "justify_content": null,
      "justify_items": null,
      "left": null,
      "margin": null,
      "max_height": null,
      "max_width": null,
      "min_height": null,
      "min_width": null,
      "object_fit": null,
      "object_position": null,
      "order": null,
      "overflow": null,
      "overflow_x": null,
      "overflow_y": null,
      "padding": null,
      "right": null,
      "top": null,
      "visibility": null,
      "width": null
     }
    },
    "cd7fc47891c24e5c8b137b962821377c": {
     "model_module": "@jupyter-widgets/controls",
     "model_module_version": "1.5.0",
     "model_name": "HTMLModel",
     "state": {
      "_dom_classes": [],
      "_model_module": "@jupyter-widgets/controls",
      "_model_module_version": "1.5.0",
      "_model_name": "HTMLModel",
      "_view_count": null,
      "_view_module": "@jupyter-widgets/controls",
      "_view_module_version": "1.5.0",
      "_view_name": "HTMLView",
      "description": "",
      "description_tooltip": null,
      "layout": "IPY_MODEL_f61d0c405a22478189012edd0deaea4a",
      "placeholder": "​",
      "style": "IPY_MODEL_880bd99cc27344e3b9d3c818b5513491",
      "value": "Batches: 100%"
     }
    },
    "d01d62d3453a41ae8cb2a0ee0c9e435d": {
     "model_module": "@jupyter-widgets/controls",
     "model_module_version": "1.5.0",
     "model_name": "HTMLModel",
     "state": {
      "_dom_classes": [],
      "_model_module": "@jupyter-widgets/controls",
      "_model_module_version": "1.5.0",
      "_model_name": "HTMLModel",
      "_view_count": null,
      "_view_module": "@jupyter-widgets/controls",
      "_view_module_version": "1.5.0",
      "_view_name": "HTMLView",
      "description": "",
      "description_tooltip": null,
      "layout": "IPY_MODEL_a679eeca3dde4f36a0bce31b30810a81",
      "placeholder": "​",
      "style": "IPY_MODEL_7aa3ea07646f462487b505945d98a0c2",
      "value": "Batches: 100%"
     }
    },
    "d1b7adfe2ad846e0ad47fd7c3a3f89fe": {
     "model_module": "@jupyter-widgets/controls",
     "model_module_version": "1.5.0",
     "model_name": "DescriptionStyleModel",
     "state": {
      "_model_module": "@jupyter-widgets/controls",
      "_model_module_version": "1.5.0",
      "_model_name": "DescriptionStyleModel",
      "_view_count": null,
      "_view_module": "@jupyter-widgets/base",
      "_view_module_version": "1.2.0",
      "_view_name": "StyleView",
      "description_width": ""
     }
    },
    "d2511611dfcb46179a46c0a71deaec6b": {
     "model_module": "@jupyter-widgets/base",
     "model_module_version": "1.2.0",
     "model_name": "LayoutModel",
     "state": {
      "_model_module": "@jupyter-widgets/base",
      "_model_module_version": "1.2.0",
      "_model_name": "LayoutModel",
      "_view_count": null,
      "_view_module": "@jupyter-widgets/base",
      "_view_module_version": "1.2.0",
      "_view_name": "LayoutView",
      "align_content": null,
      "align_items": null,
      "align_self": null,
      "border": null,
      "bottom": null,
      "display": null,
      "flex": null,
      "flex_flow": null,
      "grid_area": null,
      "grid_auto_columns": null,
      "grid_auto_flow": null,
      "grid_auto_rows": null,
      "grid_column": null,
      "grid_gap": null,
      "grid_row": null,
      "grid_template_areas": null,
      "grid_template_columns": null,
      "grid_template_rows": null,
      "height": null,
      "justify_content": null,
      "justify_items": null,
      "left": null,
      "margin": null,
      "max_height": null,
      "max_width": null,
      "min_height": null,
      "min_width": null,
      "object_fit": null,
      "object_position": null,
      "order": null,
      "overflow": null,
      "overflow_x": null,
      "overflow_y": null,
      "padding": null,
      "right": null,
      "top": null,
      "visibility": null,
      "width": null
     }
    },
    "d6a6b06840644eb999c19e39c234a2f2": {
     "model_module": "@jupyter-widgets/controls",
     "model_module_version": "1.5.0",
     "model_name": "DescriptionStyleModel",
     "state": {
      "_model_module": "@jupyter-widgets/controls",
      "_model_module_version": "1.5.0",
      "_model_name": "DescriptionStyleModel",
      "_view_count": null,
      "_view_module": "@jupyter-widgets/base",
      "_view_module_version": "1.2.0",
      "_view_name": "StyleView",
      "description_width": ""
     }
    },
    "db6a4a698a2344ceab63460f487ec1b7": {
     "model_module": "@jupyter-widgets/base",
     "model_module_version": "1.2.0",
     "model_name": "LayoutModel",
     "state": {
      "_model_module": "@jupyter-widgets/base",
      "_model_module_version": "1.2.0",
      "_model_name": "LayoutModel",
      "_view_count": null,
      "_view_module": "@jupyter-widgets/base",
      "_view_module_version": "1.2.0",
      "_view_name": "LayoutView",
      "align_content": null,
      "align_items": null,
      "align_self": null,
      "border": null,
      "bottom": null,
      "display": null,
      "flex": null,
      "flex_flow": null,
      "grid_area": null,
      "grid_auto_columns": null,
      "grid_auto_flow": null,
      "grid_auto_rows": null,
      "grid_column": null,
      "grid_gap": null,
      "grid_row": null,
      "grid_template_areas": null,
      "grid_template_columns": null,
      "grid_template_rows": null,
      "height": null,
      "justify_content": null,
      "justify_items": null,
      "left": null,
      "margin": null,
      "max_height": null,
      "max_width": null,
      "min_height": null,
      "min_width": null,
      "object_fit": null,
      "object_position": null,
      "order": null,
      "overflow": null,
      "overflow_x": null,
      "overflow_y": null,
      "padding": null,
      "right": null,
      "top": null,
      "visibility": null,
      "width": null
     }
    },
    "deac8930d92e44028acd82dfba7191a2": {
     "model_module": "@jupyter-widgets/controls",
     "model_module_version": "1.5.0",
     "model_name": "FloatProgressModel",
     "state": {
      "_dom_classes": [],
      "_model_module": "@jupyter-widgets/controls",
      "_model_module_version": "1.5.0",
      "_model_name": "FloatProgressModel",
      "_view_count": null,
      "_view_module": "@jupyter-widgets/controls",
      "_view_module_version": "1.5.0",
      "_view_name": "ProgressView",
      "bar_style": "success",
      "description": "",
      "description_tooltip": null,
      "layout": "IPY_MODEL_6ba4882ad8a0414ca8e35e3781b6db92",
      "max": 10,
      "min": 0,
      "orientation": "horizontal",
      "style": "IPY_MODEL_af559685733b4f4d93267e2cc481acbf",
      "value": 10
     }
    },
    "dfd275fee85c4d6a998781797ffdcb31": {
     "model_module": "@jupyter-widgets/base",
     "model_module_version": "1.2.0",
     "model_name": "LayoutModel",
     "state": {
      "_model_module": "@jupyter-widgets/base",
      "_model_module_version": "1.2.0",
      "_model_name": "LayoutModel",
      "_view_count": null,
      "_view_module": "@jupyter-widgets/base",
      "_view_module_version": "1.2.0",
      "_view_name": "LayoutView",
      "align_content": null,
      "align_items": null,
      "align_self": null,
      "border": null,
      "bottom": null,
      "display": null,
      "flex": null,
      "flex_flow": null,
      "grid_area": null,
      "grid_auto_columns": null,
      "grid_auto_flow": null,
      "grid_auto_rows": null,
      "grid_column": null,
      "grid_gap": null,
      "grid_row": null,
      "grid_template_areas": null,
      "grid_template_columns": null,
      "grid_template_rows": null,
      "height": null,
      "justify_content": null,
      "justify_items": null,
      "left": null,
      "margin": null,
      "max_height": null,
      "max_width": null,
      "min_height": null,
      "min_width": null,
      "object_fit": null,
      "object_position": null,
      "order": null,
      "overflow": null,
      "overflow_x": null,
      "overflow_y": null,
      "padding": null,
      "right": null,
      "top": null,
      "visibility": null,
      "width": null
     }
    },
    "e030a6aef5cf4aa8ab827ae53b0ec757": {
     "model_module": "@jupyter-widgets/controls",
     "model_module_version": "1.5.0",
     "model_name": "HBoxModel",
     "state": {
      "_dom_classes": [],
      "_model_module": "@jupyter-widgets/controls",
      "_model_module_version": "1.5.0",
      "_model_name": "HBoxModel",
      "_view_count": null,
      "_view_module": "@jupyter-widgets/controls",
      "_view_module_version": "1.5.0",
      "_view_name": "HBoxView",
      "box_style": "",
      "children": [
       "IPY_MODEL_c769fc72dad14565a45de4e9c18ce104",
       "IPY_MODEL_1c4c43525f7343c29b53e1280fc1ad5a",
       "IPY_MODEL_804bef47421846a6bb5f79ed3dfc1666"
      ],
      "layout": "IPY_MODEL_d2511611dfcb46179a46c0a71deaec6b"
     }
    },
    "e1cea41a593f48a1a69e2fce6d07a0f0": {
     "model_module": "@jupyter-widgets/controls",
     "model_module_version": "1.5.0",
     "model_name": "DescriptionStyleModel",
     "state": {
      "_model_module": "@jupyter-widgets/controls",
      "_model_module_version": "1.5.0",
      "_model_name": "DescriptionStyleModel",
      "_view_count": null,
      "_view_module": "@jupyter-widgets/base",
      "_view_module_version": "1.2.0",
      "_view_name": "StyleView",
      "description_width": ""
     }
    },
    "e4274cc1d42247b89f8ff9de990eb3fa": {
     "model_module": "@jupyter-widgets/base",
     "model_module_version": "1.2.0",
     "model_name": "LayoutModel",
     "state": {
      "_model_module": "@jupyter-widgets/base",
      "_model_module_version": "1.2.0",
      "_model_name": "LayoutModel",
      "_view_count": null,
      "_view_module": "@jupyter-widgets/base",
      "_view_module_version": "1.2.0",
      "_view_name": "LayoutView",
      "align_content": null,
      "align_items": null,
      "align_self": null,
      "border": null,
      "bottom": null,
      "display": null,
      "flex": null,
      "flex_flow": null,
      "grid_area": null,
      "grid_auto_columns": null,
      "grid_auto_flow": null,
      "grid_auto_rows": null,
      "grid_column": null,
      "grid_gap": null,
      "grid_row": null,
      "grid_template_areas": null,
      "grid_template_columns": null,
      "grid_template_rows": null,
      "height": null,
      "justify_content": null,
      "justify_items": null,
      "left": null,
      "margin": null,
      "max_height": null,
      "max_width": null,
      "min_height": null,
      "min_width": null,
      "object_fit": null,
      "object_position": null,
      "order": null,
      "overflow": null,
      "overflow_x": null,
      "overflow_y": null,
      "padding": null,
      "right": null,
      "top": null,
      "visibility": null,
      "width": null
     }
    },
    "e9f00e5b300e491e9a8ff52a4bf2a2ca": {
     "model_module": "@jupyter-widgets/controls",
     "model_module_version": "1.5.0",
     "model_name": "HTMLModel",
     "state": {
      "_dom_classes": [],
      "_model_module": "@jupyter-widgets/controls",
      "_model_module_version": "1.5.0",
      "_model_name": "HTMLModel",
      "_view_count": null,
      "_view_module": "@jupyter-widgets/controls",
      "_view_module_version": "1.5.0",
      "_view_name": "HTMLView",
      "description": "",
      "description_tooltip": null,
      "layout": "IPY_MODEL_4b8bca1ca33743678221d7ed338a2729",
      "placeholder": "​",
      "style": "IPY_MODEL_3fd652f90ff84f779ba51d7e6b5825e7",
      "value": " 10/10 [00:00&lt;00:00, 21.87it/s]"
     }
    },
    "f095fa8279984f098d58ef7fa36c1fc9": {
     "model_module": "@jupyter-widgets/base",
     "model_module_version": "1.2.0",
     "model_name": "LayoutModel",
     "state": {
      "_model_module": "@jupyter-widgets/base",
      "_model_module_version": "1.2.0",
      "_model_name": "LayoutModel",
      "_view_count": null,
      "_view_module": "@jupyter-widgets/base",
      "_view_module_version": "1.2.0",
      "_view_name": "LayoutView",
      "align_content": null,
      "align_items": null,
      "align_self": null,
      "border": null,
      "bottom": null,
      "display": null,
      "flex": null,
      "flex_flow": null,
      "grid_area": null,
      "grid_auto_columns": null,
      "grid_auto_flow": null,
      "grid_auto_rows": null,
      "grid_column": null,
      "grid_gap": null,
      "grid_row": null,
      "grid_template_areas": null,
      "grid_template_columns": null,
      "grid_template_rows": null,
      "height": null,
      "justify_content": null,
      "justify_items": null,
      "left": null,
      "margin": null,
      "max_height": null,
      "max_width": null,
      "min_height": null,
      "min_width": null,
      "object_fit": null,
      "object_position": null,
      "order": null,
      "overflow": null,
      "overflow_x": null,
      "overflow_y": null,
      "padding": null,
      "right": null,
      "top": null,
      "visibility": null,
      "width": null
     }
    },
    "f61d0c405a22478189012edd0deaea4a": {
     "model_module": "@jupyter-widgets/base",
     "model_module_version": "1.2.0",
     "model_name": "LayoutModel",
     "state": {
      "_model_module": "@jupyter-widgets/base",
      "_model_module_version": "1.2.0",
      "_model_name": "LayoutModel",
      "_view_count": null,
      "_view_module": "@jupyter-widgets/base",
      "_view_module_version": "1.2.0",
      "_view_name": "LayoutView",
      "align_content": null,
      "align_items": null,
      "align_self": null,
      "border": null,
      "bottom": null,
      "display": null,
      "flex": null,
      "flex_flow": null,
      "grid_area": null,
      "grid_auto_columns": null,
      "grid_auto_flow": null,
      "grid_auto_rows": null,
      "grid_column": null,
      "grid_gap": null,
      "grid_row": null,
      "grid_template_areas": null,
      "grid_template_columns": null,
      "grid_template_rows": null,
      "height": null,
      "justify_content": null,
      "justify_items": null,
      "left": null,
      "margin": null,
      "max_height": null,
      "max_width": null,
      "min_height": null,
      "min_width": null,
      "object_fit": null,
      "object_position": null,
      "order": null,
      "overflow": null,
      "overflow_x": null,
      "overflow_y": null,
      "padding": null,
      "right": null,
      "top": null,
      "visibility": null,
      "width": null
     }
    },
    "f7d1383a916a4520bc7b26dff61c0e9a": {
     "model_module": "@jupyter-widgets/base",
     "model_module_version": "1.2.0",
     "model_name": "LayoutModel",
     "state": {
      "_model_module": "@jupyter-widgets/base",
      "_model_module_version": "1.2.0",
      "_model_name": "LayoutModel",
      "_view_count": null,
      "_view_module": "@jupyter-widgets/base",
      "_view_module_version": "1.2.0",
      "_view_name": "LayoutView",
      "align_content": null,
      "align_items": null,
      "align_self": null,
      "border": null,
      "bottom": null,
      "display": null,
      "flex": null,
      "flex_flow": null,
      "grid_area": null,
      "grid_auto_columns": null,
      "grid_auto_flow": null,
      "grid_auto_rows": null,
      "grid_column": null,
      "grid_gap": null,
      "grid_row": null,
      "grid_template_areas": null,
      "grid_template_columns": null,
      "grid_template_rows": null,
      "height": null,
      "justify_content": null,
      "justify_items": null,
      "left": null,
      "margin": null,
      "max_height": null,
      "max_width": null,
      "min_height": null,
      "min_width": null,
      "object_fit": null,
      "object_position": null,
      "order": null,
      "overflow": null,
      "overflow_x": null,
      "overflow_y": null,
      "padding": null,
      "right": null,
      "top": null,
      "visibility": null,
      "width": null
     }
    },
    "fa9d284d5626439097a433f3fdceb649": {
     "model_module": "@jupyter-widgets/controls",
     "model_module_version": "1.5.0",
     "model_name": "ProgressStyleModel",
     "state": {
      "_model_module": "@jupyter-widgets/controls",
      "_model_module_version": "1.5.0",
      "_model_name": "ProgressStyleModel",
      "_view_count": null,
      "_view_module": "@jupyter-widgets/base",
      "_view_module_version": "1.2.0",
      "_view_name": "StyleView",
      "bar_color": null,
      "description_width": ""
     }
    },
    "faba96e4026a4e84ad2cb8c30527bad6": {
     "model_module": "@jupyter-widgets/controls",
     "model_module_version": "1.5.0",
     "model_name": "DescriptionStyleModel",
     "state": {
      "_model_module": "@jupyter-widgets/controls",
      "_model_module_version": "1.5.0",
      "_model_name": "DescriptionStyleModel",
      "_view_count": null,
      "_view_module": "@jupyter-widgets/base",
      "_view_module_version": "1.2.0",
      "_view_name": "StyleView",
      "description_width": ""
     }
    },
    "fd5f5ab9289740b6b195ea2ae2882f49": {
     "model_module": "@jupyter-widgets/controls",
     "model_module_version": "1.5.0",
     "model_name": "ProgressStyleModel",
     "state": {
      "_model_module": "@jupyter-widgets/controls",
      "_model_module_version": "1.5.0",
      "_model_name": "ProgressStyleModel",
      "_view_count": null,
      "_view_module": "@jupyter-widgets/base",
      "_view_module_version": "1.2.0",
      "_view_name": "StyleView",
      "bar_color": null,
      "description_width": ""
     }
    },
    "ff1583c20665428da4da2d83edd48ab6": {
     "model_module": "@jupyter-widgets/base",
     "model_module_version": "1.2.0",
     "model_name": "LayoutModel",
     "state": {
      "_model_module": "@jupyter-widgets/base",
      "_model_module_version": "1.2.0",
      "_model_name": "LayoutModel",
      "_view_count": null,
      "_view_module": "@jupyter-widgets/base",
      "_view_module_version": "1.2.0",
      "_view_name": "LayoutView",
      "align_content": null,
      "align_items": null,
      "align_self": null,
      "border": null,
      "bottom": null,
      "display": null,
      "flex": null,
      "flex_flow": null,
      "grid_area": null,
      "grid_auto_columns": null,
      "grid_auto_flow": null,
      "grid_auto_rows": null,
      "grid_column": null,
      "grid_gap": null,
      "grid_row": null,
      "grid_template_areas": null,
      "grid_template_columns": null,
      "grid_template_rows": null,
      "height": null,
      "justify_content": null,
      "justify_items": null,
      "left": null,
      "margin": null,
      "max_height": null,
      "max_width": null,
      "min_height": null,
      "min_width": null,
      "object_fit": null,
      "object_position": null,
      "order": null,
      "overflow": null,
      "overflow_x": null,
      "overflow_y": null,
      "padding": null,
      "right": null,
      "top": null,
      "visibility": null,
      "width": null
     }
    },
    "ff199bfd4d7d44c789192ab6ed13c873": {
     "model_module": "@jupyter-widgets/controls",
     "model_module_version": "1.5.0",
     "model_name": "DescriptionStyleModel",
     "state": {
      "_model_module": "@jupyter-widgets/controls",
      "_model_module_version": "1.5.0",
      "_model_name": "DescriptionStyleModel",
      "_view_count": null,
      "_view_module": "@jupyter-widgets/base",
      "_view_module_version": "1.2.0",
      "_view_name": "StyleView",
      "description_width": ""
     }
    }
   }
  }
 },
 "nbformat": 4,
 "nbformat_minor": 4
}
