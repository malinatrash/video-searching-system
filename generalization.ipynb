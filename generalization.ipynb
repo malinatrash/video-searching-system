{
 "cells": [
  {
   "cell_type": "code",
   "execution_count": 1,
   "metadata": {},
   "outputs": [
    {
     "name": "stdout",
     "output_type": "stream",
     "text": [
      "MoviePy - Writing audio in output.mp3\n"
     ]
    },
    {
     "name": "stderr",
     "output_type": "stream",
     "text": [
      "                                                                      \r"
     ]
    },
    {
     "name": "stdout",
     "output_type": "stream",
     "text": [
      "MoviePy - Done.\n",
      "Загрузка аудио завершена\n"
     ]
    }
   ],
   "source": [
    "from pytube import YouTube\n",
    "from moviepy.editor import *\n",
    "\n",
    "def download_youtube_audio(youtube_url, mp3_file):\n",
    "    yt = YouTube(youtube_url)\n",
    "    video = yt.streams.filter(only_audio=True).first()\n",
    "    video.download(filename='temp_audio.mp4')  # аудио без видео в формате временного файла\n",
    "    video_path = 'temp_audio.mp4'\n",
    "\n",
    "    # Конвертируем скачанный аудиофайл в MP3\n",
    "    audio = AudioFileClip(video_path)\n",
    "    audio.write_audiofile(mp3_file)\n",
    "\n",
    "    # Удаляем временный файл\n",
    "    os.remove(video_path)\n",
    "    print(\"Загрузка аудио завершена\")\n",
    "\n",
    "download_youtube_audio('https://www.youtube.com/watch?v=nsUhnGIzNQs', 'output.mp3')"
   ]
  },
  {
   "cell_type": "code",
   "execution_count": 2,
   "metadata": {},
   "outputs": [
    {
     "name": "stdout",
     "output_type": "stream",
     "text": [
      "Здравствуйте дорогие друзья мы продолжаем цикл передач Что такое телефон нужен зачем чтобы звонить чтобы отправить сообщение liston интернет слушать музыку и так далее В основном что звонить и чтобы отправить сообщение Вот например в Самсунге в телефоне вот в этом встроенная антенна вот тут вот с помощью которой это всё передаётся на станцию наших домов через станцию на другую планету от планеты там стоит специальная тарелка от тарелки передаются это всё к спутнику и потом человеку которому Видите какая сложная система Ну ладно ничего страшного Самое главное поняли что можно делать на телефоне До свидания до новых встреч\n"
     ]
    }
   ],
   "source": [
    "import speech_recognition as sr\n",
    "from pydub import AudioSegment\n",
    "import speech_recognition as sr\n",
    "\n",
    "def convert_mp3_to_wav(mp3_file, wav_file):\n",
    "    sound = AudioSegment.from_mp3(mp3_file)\n",
    "    sound.export(wav_file, format=\"wav\")\n",
    "\n",
    "def transcribe_audio(audio_file):\n",
    "    recognizer = sr.Recognizer()\n",
    "    with sr.AudioFile(audio_file) as source:\n",
    "        audio = recognizer.record(source)\n",
    "        try:\n",
    "            text = recognizer.recognize_google(audio, language='ru-RU')\n",
    "            return text\n",
    "        except sr.UnknownValueError:\n",
    "            return \"Не удалось распознать речь\"\n",
    "        except sr.RequestError:\n",
    "            return \"Ошибка сервиса распознавания\"\n",
    "\n",
    "convert_mp3_to_wav('output.mp3', 'output.wav')\n",
    "\n",
    "output_text = transcribe_audio('output.wav')\n",
    "print(output_text)\n"
   ]
  },
  {
   "cell_type": "code",
   "execution_count": 3,
   "metadata": {},
   "outputs": [
    {
     "name": "stdout",
     "output_type": "stream",
     "text": [
      "628\n"
     ]
    }
   ],
   "source": [
    "print(len(output_text))"
   ]
  },
  {
   "cell_type": "code",
   "execution_count": 9,
   "metadata": {},
   "outputs": [
    {
     "name": "stdout",
     "output_type": "stream",
     "text": [
      "звонить отправить сообщение звонить отправить сообщение телефоне\n"
     ]
    },
    {
     "name": "stderr",
     "output_type": "stream",
     "text": [
      "[nltk_data] Downloading package punkt to\n",
      "[nltk_data]     /Users/malinatrash/nltk_data...\n",
      "[nltk_data]   Package punkt is already up-to-date!\n",
      "[nltk_data] Downloading package stopwords to\n",
      "[nltk_data]     /Users/malinatrash/nltk_data...\n",
      "[nltk_data]   Package stopwords is already up-to-date!\n"
     ]
    }
   ],
   "source": [
    "import nltk\n",
    "from nltk.tokenize import word_tokenize\n",
    "from nltk.corpus import stopwords\n",
    "from collections import defaultdict\n",
    "from heapq import nlargest\n",
    "\n",
    "nltk.download('punkt')\n",
    "nltk.download('stopwords')\n",
    "\n",
    "def summarize_text_russian_by_words(text, word_count):\n",
    "    # Предобработка текста: токенизация, удаление стоп-слов и подсчёт частоты слов\n",
    "    words = word_tokenize(text.lower(), 'russian')\n",
    "    stopwords_set = set(stopwords.words(\"russian\"))\n",
    "    words = [word for word in words if word.isalnum() and word not in stopwords_set]\n",
    "    word_freq = defaultdict(int)\n",
    "\n",
    "    for word in words:\n",
    "        word_freq[word] += 1\n",
    "\n",
    "    # Определение важности предложений на основе суммы весов слов в каждом предложении\n",
    "    ranking = defaultdict(int)\n",
    "    for i, word in enumerate(words):\n",
    "        if word in word_freq:\n",
    "            ranking[i] += word_freq[word]\n",
    "\n",
    "    # Выбор наиболее важных слов для суммаризации\n",
    "    indexes = nlargest(word_count, ranking, key=ranking.get)\n",
    "    summary_words = [words[j] for j in sorted(indexes)]\n",
    "\n",
    "    return ' '.join(summary_words)\n",
    "\n",
    "# Пример использования\n",
    "text = output_text\n",
    "summary = summarize_text_russian_by_words(text, 50)  # желаемое количество слов в суммаризации\n",
    "print(summary)\n"
   ]
  }
 ],
 "metadata": {
  "kernelspec": {
   "display_name": "base",
   "language": "python",
   "name": "python3"
  },
  "language_info": {
   "codemirror_mode": {
    "name": "ipython",
    "version": 3
   },
   "file_extension": ".py",
   "mimetype": "text/x-python",
   "name": "python",
   "nbconvert_exporter": "python",
   "pygments_lexer": "ipython3",
   "version": "3.11.3"
  }
 },
 "nbformat": 4,
 "nbformat_minor": 2
}
